{
 "cells": [
  {
   "cell_type": "code",
   "execution_count": 44,
   "id": "ce25d2bb",
   "metadata": {},
   "outputs": [],
   "source": [
    "#!pip install pydmd\n",
    "\n",
    "import pydmd\n",
    "\n",
    "%run DMD_functions.ipynb\n",
    "%run fDMD_functions.ipynb"
   ]
  },
  {
   "cell_type": "code",
   "execution_count": 45,
   "id": "43cdb5be",
   "metadata": {},
   "outputs": [],
   "source": [
    "def f1(x,t):\n",
    "    return 1/np.cosh(x+3)*np.exp(t*2.3j)\n",
    "\n",
    "def f2(x,t):\n",
    "    return 2/np.cosh(x)*np.tanh(x)*np.exp(t*2.8j)\n",
    "\n",
    "def f(x,t,mu):\n",
    "    return mu*f1(x,t)+(1-mu)*f2(x,t)"
   ]
  },
  {
   "cell_type": "code",
   "execution_count": 46,
   "id": "89fc39ca",
   "metadata": {},
   "outputs": [
    {
     "data": {
      "text/plain": [
       "array([0. , 0.1, 0.2, 0.3, 0.4, 0.5, 0.6, 0.7, 0.8, 0.9])"
      ]
     },
     "execution_count": 46,
     "metadata": {},
     "output_type": "execute_result"
    }
   ],
   "source": [
    "n_time=129\n",
    "n_space=5000\n",
    "\n",
    "x = np.linspace(-10,10, n_space)\n",
    "t = np.linspace(0,4*np.pi, n_time)\n",
    "\n",
    "xgrid, tgrid = np.meshgrid(x,t)\n",
    "\n",
    "known_parameters = np.linspace(0,0.9, 10)\n",
    "known_parameters\n"
   ]
  },
  {
   "cell_type": "code",
   "execution_count": 47,
   "id": "e2096f4a",
   "metadata": {},
   "outputs": [
    {
     "name": "stdout",
     "output_type": "stream",
     "text": [
      "(129, 5000) (129, 5000)\n"
     ]
    }
   ],
   "source": [
    "print(xgrid.shape, tgrid.shape)\n",
    "#prvo xgrid raste, tgrid stoji na 0, pa onda x grid sve ispočetka, tgrid 1,...\n",
    "#ja hoću manji t za streaming, tako da treba otkačiti zadnji dio x-a i zadnji dio t-a\n",
    "\n",
    "xsmall = xgrid[:100,:]\n",
    "tsmall = tgrid[:100,:]"
   ]
  },
  {
   "cell_type": "code",
   "execution_count": 48,
   "id": "6d052dd0",
   "metadata": {},
   "outputs": [
    {
     "name": "stdout",
     "output_type": "stream",
     "text": [
      "(10, 5000, 129)\n"
     ]
    }
   ],
   "source": [
    "snapshots = np.stack(\n",
    "    [f(x=xgrid, t=tgrid, mu=p).T for p in known_parameters]\n",
    ")\n",
    "\n",
    "print(snapshots.shape)\n"
   ]
  },
  {
   "cell_type": "code",
   "execution_count": 49,
   "id": "24f2044d",
   "metadata": {},
   "outputs": [
    {
     "name": "stdout",
     "output_type": "stream",
     "text": [
      "(5000, 1000)\n"
     ]
    }
   ],
   "source": [
    "num_beg = 100\n",
    "x1 = np.hstack([snapshots[:,:,i].T for i in range(num_beg)])\n",
    "\n",
    "#provjera je li ok formirano\n",
    "print(x1.shape)\n",
    "np.allclose(x1[:,13],snapshots[3,:,1])\n",
    "#izgleda da je.\n",
    "\n",
    "Z, Lambda, r, Q, R = GEDMDQ(x1, 1e-8)"
   ]
  },
  {
   "cell_type": "code",
   "execution_count": 50,
   "id": "656f9b1a",
   "metadata": {},
   "outputs": [
    {
     "data": {
      "image/png": "[encoded data removed]",
      "text/plain": [
       "<Figure size 640x480 with 1 Axes>"
      ]
     },
     "metadata": {},
     "output_type": "display_data"
    }
   ],
   "source": [
    "U, Sigma, _ = np.linalg.svd(R)\n",
    "plt.plot([[i] for i in range(10)], Sigma[:10])\n",
    "plt.yscale('log')\n",
    "\n",
    "#kao sto i znamo, samo dvije vrijednosti su nam dosta\n",
    "\n",
    "U=U[:,:2]\n",
    "del(Sigma)"
   ]
  },
  {
   "cell_type": "code",
   "execution_count": 51,
   "id": "9668fc22",
   "metadata": {},
   "outputs": [
    {
     "name": "stdout",
     "output_type": "stream",
     "text": [
      "(2, 1000)\n"
     ]
    }
   ],
   "source": [
    "num_pars = 10\n",
    "n_small_time = 100\n",
    "for i in range(num_pars):\n",
    "    indices_r = np.arange(i, (n_small_time-1)*num_pars + i+1, num_pars)\n",
    "    rr = R[:,indices_r]\n",
    "    if(not i):\n",
    "        x2 = U.T@rr\n",
    "    else:\n",
    "        x2 = np.hstack((x2, U.T@rr))\n",
    "\n",
    "print(x2.shape)"
   ]
  },
  {
   "cell_type": "code",
   "execution_count": 52,
   "id": "9a71d393",
   "metadata": {},
   "outputs": [],
   "source": [
    "Z, Lambda = DMD(x2[:,:-10], x2[:,10:], tol=1e-8)\n",
    "\n",
    "#sad tu treba podijeliti z na dijelove,...\n",
    "#Z_list = np.split(Z, )"
   ]
  },
  {
   "cell_type": "code",
   "execution_count": 53,
   "id": "6c35c874",
   "metadata": {},
   "outputs": [
    {
     "name": "stdout",
     "output_type": "stream",
     "text": [
      "0\n",
      "1\n",
      "2\n",
      "3\n",
      "4\n",
      "5\n",
      "6\n",
      "7\n",
      "8\n",
      "9\n",
      "10\n",
      "11\n",
      "12\n",
      "13\n",
      "14\n",
      "15\n",
      "16\n",
      "17\n",
      "18\n",
      "19\n",
      "20\n",
      "21\n",
      "22\n",
      "23\n",
      "24\n",
      "25\n",
      "26\n",
      "27\n",
      "28\n"
     ]
    }
   ],
   "source": [
    "for i in range(29):\n",
    "    print(i)\n",
    "    Z, Lambda, r, Q, R = DMD_added_snap(snapshots[:,:,num_beg+i].T, Q, R, tol=1e-8)"
   ]
  },
  {
   "cell_type": "code",
   "execution_count": 54,
   "id": "abb4d278",
   "metadata": {},
   "outputs": [
    {
     "name": "stdout",
     "output_type": "stream",
     "text": [
      "(2, 1290)\n"
     ]
    },
    {
     "data": {
      "image/png": "[encoded data removed]",
      "text/plain": [
       "<Figure size 640x480 with 1 Axes>"
      ]
     },
     "metadata": {},
     "output_type": "display_data"
    }
   ],
   "source": [
    "U, Sigma, _ = np.linalg.svd(R)\n",
    "plt.plot([[i] for i in range(10)], Sigma[:10])\n",
    "plt.yscale('log')\n",
    "\n",
    "#kao sto i znamo, samo dvije vrijednosti su nam dosta\n",
    "\n",
    "U=U[:,:2]\n",
    "del(Sigma)\n",
    "\n",
    "num_pars = 10\n",
    "for i in range(num_pars):\n",
    "    indices_r = np.arange(i, (n_time-1)*num_pars + i+1, num_pars)\n",
    "    rr = R[:,indices_r]\n",
    "    if(not i):\n",
    "        x2 = U.T@rr\n",
    "    else:\n",
    "        x2 = np.hstack((x2, U.T@rr))\n",
    "\n",
    "print(x2.shape)"
   ]
  },
  {
   "cell_type": "code",
   "execution_count": 55,
   "id": "e8a5677f",
   "metadata": {},
   "outputs": [
    {
     "name": "stdout",
     "output_type": "stream",
     "text": [
      "(5000, 1290)\n"
     ]
    },
    {
     "data": {
      "image/png": "[encoded data removed]",
      "text/plain": [
       "<Figure size 640x480 with 1 Axes>"
      ]
     },
     "metadata": {},
     "output_type": "display_data"
    }
   ],
   "source": [
    "x11 = np.hstack([snapshots[i,:,:] for i in range(num_pars)])\n",
    "print(x11.shape)\n",
    "\n",
    "#provjera je li dobro složeno\n",
    "#print(np.allclose(x11[:,129], snapshots[1,:,0]))\n",
    "\n",
    "#batch data\n",
    "U_b, Sigma, _ = np.linalg.svd(x11) ###OVO JE DOSTA SPORIJE NEGO ZA NAS MALI R \n",
    "plt.plot([[i] for i in range(10)], Sigma[:10])\n",
    "plt.yscale('log')\n",
    "\n",
    "#kao sto i znamo, samo dvije vrijednosti su nam dosta\n",
    "\n",
    "U_b=U_b[:,:2]\n",
    "del(Sigma)"
   ]
  },
  {
   "cell_type": "code",
   "execution_count": 58,
   "id": "7d70185e",
   "metadata": {},
   "outputs": [
    {
     "name": "stdout",
     "output_type": "stream",
     "text": [
      "(2, 1290)\n"
     ]
    }
   ],
   "source": [
    "for i in range(num_pars):\n",
    "    if (not i):\n",
    "        x2_b = U_b.T@x11[:,:n_time]\n",
    "    else:\n",
    "        x2_b = np.hstack((x2_b, U_b.T@x11[:,i*n_time:(i+1)*n_time]))\n",
    "\n",
    "print(x2_b.shape)"
   ]
  },
  {
   "cell_type": "code",
   "execution_count": 69,
   "id": "c2a642da",
   "metadata": {},
   "outputs": [
    {
     "name": "stdout",
     "output_type": "stream",
     "text": [
      "True\n",
      "True\n"
     ]
    }
   ],
   "source": [
    "print(np.allclose(x2[0,:], x2_b[0,:]))\n",
    "print(np.allclose(x2[1,:], -x2_b[1,:])) #kad se uzme u obzir da je drugi sv vektor - prvi sv. vektor\n"
   ]
  },
  {
   "cell_type": "code",
   "execution_count": null,
   "id": "f66fafe2",
   "metadata": {},
   "outputs": [
    {
     "data": {
      "text/plain": [
       "array([[ 1.00000000e+00+7.87023775e-17j,  1.13211737e-15+2.75085623e-16j],\n",
       "       [ 1.25456286e-15-2.73138082e-16j, -1.00000000e+00-9.62285825e-16j]])"
      ]
     },
     "execution_count": 67,
     "metadata": {},
     "output_type": "execute_result"
    }
   ],
   "source": [
    "(Q@U).T@U_b #matrica je dijagonalna s elementima 1 i -1, dakle drugi stupac gleda u \"drugom\" smjeru\n"
   ]
  }
 ],
 "metadata": {
  "kernelspec": {
   "display_name": "Python 3",
   "language": "python",
   "name": "python3"
  },
  "language_info": {
   "codemirror_mode": {
    "name": "ipython",
    "version": 3
   },
   "file_extension": ".py",
   "mimetype": "text/x-python",
   "name": "python",
   "nbconvert_exporter": "python",
   "pygments_lexer": "ipython3",
   "version": "3.10.11"
  }
 },
 "nbformat": 4,
 "nbformat_minor": 5
}

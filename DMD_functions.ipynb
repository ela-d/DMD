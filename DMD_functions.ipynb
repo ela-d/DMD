{
 "cells": [
  {
   "cell_type": "code",
   "execution_count": null,
   "metadata": {},
   "outputs": [],
   "source": [
    "import numpy as np\n",
    "import scipy.io\n",
    "import matplotlib.pyplot as plt"
   ]
  },
  {
   "cell_type": "code",
   "execution_count": null,
   "metadata": {},
   "outputs": [],
   "source": [
    "def DMD(X, Y, tol=1e-12, k=-1):\n",
    "    \"k - ako znas koliko modova zelis\"\n",
    "    #X - Nxm, Y - Nxm\n",
    "    m=X.shape[1]; N=X.shape[0]\n",
    "    U, Sigma, V = np.linalg.svd(X,full_matrices=False) #svd vraca V*\n",
    "    V=np.conjugate(V.T)\n",
    "    #print(Sigma)\n",
    "    if(k==-1):\n",
    "        k=m\n",
    "        for i in range(1,min(N,m)):\n",
    "            if(Sigma[i]<=Sigma[0]*tol):\n",
    "                k=i\n",
    "                break\n",
    "    U = U[:, :k]; V=V[:, :k]; Sigma = np.array(Sigma[:k])\n",
    "    S_k = ((np.conjugate(U.T)@Y)@V)/Sigma\n",
    "    Lambda, W = np.linalg.eig(S_k)\n",
    "    Z = U@W\n",
    "    return Z, Lambda\n"
   ]
  },
  {
   "cell_type": "code",
   "execution_count": null,
   "metadata": {},
   "outputs": [],
   "source": [
    "def DMD_exact(X, Y, tol=1e-12, k=-1):\n",
    "    \"\"\"X - Nxm, Y - Nxm; !!Exact DMD ne vraća normirane Z[:,i]\"\"\"\n",
    "    m=X.shape[1]; N=X.shape[0]\n",
    "    U, Sigma, V = np.linalg.svd(X,full_matrices=False) #svd vraca V*\n",
    "    V=np.conjugate(V.T)\n",
    "    #print(Sigma)\n",
    "    if(k==-1):\n",
    "        k=m\n",
    "        for i in range(1,min(N,m)):\n",
    "            if(Sigma[i]<=Sigma[0]*tol):\n",
    "                k=i\n",
    "                break\n",
    "    U = U[:, :k]; V=V[:, :k]; Sigma = np.array(Sigma[:k])\n",
    "    S_k = ((np.conjugate(U.T)@Y)@V)/Sigma\n",
    "    Lambda, W = np.linalg.eig(S_k)\n",
    "    Z = (Y@V/Sigma)@W/Lambda\n",
    "    return Z, Lambda"
   ]
  },
  {
   "cell_type": "code",
   "execution_count": null,
   "metadata": {},
   "outputs": [],
   "source": [
    "def GEDMD(X, Y, tol=1e-12, type: str=None, k=-1): \n",
    "    \"\"\"\n",
    "    type = \"exact\" if you want exact version, or None (/leave empty) if you don't want exact version. \n",
    "    Anything else set as type will do the non-exact version.\n",
    "    \"\"\"\n",
    "    m=X.shape[1]; N=X.shape[0]\n",
    "    D = np.linalg.norm(X, axis=0)\n",
    "    X = X/D; Y=Y/D\n",
    "    U, Sigma, V = np.linalg.svd(X,full_matrices=False) \n",
    "    V=np.conjugate(V.T)\n",
    "    if(k==-1):\n",
    "        k=m\n",
    "        for i in range(1,min(N,m)):\n",
    "            if(Sigma[i]<=Sigma[0]*tol):\n",
    "                k=i\n",
    "                break\n",
    "    U = U[:, :k]; V=V[:, :k]; Sigma = np.array(Sigma[:k])\n",
    "    B_k = Y @ (V/Sigma)\n",
    "    S_k = np.conjugate(U.T)@B_k\n",
    "    Lambda, W = np.linalg.eig(S_k)\n",
    "    Z = U@W\n",
    "    if(type==\"exact\"):\n",
    "        Z = B_k@W\n",
    "    r = B_k@W - Z*Lambda\n",
    "    return Z, Lambda, r"
   ]
  },
  {
   "cell_type": "code",
   "execution_count": null,
   "metadata": {},
   "outputs": [],
   "source": [
    "def GEDMDQ_multiple_trajectories(X, Y, tol=1e-12, type: str=None):\n",
    "    \"\"\"\n",
    "    type = \"exact\" if you want exact version, or None (/leave empty) if you don't want exact version. \n",
    "    Anything else set as type will do the non-exact version.\n",
    "    \"\"\"\n",
    "    m=X.shape[1];\n",
    "    Q, R = np.linalg.qr(np.concatenate((X,Y), axis=1))\n",
    "    Z, L, r = GEDMD(R[:,:m], R[:,m:], tol, type)\n",
    "    Z = Q@Z\n",
    "    return Z, L, r"
   ]
  },
  {
   "cell_type": "code",
   "execution_count": null,
   "metadata": {},
   "outputs": [],
   "source": [
    "def GEDMDQ(S, tol=1e-12, type: str=None, k=-1):\n",
    "    \"\"\"\n",
    "    type = \"exact\" if you want exact version, or None (/leave empty) if you don't want exact version. \n",
    "    Anything else set as type will do the non-exact version.\n",
    "    \"\"\"\n",
    "    m=S.shape[1]-1;\n",
    "    Q, R = np.linalg.qr(S)\n",
    "    R_x = R[:(m+1),:m]; R_y = R[:(m+1), 1:(m+1)]\n",
    "    Z, L, r = GEDMD(R_x, R_y, tol, type, k)\n",
    "    Z = Q@Z\n",
    "    return Z, L, r, Q, R"
   ]
  },
  {
   "cell_type": "code",
   "execution_count": 7,
   "metadata": {},
   "outputs": [],
   "source": [
    "def DMD_added_snap(S, B, Q, R, tol=1e-12, type: str=None,k=-1):\n",
    "    m=S.shape[1]-1; N=S.shape[0]; b=B.shape[1]\n",
    "    if(B.shape[0]!=N):\n",
    "        return \"new data doesn't have the same dimension as the old data\"\n",
    "    R_new= np.conjugate(Q.T)@B\n",
    "    Q_1, R_1 = np.linalg.qr(B-Q@R_new)\n",
    "    R_new=np.concatenate((R_new, R_1), axis=0)\n",
    "    R = np.concatenate((R, np.zeros((b,m+1))), axis=0)\n",
    "    R = np.concatenate((R, R_new), axis=1)\n",
    "    Q = np.concatenate((Q, Q_1), axis=1)\n",
    "    m=m+b\n",
    "    R_x = R[:(m+1),:m]; R_y = R[:(m+1), 1:(m+1)] \n",
    "    Z, L, r = GEDMD(R_x, R_y, tol, type, k)\n",
    "    Z=Q@Z\n",
    "    return Z, L, r, Q, R\n"
   ]
  },
  {
   "cell_type": "code",
   "execution_count": null,
   "metadata": {},
   "outputs": [],
   "source": [
    "def householder_for_dmd(R, l):\n",
    "    \"\"\"R - matrix in trapezoidal form; \n",
    "    l - the amount of former dmd values discarded (also the number of sub-diagonals below the main one in R)\"\"\"\n",
    "    N = R.shape[1]; N0 = R.shape[0]\n",
    "\n",
    "    #l se moze iz oblika R procitat:\n",
    "    #l=N0-N\n",
    "    \n",
    "    v_all=np.empty((l+1,N))\n",
    "\n",
    "\n",
    "    #HH transf od R (trapezoidalna) \n",
    "    for i in range(N):\n",
    "        element=R[i:(i+l+1),i]  \n",
    "        v = element.copy().reshape(-1,1) #ako stavim v=element - pokazuju na istu memoriju; ne radi!!\n",
    "        v[0] = v[0] + np.sign(element[0])*np.linalg.norm(element)\n",
    "        R[i:(i+l+1),i:] = R[i:(i+l+1),i:] - 2/(v.T@v)*v@(v.T@R[i:(i+l+1),i:])\n",
    "        v_all[:,i] = v.reshape(-1)\n",
    "\n",
    "    ##Q - from HH matrices\n",
    "    hh_current = np.eye(N0, N0)\n",
    "    v_current=v_all[:,-1].reshape(-1,1)\n",
    "    hh_current[-l-1:,-l-1:] = np.eye(l+1,l+1)-2/(v_current.T@v_current)*(v_current@v_current.T)\n",
    "\n",
    "    hh=hh_current #ovdje @ I\n",
    "\n",
    "    for i in range(N-2,-1,-1):\n",
    "        v_current = v_all[:,i].reshape(-1,1)\n",
    "        hh_current = np.eye(l+1,l+1)-2/(v_current.T@v_current)*(v_current@v_current.T)\n",
    "        hh[i:i+l+1, :] = hh_current@hh[i:i+l+1, :]\n",
    "        #print(hh)\n",
    "\n",
    "\n",
    "    return hh, R, v_all"
   ]
  },
  {
   "cell_type": "code",
   "execution_count": 9,
   "metadata": {},
   "outputs": [],
   "source": [
    "def DMD_discarding_snap(l, Q, R, tol=1e-12, type: str=None,k=-1):\n",
    "    m=R.shape[0]\n",
    "    hh, R, _ = householder_for_dmd(R[:,l:], l)\n",
    "    R_x = R[:(m-l),:(m-l-1)]; R_y = R[:(m-l), 1:(m-l)]\n",
    "    Z, L, r = GEDMD(R_x, R_y, tol, type,k)\n",
    "    Q=(Q@hh)[:,:m-l]\n",
    "    Z=Q@Z\n",
    "    return Z,L,r,Q, R, hh"
   ]
  }
 ],
 "metadata": {
  "kernelspec": {
   "display_name": "base",
   "language": "python",
   "name": "python3"
  },
  "language_info": {
   "codemirror_mode": {
    "name": "ipython",
    "version": 3
   },
   "file_extension": ".py",
   "mimetype": "text/x-python",
   "name": "python",
   "nbconvert_exporter": "python",
   "pygments_lexer": "ipython3",
   "version": "3.11.5"
  }
 },
 "nbformat": 4,
 "nbformat_minor": 2
}

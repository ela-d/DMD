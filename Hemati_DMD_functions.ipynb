{
 "cells": [
  {
   "cell_type": "markdown",
   "metadata": {},
   "source": [
    "### Hemati DMD\n",
    "\n",
    "- vecina koda prilagodeno od https://github.com/cwrowley/dmdtools"
   ]
  },
  {
   "cell_type": "code",
   "execution_count": 1,
   "metadata": {},
   "outputs": [],
   "source": [
    "import numpy as np"
   ]
  },
  {
   "cell_type": "code",
   "execution_count": null,
   "metadata": {},
   "outputs": [],
   "source": [
    "def Hemati_update(Qx, Qy, A, Gx, Gy, x, y, ngram=5, epsilon=1e-10):\n",
    "\n",
    "    #reortogonalizacija\n",
    "    rx=Qx.shape[1]; ry=Qy.shape[1]\n",
    "    xtilde = np.matrix(np.zeros((rx, 1)))\n",
    "    ytilde = np.matrix(np.zeros((ry, 1)))\n",
    "    ex = np.matrix(x).reshape((n, 1))\n",
    "    ey = np.matrix(y).reshape((n, 1))\n",
    "    for _ in range(ngram):\n",
    "        dx = Qx.T@ex\n",
    "        dy = Qy.T@ey\n",
    "        xtilde += dx\n",
    "        ytilde += dy\n",
    "        ex -= Qx.dot(dx)\n",
    "        ey -= Qy.dot(dy)\n",
    "    \n",
    "    #prosirivanje - ako potrebno\n",
    "        #za x\n",
    "    norm_ex=np.linalg.norm(ex); norm_ey = np.linalg.norm(ey)\n",
    "    normx=np.linalg.norm(x); normy = np.linalg.norm(y)\n",
    "    if norm_ex / normx > epsilon:\n",
    "        Qx = np.bmat([Qx, ex/np.linalg.norm(ex)])\n",
    "        Gx = np.bmat([[Gx, np.zeros((rx, 1))], [np.zeros((1, rx+1))]])\n",
    "        A = np.bmat([A, np.zeros((ry, 1))])\n",
    "        rx += 1\n",
    "\n",
    "\n",
    "        #za y\n",
    "    if norm_ey / normy > epsilon:\n",
    "        Qy = np.bmat([Qy, ey/np.linalg.norm(ey)])\n",
    "        Gy = np.bmat([[Gy, np.zeros((ry, 1))], [np.zeros((1, ry+1))]])\n",
    "        A = np.bmat([A, np.zeros((1, rx))])\n",
    "        ry += 1\n",
    "    \n",
    "    #pod compression ... treba li to dodati? - ako imamo max rang..\n",
    "\n",
    "    #update A and Gx\n",
    "    xtilde = Qx.T * x\n",
    "    ytilde = Qy.T * y\n",
    "\n",
    "    # update A and Gx\n",
    "    A += ytilde * xtilde.T\n",
    "    Gx += xtilde * xtilde.T\n",
    "    Gy += ytilde * ytilde.T\n",
    "\n",
    "    return Qx, Qy, A, Gx, Gy\n"
   ]
  },
  {
   "cell_type": "code",
   "execution_count": null,
   "metadata": {},
   "outputs": [],
   "source": [
    "def Hemati_compute_modes(Qx, Qy, A, Gx):\n",
    "    \"\"\"takes Qx, Qy, A, Gx from Hemati et al. paper. \n",
    "    Returns Z (koopman eigenmodes) and Lambda (koopman eigenvalues)\"\"\"\n",
    "    S_k = Qx.T@Qy@A@np.linalg.pinv(Gx)\n",
    "    Lambda, W = np.linalg.eig(S_k)\n",
    "    Z = Qx @ W \n",
    "    #r = ...\n",
    "    return Z, Lambda"
   ]
  }
 ],
 "metadata": {
  "kernelspec": {
   "display_name": "myenv",
   "language": "python",
   "name": "python3"
  },
  "language_info": {
   "codemirror_mode": {
    "name": "ipython",
    "version": 3
   },
   "file_extension": ".py",
   "mimetype": "text/x-python",
   "name": "python",
   "nbconvert_exporter": "python",
   "pygments_lexer": "ipython3",
   "version": "3.7.16"
  }
 },
 "nbformat": 4,
 "nbformat_minor": 2
}

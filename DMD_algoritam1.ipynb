{
  "cells": [
    {
      "cell_type": "code",
      "execution_count": 3,
      "metadata": {
        "id": "cc4M6OJyxEgd"
      },
      "outputs": [],
      "source": [
        "import numpy as np"
      ]
    },
    {
      "cell_type": "code",
      "execution_count": 4,
      "metadata": {
        "id": "dTCD4Cv_xEgk"
      },
      "outputs": [],
      "source": [
        "def DMD(X, Y, tol=1e-12):\n",
        "    #X - Nxm, Y - Nxm\n",
        "    m=X.shape[1]\n",
        "    U, Sigma, V = np.linalg.svd(X,full_matrices=False) #svd vraca V*\n",
        "    V=np.conjugate(V.T)\n",
        "    print(Sigma)\n",
        "    k=m\n",
        "    for i in range(1,min(N,m)):\n",
        "        if(Sigma[i]<=Sigma[0]*tol):\n",
        "            k=i\n",
        "            break\n",
        "    U = U[:, :k]; V=V[:, :k]; Sigma = np.array(Sigma[:k])\n",
        "    S_k = ((np.conjugate(U.T)@Y)@V)/Sigma\n",
        "    Lambda, W = np.linalg.eig(S_k)\n",
        "    Z = U@W\n",
        "    return Z, Lambda\n"
      ]
    },
    {
      "cell_type": "code",
      "execution_count": 12,
      "metadata": {
        "id": "9YjwHnjoxEgl"
      },
      "outputs": [],
      "source": [
        "N=300\n",
        "m=15\n",
        "x=np.random.rand(N)\n",
        "A=np.random.rand(N,N)/N**2"
      ]
    },
    {
      "cell_type": "code",
      "execution_count": 13,
      "metadata": {
        "id": "ptxEG0_wxEgm"
      },
      "outputs": [],
      "source": [
        "X=np.empty((N,m+1))\n",
        "X[:,0]=x\n",
        "for i in range(m):\n",
        "    X[:,i+1]=A@X[:,i]\n",
        "X=X+np.random.rand(N,m+1)/np.sqrt(N)"
      ]
    },
    {
      "cell_type": "code",
      "execution_count": 14,
      "metadata": {
        "colab": {
          "base_uri": "https://localhost:8080/"
        },
        "id": "mnAs_EnVxEgm",
        "outputId": "e42468f5-9408-46c3-c467-fa68a425d8ea"
      },
      "outputs": [
        {
          "name": "stdout",
          "output_type": "stream",
          "text": [
            "[10.44585846  0.87830783  0.33407127  0.32935815  0.32300282  0.30930168\n",
            "  0.30242742  0.28814108  0.28645074  0.2781207   0.26820883  0.26457308\n",
            "  0.25519355  0.24266421  0.23435662]\n",
            "1.0\n",
            "1.0\n",
            "1.0\n",
            "1.0\n",
            "1.0\n",
            "0.9999999999999997\n",
            "0.9999999999999997\n",
            "1.0000000000000002\n",
            "1.0000000000000002\n",
            "1.0\n",
            "1.0\n",
            "1.0000000000000002\n",
            "1.0000000000000002\n",
            "1.0000000000000002\n",
            "0.9999999999999999\n"
          ]
        },
        {
          "data": {
            "text/plain": [
              "array([ 0.98592692+0.j        , -0.89538893+0.24014773j,\n",
              "       -0.89538893-0.24014773j,  0.70020302+0.45930012j,\n",
              "        0.70020302-0.45930012j,  0.38320569+0.76941914j,\n",
              "        0.38320569-0.76941914j, -0.59520925+0.58974884j,\n",
              "       -0.59520925-0.58974884j, -0.03682163+0.82752113j,\n",
              "       -0.03682163-0.82752113j, -0.23050539+0.67301223j,\n",
              "       -0.23050539-0.67301223j,  0.38041951+0.j        ,\n",
              "        0.05209318+0.j        ])"
            ]
          },
          "execution_count": 14,
          "metadata": {},
          "output_type": "execute_result"
        }
      ],
      "source": [
        "Z, L = DMD(X[:,:m], X[:, 1:], N*np.finfo(float).resolution)\n",
        "#Z ima stupčanu normu otprilike 1\n",
        "for i in range(Z.shape[1]):\n",
        "    print(np.linalg.norm(Z[:,i]))\n",
        "L"
      ]
    },
    {
      "cell_type": "code",
      "execution_count": 15,
      "metadata": {
        "id": "j3FdDOgKyJ7z"
      },
      "outputs": [],
      "source": [
        "#!pip install pydmd"
      ]
    },
    {
      "cell_type": "code",
      "execution_count": 16,
      "metadata": {
        "colab": {
          "base_uri": "https://localhost:8080/"
        },
        "id": "8Tfp50mWyBI0",
        "outputId": "9f8d7811-b7eb-4cf3-a191-bdfe655e7e0d"
      },
      "outputs": [
        {
          "data": {
            "text/plain": [
              "array([ 0.99836497+0.j        ,  0.51713573+0.5000933j ,\n",
              "        0.51713573-0.5000933j , -0.28350293+0.59890336j,\n",
              "       -0.28350293-0.59890336j, -0.59234652+0.06334551j,\n",
              "       -0.59234652-0.06334551j,  0.00242915+0.j        ,\n",
              "        0.1197013 +0.4013287j ,  0.1197013 -0.4013287j ])"
            ]
          },
          "execution_count": 16,
          "metadata": {},
          "output_type": "execute_result"
        }
      ],
      "source": [
        "import pydmd\n",
        "dmd1 = pydmd.DMD(svd_rank=10)\n",
        "dmd1.fit(X[:,:m], X[:,1:])\n",
        "dmd1.eigs"
      ]
    },
    {
      "cell_type": "code",
      "execution_count": 17,
      "metadata": {
        "colab": {
          "base_uri": "https://localhost:8080/"
        },
        "id": "cs6X48SI4qtJ",
        "outputId": "b4c23868-7849-4435-d96f-abfe755ed42b"
      },
      "outputs": [
        {
          "name": "stdout",
          "output_type": "stream",
          "text": [
            "0.0010512672743889745\n",
            "0.1802675241937776\n",
            "0.20882676103470912\n",
            "0.234703629640028\n",
            "0.26335036211093293\n",
            "0.2844480135455431\n",
            "0.27107814880346587\n",
            "0.2861170956183989\n",
            "0.2754597381445145\n",
            "0.2858754543416887\n"
          ]
        }
      ],
      "source": [
        "for i in range(dmd1.eigs.shape[0]):\n",
        "    print(np.linalg.norm(dmd1.reconstructed_data[:,i]-X[:,i]))"
      ]
    },
    {
      "cell_type": "code",
      "execution_count": 18,
      "metadata": {},
      "outputs": [
        {
          "data": {
            "text/plain": [
              "(300, 15)"
            ]
          },
          "execution_count": 18,
          "metadata": {},
          "output_type": "execute_result"
        }
      ],
      "source": [
        "dmd1.reconstructed_data.shape"
      ]
    },
    {
      "cell_type": "code",
      "execution_count": 19,
      "metadata": {
        "colab": {
          "base_uri": "https://localhost:8080/"
        },
        "id": "O95HiYDPxEgn",
        "outputId": "0a9902d8-1ffc-412b-99ed-3362452a8a9f"
      },
      "outputs": [
        {
          "name": "stdout",
          "output_type": "stream",
          "text": [
            "norma razlike: 11.762483988608578\n",
            "norma razlike: 2.378442678622277\n",
            "norma razlike: 2.2232014586120967\n",
            "norma razlike: 2.133796653184688\n",
            "norma razlike: 2.1755836305945815\n",
            "norma razlike: 2.0107717975844057\n",
            "norma razlike: 1.9474188019627514\n",
            "norma razlike: 1.9142797036388775\n",
            "norma razlike: 1.9266111617189463\n",
            "norma razlike: 1.8229971490999994\n",
            "norma razlike: 1.6930192782348232\n",
            "norma razlike: 1.667490384625403\n",
            "norma razlike: 1.5896514995677744\n",
            "norma razlike: 1.7188052437250516\n",
            "norma razlike: 1.635656883866141\n"
          ]
        }
      ],
      "source": [
        "#kako procijeniti s_i?\n",
        "for i in range(m):\n",
        "    s=np.zeros((Z.shape[0]))\n",
        "    for j in range(Z.shape[1]):\n",
        "        s=s+Z[:,j]*(L[j]**(i))\n",
        "    print(\"norma razlike:\",np.linalg.norm(s-X[:,i]))\n",
        "    #print(s,X[:,i], sep=\"\\n\")"
      ]
    },
    {
      "cell_type": "code",
      "execution_count": null,
      "metadata": {},
      "outputs": [],
      "source": []
    }
  ],
  "metadata": {
    "colab": {
      "provenance": []
    },
    "kernelspec": {
      "display_name": "base",
      "language": "python",
      "name": "python3"
    },
    "language_info": {
      "codemirror_mode": {
        "name": "ipython",
        "version": 3
      },
      "file_extension": ".py",
      "mimetype": "text/x-python",
      "name": "python",
      "nbconvert_exporter": "python",
      "pygments_lexer": "ipython3",
      "version": "3.11.5"
    }
  },
  "nbformat": 4,
  "nbformat_minor": 0
}

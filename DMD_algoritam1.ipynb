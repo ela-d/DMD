{
  "cells": [
    {
      "cell_type": "code",
      "execution_count": 1,
      "metadata": {
        "id": "cc4M6OJyxEgd"
      },
      "outputs": [],
      "source": [
        "import numpy as np"
      ]
    },
    {
      "cell_type": "code",
      "execution_count": 3,
      "metadata": {
        "id": "dTCD4Cv_xEgk"
      },
      "outputs": [],
      "source": [
        "def DMD(X, Y, tol=1e-12):\n",
        "    #X - Nxm, Y - Nxm\n",
        "    m=X.shape[1]; N=X.shape[0]\n",
        "    U, Sigma, V = np.linalg.svd(X,full_matrices=False) #svd vraca V*\n",
        "    V=np.conjugate(V.T)\n",
        "    #print(Sigma)\n",
        "    k=m\n",
        "    for i in range(1,min(N,m)):\n",
        "        if(Sigma[i]<=Sigma[0]*tol):\n",
        "            k=i\n",
        "            break\n",
        "    U = U[:, :k]; V=V[:, :k]; Sigma = np.array(Sigma[:k])\n",
        "    S_k = ((np.conjugate(U.T)@Y)@V)/Sigma\n",
        "    Lambda, W = np.linalg.eig(S_k)\n",
        "    Z = U@W\n",
        "    return Z, Lambda\n"
      ]
    },
    {
      "cell_type": "code",
      "execution_count": 4,
      "metadata": {},
      "outputs": [],
      "source": [
        "def DMD_exact(X, Y, tol=1e-12):\n",
        "    \"\"\"X - Nxm, Y - Nxm; !!Exact DMD ne vraća normirane Z[:,i]\"\"\"\n",
        "    m=X.shape[1]; N=X.shape[0]\n",
        "    U, Sigma, V = np.linalg.svd(X,full_matrices=False) #svd vraca V*\n",
        "    V=np.conjugate(V.T)\n",
        "    #print(Sigma)\n",
        "    k=m\n",
        "    for i in range(1,min(N,m)):\n",
        "        if(Sigma[i]<=Sigma[0]*tol):\n",
        "            k=i\n",
        "            break\n",
        "    U = U[:, :k]; V=V[:, :k]; Sigma = np.array(Sigma[:k])\n",
        "    S_k = ((np.conjugate(U.T)@Y)@V)/Sigma\n",
        "    Lambda, W = np.linalg.eig(S_k)\n",
        "    Z = (Y@V/Sigma)@W/Lambda\n",
        "    return Z, Lambda"
      ]
    },
    {
      "cell_type": "code",
      "execution_count": 5,
      "metadata": {},
      "outputs": [],
      "source": [
        "def GEDMD(X, Y, tol=1e-12, type: str=None): \n",
        "    \"\"\"\n",
        "    type = \"exact\" if you want exact version, or None (/leave empty) if you don't want exact version. \n",
        "    Anything else set as type will do the non-exact version.\n",
        "    \"\"\"\n",
        "    m=X.shape[1]; N=X.shape[0]\n",
        "    D = np.linalg.norm(X, axis=0)\n",
        "    X = X/D; Y=Y/D\n",
        "    U, Sigma, V = np.linalg.svd(X,full_matrices=False) \n",
        "    V=np.conjugate(V.T)\n",
        "    k=m\n",
        "    for i in range(1,min(N,m)):\n",
        "        if(Sigma[i]<=Sigma[0]*tol):\n",
        "            k=i\n",
        "            break\n",
        "    U = U[:, :k]; V=V[:, :k]; Sigma = np.array(Sigma[:k])\n",
        "    B_k = Y @ (V/Sigma)\n",
        "    S_k = np.conjugate(U.T)@B_k\n",
        "    Lambda, W = np.linalg.eig(S_k)\n",
        "    Z = U@W\n",
        "    if(type==\"exact\"):\n",
        "        Z = B_k@W\n",
        "    r = B_k@W - Z*Lambda\n",
        "    return Z, Lambda, r"
      ]
    },
    {
      "cell_type": "code",
      "execution_count": null,
      "metadata": {},
      "outputs": [],
      "source": [
        "def GEDMDQ_multiple_trajectories(X, Y, tol=1e-12, type: str=None):\n",
        "    \"\"\"\n",
        "    type = \"exact\" if you want exact version, or None (/leave empty) if you don't want exact version. \n",
        "    Anything else set as type will do the non-exact version.\n",
        "    \"\"\"\n",
        "    m=X.shape[1];\n",
        "    Q, R = np.linalg.qr(np.concatenate((X,Y), axis=1))\n",
        "    Z, L, r = GEDMD(R[:,:m], R[:,m:], tol, type)\n",
        "    Z = Q@Z\n",
        "    return Z, L, r\n"
      ]
    },
    {
      "cell_type": "code",
      "execution_count": null,
      "metadata": {},
      "outputs": [],
      "source": [
        "def GEDMDQ(S, tol=1e-12, type: str=None):\n",
        "    \"\"\"\n",
        "    type = \"exact\" if you want exact version, or None (/leave empty) if you don't want exact version. \n",
        "    Anything else set as type will do the non-exact version.\n",
        "    \"\"\"\n",
        "    m=S.shape[1]-1;\n",
        "    Q, R = np.linalg.qr(S)\n",
        "    R_x = R[:(m+1),1:m]; R_y = R[:(m+1), 2:(m+1)]\n",
        "    Z, L, r = GEDMD(R_x, R_y, tol, type)\n",
        "    Z = Q@Z\n",
        "    return Z, L, r"
      ]
    },
    {
      "cell_type": "code",
      "execution_count": 6,
      "metadata": {
        "id": "9YjwHnjoxEgl"
      },
      "outputs": [],
      "source": [
        "N=300\n",
        "m=10\n",
        "x=np.random.rand(N)\n",
        "A=np.random.rand(N,N)\n",
        "A = A/np.linalg.norm(A, 2)"
      ]
    },
    {
      "cell_type": "code",
      "execution_count": 7,
      "metadata": {
        "id": "ptxEG0_wxEgm"
      },
      "outputs": [],
      "source": [
        "X=np.empty((N,m+1))\n",
        "X[:,0]=x\n",
        "for i in range(m):\n",
        "    X[:,i+1]=A@X[:,i]\n",
        "X=X+np.random.rand(N,m+1)/N"
      ]
    },
    {
      "cell_type": "code",
      "execution_count": 8,
      "metadata": {
        "colab": {
          "base_uri": "https://localhost:8080/"
        },
        "id": "mnAs_EnVxEgm",
        "outputId": "e42468f5-9408-46c3-c467-fa68a425d8ea"
      },
      "outputs": [
        {
          "name": "stdout",
          "output_type": "stream",
          "text": [
            "1.0\n",
            "1.0\n",
            "1.0\n",
            "1.0\n",
            "1.0\n",
            "1.0000000000000002\n",
            "1.0000000000000002\n",
            "0.9999999999999998\n",
            "1.0000000000000002\n",
            "1.0000000000000002\n"
          ]
        },
        {
          "data": {
            "text/plain": [
              "array([ 0.99879915+0.j        ,  0.50800865+0.59611152j,\n",
              "        0.50800865-0.59611152j, -0.08930496+0.74209837j,\n",
              "       -0.08930496-0.74209837j,  0.06732936+0.j        ,\n",
              "       -0.01976422+0.j        , -0.70964451+0.j        ,\n",
              "       -0.52739543+0.49316232j, -0.52739543-0.49316232j])"
            ]
          },
          "execution_count": 8,
          "metadata": {},
          "output_type": "execute_result"
        }
      ],
      "source": [
        "Z, L = DMD(X[:,:m], X[:, 1:], N*np.finfo(float).resolution)\n",
        "#Z ima stupčanu normu otprilike 1\n",
        "for i in range(Z.shape[1]):\n",
        "    print(np.linalg.norm(Z[:,i]))\n",
        "L"
      ]
    },
    {
      "cell_type": "code",
      "execution_count": null,
      "metadata": {},
      "outputs": [
        {
          "name": "stdout",
          "output_type": "stream",
          "text": [
            "[[0.50170737 0.50840103 0.50725185 0.50740822]\n",
            " [0.5361577  0.52141273 0.5206055  0.52087238]\n",
            " [0.52494283 0.52317808 0.52179348 0.52256964]\n",
            " [0.53701475 0.53638887 0.53616231 0.53611778]\n",
            " [0.52573139 0.5340734  0.53292179 0.53295179]]\n",
            "[[0.50840103 0.50170737 0.50740822 0.50725185]\n",
            " [0.52141273 0.5361577  0.52087238 0.5206055 ]\n",
            " [0.52317808 0.52494283 0.52256964 0.52179348]\n",
            " [0.53638887 0.53701475 0.53611778 0.53616231]\n",
            " [0.5340734  0.52573139 0.53295179 0.53292179]]\n"
          ]
        },
        {
          "data": {
            "text/plain": [
              "array([ 9.99106925e-01+0.j        ,  6.12092220e-01+0.56556659j,\n",
              "        6.12092220e-01-0.56556659j,  1.00014582e-01+0.77739965j,\n",
              "        1.00014582e-01-0.77739965j,  4.97408536e-04+0.j        ,\n",
              "       -4.68393836e-01+0.68215557j, -4.68393836e-01-0.68215557j,\n",
              "       -7.29778374e-01+0.28419992j, -7.29778374e-01-0.28419992j])"
            ]
          },
          "execution_count": 18,
          "metadata": {},
          "output_type": "execute_result"
        }
      ],
      "source": [
        "#permutirani podaci - druge svojstvene vrijednosti - kao što bi i očekivali!\n",
        "print(X[:5,[1,6,8,9]])\n",
        "temp=X[:,[1,6,8,9]]\n",
        "X[:,[6,9]] = temp[:,[0,2]]\n",
        "X[:,[1,8]] = temp[:,[1,3]]\n",
        "print(X[:5,[1,6,8,9]])\n",
        "\n",
        "Z_perm, L_perm = DMD(X[:,:m], X[:, 1:], N*np.finfo(float).resolution)\n",
        "\n",
        "L_perm\n"
      ]
    },
    {
      "cell_type": "code",
      "execution_count": null,
      "metadata": {},
      "outputs": [
        {
          "data": {
            "text/plain": [
              "array([ 0.99894211+0.j        ,  0.51887989+0.63581299j,\n",
              "        0.51887989-0.63581299j, -0.05204852+0.69636155j,\n",
              "       -0.05204852-0.69636155j,  0.02278   +0.j        ,\n",
              "       -0.11361175+0.j        , -0.67434574+0.j        ,\n",
              "       -0.51870432+0.56181541j, -0.51870432-0.56181541j])"
            ]
          },
          "execution_count": 43,
          "metadata": {},
          "output_type": "execute_result"
        }
      ],
      "source": [
        "Ze, Le = DMD_exact(X[:,:m], X[:, 1:], N*np.finfo(float).resolution)\n",
        "Le\n",
        "#isto kao L?"
      ]
    },
    {
      "cell_type": "code",
      "execution_count": null,
      "metadata": {},
      "outputs": [
        {
          "data": {
            "text/plain": [
              "array([ 0.99894211+0.j        ,  0.51887989+0.63581299j,\n",
              "        0.51887989-0.63581299j, -0.05204852+0.69636155j,\n",
              "       -0.05204852-0.69636155j,  0.02278   +0.j        ,\n",
              "       -0.11361175+0.j        , -0.51870432+0.56181541j,\n",
              "       -0.51870432-0.56181541j, -0.67434574+0.j        ])"
            ]
          },
          "execution_count": 44,
          "metadata": {},
          "output_type": "execute_result"
        }
      ],
      "source": [
        "Zg, Lg, rg = GEDMD(X[:,:m], X[:,1:], N*np.finfo(float).resolution)\n",
        "Lg"
      ]
    },
    {
      "cell_type": "code",
      "execution_count": null,
      "metadata": {},
      "outputs": [
        {
          "data": {
            "text/plain": [
              "array([ 0.99895511+0.j        , -0.02983773+0.01680062j,\n",
              "       -0.02983773-0.01680062j, -0.03220247+0.00853392j,\n",
              "       -0.03220247-0.00853392j,  0.03447152+0.j        ,\n",
              "       -0.03115523+0.00941745j, -0.03115523-0.00941745j,\n",
              "        0.02655775+0.02120484j,  0.02655775-0.02120484j])"
            ]
          },
          "execution_count": 45,
          "metadata": {},
          "output_type": "execute_result"
        }
      ],
      "source": [
        "np.linalg.eigvals(A)[:10]"
      ]
    },
    {
      "cell_type": "code",
      "execution_count": null,
      "metadata": {
        "id": "j3FdDOgKyJ7z"
      },
      "outputs": [],
      "source": [
        "#!pip install pydmd"
      ]
    },
    {
      "cell_type": "code",
      "execution_count": null,
      "metadata": {
        "colab": {
          "base_uri": "https://localhost:8080/"
        },
        "id": "8Tfp50mWyBI0",
        "outputId": "9f8d7811-b7eb-4cf3-a191-bdfe655e7e0d"
      },
      "outputs": [
        {
          "data": {
            "text/plain": [
              "array([ 0.99894211+0.j        ,  0.51887989+0.63581299j,\n",
              "        0.51887989-0.63581299j, -0.05204852+0.69636155j,\n",
              "       -0.05204852-0.69636155j,  0.02278   +0.j        ,\n",
              "       -0.11361175+0.j        , -0.67434574+0.j        ,\n",
              "       -0.51870432+0.56181541j, -0.51870432-0.56181541j])"
            ]
          },
          "execution_count": 47,
          "metadata": {},
          "output_type": "execute_result"
        }
      ],
      "source": [
        "import pydmd\n",
        "dmd1 = pydmd.DMD(svd_rank=10)\n",
        "dmd1.fit(X[:,:m], X[:,1:])\n",
        "dmd1.eigs"
      ]
    },
    {
      "cell_type": "code",
      "execution_count": null,
      "metadata": {
        "colab": {
          "base_uri": "https://localhost:8080/"
        },
        "id": "cs6X48SI4qtJ",
        "outputId": "b4c23868-7849-4435-d96f-abfe755ed42b"
      },
      "outputs": [
        {
          "name": "stdout",
          "output_type": "stream",
          "text": [
            "7.115796151869548e-15\n",
            "2.833224828443359e-14\n",
            "5.249087432562182e-14\n",
            "7.673852877147148e-14\n",
            "1.0240612618128462e-13\n",
            "1.3128029381943235e-13\n",
            "1.6220443641266865e-13\n",
            "1.8585159257912513e-13\n",
            "2.1239748205499281e-13\n",
            "2.3746765502419185e-13\n"
          ]
        }
      ],
      "source": [
        "for i in range(dmd1.eigs.shape[0]):\n",
        "    print(np.linalg.norm(dmd1.reconstructed_data[:,i]-X[:,i]))"
      ]
    },
    {
      "cell_type": "code",
      "execution_count": null,
      "metadata": {},
      "outputs": [
        {
          "data": {
            "text/plain": [
              "(300, 10)"
            ]
          },
          "execution_count": 49,
          "metadata": {},
          "output_type": "execute_result"
        }
      ],
      "source": [
        "dmd1.reconstructed_data.shape"
      ]
    },
    {
      "cell_type": "code",
      "execution_count": null,
      "metadata": {
        "colab": {
          "base_uri": "https://localhost:8080/"
        },
        "id": "O95HiYDPxEgn",
        "outputId": "0a9902d8-1ffc-412b-99ed-3362452a8a9f"
      },
      "outputs": [
        {
          "name": "stdout",
          "output_type": "stream",
          "text": [
            "norma razlike: 8.380852741025778\n",
            "norma razlike: 7.518788618798513\n",
            "norma razlike: 7.6044936485452865\n",
            "norma razlike: 7.489942515084818\n",
            "norma razlike: 7.41339202255386\n",
            "norma razlike: 7.465040792299442\n",
            "norma razlike: 7.460869280515969\n",
            "norma razlike: 7.361247530479374\n",
            "norma razlike: 7.379344827998604\n",
            "norma razlike: 7.359836659952813\n"
          ]
        }
      ],
      "source": [
        "#kako procijeniti s_i?\n",
        "for i in range(m):\n",
        "    s=np.zeros((Z.shape[0]))\n",
        "    for j in range(Z.shape[1]):\n",
        "        s=s+Z[:,j]*(L[j]**(i))\n",
        "    print(\"norma razlike:\",np.linalg.norm(s-X[:,i]))\n",
        "    #print(s,X[:,i], sep=\"\\n\")"
      ]
    },
    {
      "cell_type": "code",
      "execution_count": 57,
      "metadata": {},
      "outputs": [
        {
          "name": "stdout",
          "output_type": "stream",
          "text": [
            "(20, 14)\n",
            "True\n",
            "True\n",
            "[[ 6.33990211e-17 -1.58355452e-18  6.45301544e-20  2.49024134e-20\n",
            "   1.35222002e-21 -2.92336628e-22  9.27041910e-08]\n",
            " [ 0.00000000e+00  1.05681961e-17  5.97712929e-20  1.21087242e-20\n",
            "  -1.39312599e-21 -9.44745792e-22 -1.39895522e-07]\n",
            " [ 0.00000000e+00  0.00000000e+00 -2.50449034e-19  1.17520300e-20\n",
            "   2.51145817e-22 -3.16710817e-22  2.83976237e-08]\n",
            " [ 0.00000000e+00  0.00000000e+00  0.00000000e+00 -1.58789660e-19\n",
            "  -5.07302384e-22 -1.36677452e-21 -1.01698255e-07]\n",
            " [ 0.00000000e+00  0.00000000e+00  0.00000000e+00  0.00000000e+00\n",
            "  -4.53575774e-21  4.11816005e-22 -7.31606894e-08]\n",
            " [ 0.00000000e+00  0.00000000e+00  0.00000000e+00  0.00000000e+00\n",
            "   0.00000000e+00  1.25884059e-21  3.67769204e-08]\n",
            " [ 0.00000000e+00  0.00000000e+00  0.00000000e+00  0.00000000e+00\n",
            "   0.00000000e+00  0.00000000e+00  1.65409449e-07]]\n",
            "(14, 14)\n"
          ]
        }
      ],
      "source": [
        "#QR za (X Y) kad X i Y imaju \"istu jezgru\"\n",
        "N=20; m=7\n",
        "A = np.random.rand(N,N)\n",
        "A=A/np.linalg.norm(A)\n",
        "x = np.ones((N))\n",
        "X=np.empty((N,m+1))\n",
        "X[:,0] = x\n",
        "for i in range(m):\n",
        "    X[:,i+1]= A @ X[:,i]\n",
        "#print(X)\n",
        "\n",
        "Z = np.concatenate((X[:,:m], X[:,1:]), axis=1)\n",
        "print(Z.shape)\n",
        "\n",
        "Q, R = np.linalg.qr(Z, mode=\"reduced\")\n",
        "\n",
        "R_12 = R[:m,m:]\n",
        "R_22 = R[m:2*m, m:]\n",
        "\n",
        "Q_1 = Q[:,:m]\n",
        "Q_2 = Q[:,m:]\n",
        "\n",
        "\n",
        "print(np.allclose(X[:,1:],Q_1@R_12 + Q_2@R_22))\n",
        "print(np.allclose(X[:,1:],Q_1@R_12 + Q_2*R_22[:,m-1]))\n",
        "print(R_22)\n",
        "print(R.shape)"
      ]
    }
  ],
  "metadata": {
    "colab": {
      "provenance": []
    },
    "kernelspec": {
      "display_name": "base",
      "language": "python",
      "name": "python3"
    },
    "language_info": {
      "codemirror_mode": {
        "name": "ipython",
        "version": 3
      },
      "file_extension": ".py",
      "mimetype": "text/x-python",
      "name": "python",
      "nbconvert_exporter": "python",
      "pygments_lexer": "ipython3",
      "version": "3.11.5"
    }
  },
  "nbformat": 4,
  "nbformat_minor": 0
}

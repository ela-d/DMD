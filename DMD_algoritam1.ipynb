{
  "cells": [
    {
      "cell_type": "code",
      "execution_count": 36,
      "metadata": {
        "id": "cc4M6OJyxEgd"
      },
      "outputs": [],
      "source": [
        "import numpy as np"
      ]
    },
    {
      "cell_type": "code",
      "execution_count": 37,
      "metadata": {
        "id": "dTCD4Cv_xEgk"
      },
      "outputs": [],
      "source": [
        "def DMD(X, Y, tol=1e-12):\n",
        "    #X - Nxm, Y - Nxm\n",
        "    m=X.shape[1]; N=X.shape[0]\n",
        "    U, Sigma, V = np.linalg.svd(X,full_matrices=False) #svd vraca V*\n",
        "    V=np.conjugate(V.T)\n",
        "    #print(Sigma)\n",
        "    k=m\n",
        "    for i in range(1,min(N,m)):\n",
        "        if(Sigma[i]<=Sigma[0]*tol):\n",
        "            k=i\n",
        "            break\n",
        "    U = U[:, :k]; V=V[:, :k]; Sigma = np.array(Sigma[:k])\n",
        "    S_k = ((np.conjugate(U.T)@Y)@V)/Sigma\n",
        "    Lambda, W = np.linalg.eig(S_k)\n",
        "    Z = U@W\n",
        "    return Z, Lambda\n"
      ]
    },
    {
      "cell_type": "code",
      "execution_count": 38,
      "metadata": {},
      "outputs": [],
      "source": [
        "def DMD_exact(X, Y, tol=1e-12):\n",
        "    \"\"\"X - Nxm, Y - Nxm; !!Exact DMD ne vraća normirane Z[:,i]\"\"\"\n",
        "    m=X.shape[1]; N=X.shape[0]\n",
        "    U, Sigma, V = np.linalg.svd(X,full_matrices=False) #svd vraca V*\n",
        "    V=np.conjugate(V.T)\n",
        "    #print(Sigma)\n",
        "    k=m\n",
        "    for i in range(1,min(N,m)):\n",
        "        if(Sigma[i]<=Sigma[0]*tol):\n",
        "            k=i\n",
        "            break\n",
        "    U = U[:, :k]; V=V[:, :k]; Sigma = np.array(Sigma[:k])\n",
        "    S_k = ((np.conjugate(U.T)@Y)@V)/Sigma\n",
        "    Lambda, W = np.linalg.eig(S_k)\n",
        "    Z = (Y@V/Sigma)@W/Lambda\n",
        "    return Z, Lambda"
      ]
    },
    {
      "cell_type": "code",
      "execution_count": 39,
      "metadata": {},
      "outputs": [],
      "source": [
        "def GEDMD(X, Y, tol=1e-12, type: str=None): \n",
        "    \"\"\"\n",
        "    type = \"exact\" if you want exact version, or None (/leave empty) if you don't want exact version. \n",
        "    Anything else set as type will do the non-exact version.\n",
        "    \"\"\"\n",
        "    m=X.shape[1]; N=X.shape[0]\n",
        "    D = np.linalg.norm(X, axis=0)\n",
        "    X = X/D; Y=Y/D\n",
        "    U, Sigma, V = np.linalg.svd(X,full_matrices=False) \n",
        "    V=np.conjugate(V.T)\n",
        "    #print(Sigma)\n",
        "    k=m\n",
        "    for i in range(1,min(N,m)):\n",
        "        if(Sigma[i]<=Sigma[0]*tol):\n",
        "            k=i\n",
        "            break\n",
        "    U = U[:, :k]; V=V[:, :k]; Sigma = np.array(Sigma[:k])\n",
        "    B_k = Y @ (V/Sigma)\n",
        "    S_k = np.conjugate(U.T)@B_k\n",
        "    Lambda, W = np.linalg.eig(S_k)\n",
        "    Z = U@W\n",
        "    if(type==\"exact\"):\n",
        "        Z = B_k@W\n",
        "    r = B_k@W - Z*Lambda\n",
        "    return Z, Lambda, r"
      ]
    },
    {
      "cell_type": "code",
      "execution_count": 40,
      "metadata": {
        "id": "9YjwHnjoxEgl"
      },
      "outputs": [],
      "source": [
        "N=300\n",
        "m=10\n",
        "x=np.random.rand(N)\n",
        "A=np.random.rand(N,N)\n",
        "A = A/np.linalg.norm(A, 2)"
      ]
    },
    {
      "cell_type": "code",
      "execution_count": 41,
      "metadata": {
        "id": "ptxEG0_wxEgm"
      },
      "outputs": [],
      "source": [
        "X=np.empty((N,m+1))\n",
        "X[:,0]=x\n",
        "for i in range(m):\n",
        "    X[:,i+1]=A@X[:,i]\n",
        "X=X+np.random.rand(N,m+1)/N"
      ]
    },
    {
      "cell_type": "code",
      "execution_count": 42,
      "metadata": {
        "colab": {
          "base_uri": "https://localhost:8080/"
        },
        "id": "mnAs_EnVxEgm",
        "outputId": "e42468f5-9408-46c3-c467-fa68a425d8ea"
      },
      "outputs": [
        {
          "name": "stdout",
          "output_type": "stream",
          "text": [
            "1.0000000000000002\n",
            "0.9999999999999994\n",
            "0.9999999999999994\n",
            "0.9999999999999997\n",
            "0.9999999999999997\n",
            "0.9999999999999999\n",
            "0.9999999999999999\n",
            "0.9999999999999998\n",
            "0.9999999999999998\n",
            "0.9999999999999998\n"
          ]
        },
        {
          "data": {
            "text/plain": [
              "array([ 0.99894211+0.j        ,  0.51887989+0.63581299j,\n",
              "        0.51887989-0.63581299j, -0.05204852+0.69636155j,\n",
              "       -0.05204852-0.69636155j,  0.02278   +0.j        ,\n",
              "       -0.11361175+0.j        , -0.67434574+0.j        ,\n",
              "       -0.51870432+0.56181541j, -0.51870432-0.56181541j])"
            ]
          },
          "execution_count": 42,
          "metadata": {},
          "output_type": "execute_result"
        }
      ],
      "source": [
        "Z, L = DMD(X[:,:m], X[:, 1:], N*np.finfo(float).resolution)\n",
        "#Z ima stupčanu normu otprilike 1\n",
        "for i in range(Z.shape[1]):\n",
        "    print(np.linalg.norm(Z[:,i]))\n",
        "L"
      ]
    },
    {
      "cell_type": "code",
      "execution_count": 43,
      "metadata": {},
      "outputs": [
        {
          "data": {
            "text/plain": [
              "array([ 0.99894211+0.j        ,  0.51887989+0.63581299j,\n",
              "        0.51887989-0.63581299j, -0.05204852+0.69636155j,\n",
              "       -0.05204852-0.69636155j,  0.02278   +0.j        ,\n",
              "       -0.11361175+0.j        , -0.67434574+0.j        ,\n",
              "       -0.51870432+0.56181541j, -0.51870432-0.56181541j])"
            ]
          },
          "execution_count": 43,
          "metadata": {},
          "output_type": "execute_result"
        }
      ],
      "source": [
        "Ze, Le = DMD_exact(X[:,:m], X[:, 1:], N*np.finfo(float).resolution)\n",
        "Le\n",
        "#isto kao L?"
      ]
    },
    {
      "cell_type": "code",
      "execution_count": 44,
      "metadata": {},
      "outputs": [
        {
          "data": {
            "text/plain": [
              "array([ 0.99894211+0.j        ,  0.51887989+0.63581299j,\n",
              "        0.51887989-0.63581299j, -0.05204852+0.69636155j,\n",
              "       -0.05204852-0.69636155j,  0.02278   +0.j        ,\n",
              "       -0.11361175+0.j        , -0.51870432+0.56181541j,\n",
              "       -0.51870432-0.56181541j, -0.67434574+0.j        ])"
            ]
          },
          "execution_count": 44,
          "metadata": {},
          "output_type": "execute_result"
        }
      ],
      "source": [
        "Zg, Lg, rg = GEDMD(X[:,:m], X[:,1:], N*np.finfo(float).resolution)\n",
        "Lg"
      ]
    },
    {
      "cell_type": "code",
      "execution_count": 45,
      "metadata": {},
      "outputs": [
        {
          "data": {
            "text/plain": [
              "array([ 0.99895511+0.j        , -0.02983773+0.01680062j,\n",
              "       -0.02983773-0.01680062j, -0.03220247+0.00853392j,\n",
              "       -0.03220247-0.00853392j,  0.03447152+0.j        ,\n",
              "       -0.03115523+0.00941745j, -0.03115523-0.00941745j,\n",
              "        0.02655775+0.02120484j,  0.02655775-0.02120484j])"
            ]
          },
          "execution_count": 45,
          "metadata": {},
          "output_type": "execute_result"
        }
      ],
      "source": [
        "np.linalg.eigvals(A)[:10]"
      ]
    },
    {
      "cell_type": "code",
      "execution_count": 46,
      "metadata": {
        "id": "j3FdDOgKyJ7z"
      },
      "outputs": [],
      "source": [
        "#!pip install pydmd"
      ]
    },
    {
      "cell_type": "code",
      "execution_count": 47,
      "metadata": {
        "colab": {
          "base_uri": "https://localhost:8080/"
        },
        "id": "8Tfp50mWyBI0",
        "outputId": "9f8d7811-b7eb-4cf3-a191-bdfe655e7e0d"
      },
      "outputs": [
        {
          "data": {
            "text/plain": [
              "array([ 0.99894211+0.j        ,  0.51887989+0.63581299j,\n",
              "        0.51887989-0.63581299j, -0.05204852+0.69636155j,\n",
              "       -0.05204852-0.69636155j,  0.02278   +0.j        ,\n",
              "       -0.11361175+0.j        , -0.67434574+0.j        ,\n",
              "       -0.51870432+0.56181541j, -0.51870432-0.56181541j])"
            ]
          },
          "execution_count": 47,
          "metadata": {},
          "output_type": "execute_result"
        }
      ],
      "source": [
        "import pydmd\n",
        "dmd1 = pydmd.DMD(svd_rank=10)\n",
        "dmd1.fit(X[:,:m], X[:,1:])\n",
        "dmd1.eigs"
      ]
    },
    {
      "cell_type": "code",
      "execution_count": 48,
      "metadata": {
        "colab": {
          "base_uri": "https://localhost:8080/"
        },
        "id": "cs6X48SI4qtJ",
        "outputId": "b4c23868-7849-4435-d96f-abfe755ed42b"
      },
      "outputs": [
        {
          "name": "stdout",
          "output_type": "stream",
          "text": [
            "7.115796151869548e-15\n",
            "2.833224828443359e-14\n",
            "5.249087432562182e-14\n",
            "7.673852877147148e-14\n",
            "1.0240612618128462e-13\n",
            "1.3128029381943235e-13\n",
            "1.6220443641266865e-13\n",
            "1.8585159257912513e-13\n",
            "2.1239748205499281e-13\n",
            "2.3746765502419185e-13\n"
          ]
        }
      ],
      "source": [
        "for i in range(dmd1.eigs.shape[0]):\n",
        "    print(np.linalg.norm(dmd1.reconstructed_data[:,i]-X[:,i]))"
      ]
    },
    {
      "cell_type": "code",
      "execution_count": 49,
      "metadata": {},
      "outputs": [
        {
          "data": {
            "text/plain": [
              "(300, 10)"
            ]
          },
          "execution_count": 49,
          "metadata": {},
          "output_type": "execute_result"
        }
      ],
      "source": [
        "dmd1.reconstructed_data.shape"
      ]
    },
    {
      "cell_type": "code",
      "execution_count": 50,
      "metadata": {
        "colab": {
          "base_uri": "https://localhost:8080/"
        },
        "id": "O95HiYDPxEgn",
        "outputId": "0a9902d8-1ffc-412b-99ed-3362452a8a9f"
      },
      "outputs": [
        {
          "name": "stdout",
          "output_type": "stream",
          "text": [
            "norma razlike: 8.380852741025778\n",
            "norma razlike: 7.518788618798513\n",
            "norma razlike: 7.6044936485452865\n",
            "norma razlike: 7.489942515084818\n",
            "norma razlike: 7.41339202255386\n",
            "norma razlike: 7.465040792299442\n",
            "norma razlike: 7.460869280515969\n",
            "norma razlike: 7.361247530479374\n",
            "norma razlike: 7.379344827998604\n",
            "norma razlike: 7.359836659952813\n"
          ]
        }
      ],
      "source": [
        "#kako procijeniti s_i?\n",
        "for i in range(m):\n",
        "    s=np.zeros((Z.shape[0]))\n",
        "    for j in range(Z.shape[1]):\n",
        "        s=s+Z[:,j]*(L[j]**(i))\n",
        "    print(\"norma razlike:\",np.linalg.norm(s-X[:,i]))\n",
        "    #print(s,X[:,i], sep=\"\\n\")"
      ]
    }
  ],
  "metadata": {
    "colab": {
      "provenance": []
    },
    "kernelspec": {
      "display_name": "base",
      "language": "python",
      "name": "python3"
    },
    "language_info": {
      "codemirror_mode": {
        "name": "ipython",
        "version": 3
      },
      "file_extension": ".py",
      "mimetype": "text/x-python",
      "name": "python",
      "nbconvert_exporter": "python",
      "pygments_lexer": "ipython3",
      "version": "3.11.5"
    }
  },
  "nbformat": 4,
  "nbformat_minor": 0
}

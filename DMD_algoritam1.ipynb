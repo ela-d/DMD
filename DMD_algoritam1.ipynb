{
  "cells": [
    {
      "cell_type": "code",
      "execution_count": 4,
      "metadata": {
        "id": "cc4M6OJyxEgd"
      },
      "outputs": [],
      "source": [
        "import numpy as np"
      ]
    },
    {
      "cell_type": "markdown",
      "metadata": {},
      "source": [
        "**FUNKCIJE**"
      ]
    },
    {
      "cell_type": "code",
      "execution_count": 49,
      "metadata": {
        "id": "dTCD4Cv_xEgk"
      },
      "outputs": [],
      "source": [
        "def DMD(X, Y, tol=1e-12):\n",
        "    #X - Nxm, Y - Nxm\n",
        "    m=X.shape[1]; N=X.shape[0]\n",
        "    U, Sigma, V = np.linalg.svd(X,full_matrices=False) #svd vraca V*\n",
        "    V=np.conjugate(V.T)\n",
        "    #print(Sigma)\n",
        "    k=m\n",
        "    for i in range(1,min(N,m)):\n",
        "        if(Sigma[i]<=Sigma[0]*tol):\n",
        "            k=i\n",
        "            break\n",
        "    U = U[:, :k]; V=V[:, :k]; Sigma = np.array(Sigma[:k])\n",
        "    S_k = ((np.conjugate(U.T)@Y)@V)/Sigma\n",
        "    Lambda, W = np.linalg.eig(S_k)\n",
        "    Z = U@W\n",
        "    return Z, Lambda\n"
      ]
    },
    {
      "cell_type": "code",
      "execution_count": 50,
      "metadata": {},
      "outputs": [],
      "source": [
        "def DMD_exact(X, Y, tol=1e-12):\n",
        "    \"\"\"X - Nxm, Y - Nxm; !!Exact DMD ne vraća normirane Z[:,i]\"\"\"\n",
        "    m=X.shape[1]; N=X.shape[0]\n",
        "    U, Sigma, V = np.linalg.svd(X,full_matrices=False) #svd vraca V*\n",
        "    V=np.conjugate(V.T)\n",
        "    #print(Sigma)\n",
        "    k=m\n",
        "    for i in range(1,min(N,m)):\n",
        "        if(Sigma[i]<=Sigma[0]*tol):\n",
        "            k=i\n",
        "            break\n",
        "    U = U[:, :k]; V=V[:, :k]; Sigma = np.array(Sigma[:k])\n",
        "    S_k = ((np.conjugate(U.T)@Y)@V)/Sigma\n",
        "    Lambda, W = np.linalg.eig(S_k)\n",
        "    Z = (Y@V/Sigma)@W/Lambda\n",
        "    return Z, Lambda"
      ]
    },
    {
      "cell_type": "code",
      "execution_count": 51,
      "metadata": {},
      "outputs": [],
      "source": [
        "def GEDMD(X, Y, tol=1e-12, type: str=None): \n",
        "    \"\"\"\n",
        "    type = \"exact\" if you want exact version, or None (/leave empty) if you don't want exact version. \n",
        "    Anything else set as type will do the non-exact version.\n",
        "    \"\"\"\n",
        "    m=X.shape[1]; N=X.shape[0]\n",
        "    D = np.linalg.norm(X, axis=0)\n",
        "    X = X/D; Y=Y/D\n",
        "    U, Sigma, V = np.linalg.svd(X,full_matrices=False) \n",
        "    V=np.conjugate(V.T)\n",
        "    k=m\n",
        "    for i in range(1,min(N,m)):\n",
        "        if(Sigma[i]<=Sigma[0]*tol):\n",
        "            k=i\n",
        "            break\n",
        "    U = U[:, :k]; V=V[:, :k]; Sigma = np.array(Sigma[:k])\n",
        "    B_k = Y @ (V/Sigma)\n",
        "    S_k = np.conjugate(U.T)@B_k\n",
        "    Lambda, W = np.linalg.eig(S_k)\n",
        "    Z = U@W\n",
        "    if(type==\"exact\"):\n",
        "        Z = B_k@W\n",
        "    r = B_k@W - Z*Lambda\n",
        "    return Z, Lambda, r"
      ]
    },
    {
      "cell_type": "code",
      "execution_count": 52,
      "metadata": {},
      "outputs": [],
      "source": [
        "def GEDMDQ_multiple_trajectories(X, Y, tol=1e-12, type: str=None):\n",
        "    \"\"\"\n",
        "    type = \"exact\" if you want exact version, or None (/leave empty) if you don't want exact version. \n",
        "    Anything else set as type will do the non-exact version.\n",
        "    \"\"\"\n",
        "    m=X.shape[1];\n",
        "    Q, R = np.linalg.qr(np.concatenate((X,Y), axis=1))\n",
        "    Z, L, r = GEDMD(R[:,:m], R[:,m:], tol, type)\n",
        "    Z = Q@Z\n",
        "    return Z, L, r\n"
      ]
    },
    {
      "cell_type": "code",
      "execution_count": 53,
      "metadata": {},
      "outputs": [],
      "source": [
        "def GEDMDQ(S, tol=1e-12, type: str=None):\n",
        "    \"\"\"\n",
        "    type = \"exact\" if you want exact version, or None (/leave empty) if you don't want exact version. \n",
        "    Anything else set as type will do the non-exact version.\n",
        "    \"\"\"\n",
        "    m=S.shape[1]-1;\n",
        "    Q, R = np.linalg.qr(S)\n",
        "    R_x = R[:(m+1),:m]; R_y = R[:(m+1), 1:(m+1)]\n",
        "    Z, L, r = GEDMD(R_x, R_y, tol, type)\n",
        "    Z = Q@Z\n",
        "    return Z, L, r, Q, R"
      ]
    },
    {
      "cell_type": "code",
      "execution_count": 54,
      "metadata": {},
      "outputs": [],
      "source": [
        "def DMD_added_snap(S, B, Q, R, tol=1e-12, type: str=None):\n",
        "    m=S.shape[1]-1; N=S.shape[0]; b=B.shape[1]\n",
        "    if(B.shape[0]!=N):\n",
        "        return \"new data doesn't have the same dimension as the old data\"\n",
        "    R_new= np.conjugate(Q.T)@B\n",
        "    Q_1, R_1 = np.linalg.qr(B-Q@R_new)\n",
        "    R_new=np.concatenate((R_new, R_1), axis=0)\n",
        "    R = np.concatenate((R, np.zeros((b,m+1))), axis=0)\n",
        "    R = np.concatenate((R, R_new), axis=1)\n",
        "    Q = np.concatenate((Q, Q_1), axis=1)\n",
        "    m=m+b\n",
        "    R_x = R[:(m+1),:m]; R_y = R[:(m+1), 1:(m+1)] \n",
        "    Z, L, r = GEDMD(R_x, R_y, tol, type)\n",
        "    Z=Q@Z\n",
        "    return Z, L, r, Q, R\n"
      ]
    },
    {
      "cell_type": "code",
      "execution_count": 55,
      "metadata": {},
      "outputs": [],
      "source": [
        "def householder_for_dmd(R, l):\n",
        "    \"\"\"R - matrix in trapezoidal form; \n",
        "    l - the amount of former dmd values discarded (also the number of sub-diagonals below the main one in R)\"\"\"\n",
        "    N = R.shape[1]; N0 = R.shape[0]\n",
        "\n",
        "    #l se moze iz oblika R procitat:\n",
        "    #l=N0-N\n",
        "    \n",
        "    v_all=np.empty((l+1,N))\n",
        "\n",
        "\n",
        "    #HH transf od R (trapezoidalna) \n",
        "    for i in range(N):\n",
        "        element=R[i:(i+l+1),i]  \n",
        "        v = element.copy().reshape(-1,1) #ako stavim v=element - pokazuju na istu memoriju; ne radi!!\n",
        "        v[0] = v[0] + np.sign(element[0])*np.linalg.norm(element)\n",
        "        R[i:(i+l+1),i:] = R[i:(i+l+1),i:] - 2/(v.T@v)*v@(v.T@R[i:(i+l+1),i:])\n",
        "        v_all[:,i] = v.reshape(-1)\n",
        "\n",
        "    ##Q - from HH matrices\n",
        "    hh_current = np.eye(N0, N0)\n",
        "    v_current=v_all[:,-1].reshape(-1,1)\n",
        "    hh_current[-l-1:,-l-1:] = np.eye(l+1,l+1)-2/(v_current.T@v_current)*(v_current@v_current.T)\n",
        "\n",
        "    hh=hh_current #ovdje @ I\n",
        "\n",
        "    for i in range(N-2,-1,-1):\n",
        "        v_current = v_all[:,i].reshape(-1,1)\n",
        "        hh_current = np.eye(l+1,l+1)-2/(v_current.T@v_current)*(v_current@v_current.T)\n",
        "        hh[i:i+l+1, :] = hh_current@hh[i:i+l+1, :]\n",
        "        #print(hh)\n",
        "\n",
        "\n",
        "    return hh, R, v_all"
      ]
    },
    {
      "cell_type": "code",
      "execution_count": 56,
      "metadata": {},
      "outputs": [],
      "source": [
        "def DMD_discarding_snap(l, Q, R, tol=1e-12, type: str=None):\n",
        "    m=R.shape[0]\n",
        "    hh, R, _ = householder_for_dmd(R[:,l:], l)\n",
        "    R_x = R[:(m-l),:(m-l-1)]; R_y = R[:(m-l), 1:(m-l)]\n",
        "    Z, L, r = GEDMD(R_x, R_y, tol, type)\n",
        "    Q=Q[:,:m-l]\n",
        "    Z=Q@Z\n",
        "    return Z,L,r,Q, R, hh"
      ]
    },
    {
      "cell_type": "markdown",
      "metadata": {},
      "source": [
        "**Umjetni primjer**"
      ]
    },
    {
      "cell_type": "code",
      "execution_count": 57,
      "metadata": {
        "id": "9YjwHnjoxEgl"
      },
      "outputs": [],
      "source": [
        "N=300\n",
        "m=10\n",
        "x=np.random.rand(N)\n",
        "A=np.random.rand(N,N)\n",
        "A = A/np.linalg.norm(A, 2)"
      ]
    },
    {
      "cell_type": "code",
      "execution_count": 58,
      "metadata": {
        "id": "ptxEG0_wxEgm"
      },
      "outputs": [],
      "source": [
        "X=np.empty((N,m+1))\n",
        "X[:,0]=x\n",
        "for i in range(m):\n",
        "    X[:,i+1]=A@X[:,i]\n",
        "X=X+np.random.rand(N,m+1)/N"
      ]
    },
    {
      "cell_type": "code",
      "execution_count": 59,
      "metadata": {
        "colab": {
          "base_uri": "https://localhost:8080/"
        },
        "id": "mnAs_EnVxEgm",
        "outputId": "e42468f5-9408-46c3-c467-fa68a425d8ea"
      },
      "outputs": [
        {
          "data": {
            "text/plain": [
              "array([ 0.99902+0.j     ,  0.50014+0.60875j,  0.50014-0.60875j,\n",
              "       -0.02979+0.69929j, -0.02979-0.69929j,  0.01715+0.j     ,\n",
              "       -0.09079+0.j     , -0.7818 +0.j     , -0.49337+0.56844j,\n",
              "       -0.49337-0.56844j])"
            ]
          },
          "execution_count": 59,
          "metadata": {},
          "output_type": "execute_result"
        }
      ],
      "source": [
        "Z, L = DMD(X[:,:m], X[:, 1:], N*np.finfo(float).resolution)\n",
        "\n",
        "L"
      ]
    },
    {
      "cell_type": "code",
      "execution_count": 60,
      "metadata": {},
      "outputs": [
        {
          "name": "stdout",
          "output_type": "stream",
          "text": [
            "[[0.56958 0.56477 0.5649  0.5631 ]\n",
            " [0.56787 0.56064 0.55924 0.55621]\n",
            " [0.55789 0.56518 0.56573 0.56496]\n",
            " [0.55119 0.54745 0.54746 0.54516]\n",
            " [0.54838 0.53695 0.53813 0.53538]]\n",
            "[[0.56477 0.56958 0.5631  0.5649 ]\n",
            " [0.56064 0.56787 0.55621 0.55924]\n",
            " [0.56518 0.55789 0.56496 0.56573]\n",
            " [0.54745 0.55119 0.54516 0.54746]\n",
            " [0.53695 0.54838 0.53538 0.53813]]\n"
          ]
        },
        {
          "data": {
            "text/plain": [
              "array([ 0.99911+0.j     ,  0.57269+0.59829j,  0.57269-0.59829j,\n",
              "        0.08957+0.72768j,  0.08957-0.72768j,  0.00196+0.j     ,\n",
              "       -0.46021+0.66477j, -0.46021-0.66477j, -0.64465+0.16982j,\n",
              "       -0.64465-0.16982j])"
            ]
          },
          "execution_count": 60,
          "metadata": {},
          "output_type": "execute_result"
        }
      ],
      "source": [
        "#permutirani podaci - druge eigenvalues - kao što bi i očekivali!\n",
        "print(X[:5,[1,6,8,9]])\n",
        "temp=X[:,[1,6,8,9]]\n",
        "X[:,[6,9]] = temp[:,[0,2]]\n",
        "X[:,[1,8]] = temp[:,[1,3]]\n",
        "print(X[:5,[1,6,8,9]])\n",
        "\n",
        "Z_perm, L_perm = DMD(X[:,:m], X[:, 1:], N*np.finfo(float).resolution)\n",
        "\n",
        "L_perm\n"
      ]
    },
    {
      "cell_type": "code",
      "execution_count": 61,
      "metadata": {},
      "outputs": [
        {
          "data": {
            "text/plain": [
              "array([ 0.99911+0.j     ,  0.57269+0.59829j,  0.57269-0.59829j,\n",
              "        0.08957+0.72768j,  0.08957-0.72768j,  0.00196+0.j     ,\n",
              "       -0.46021+0.66477j, -0.46021-0.66477j, -0.64465+0.16982j,\n",
              "       -0.64465-0.16982j])"
            ]
          },
          "execution_count": 61,
          "metadata": {},
          "output_type": "execute_result"
        }
      ],
      "source": [
        "Ze, Le = DMD_exact(X[:,:m], X[:, 1:], N*np.finfo(float).resolution)\n",
        "Le\n",
        "#isto kao L?"
      ]
    },
    {
      "cell_type": "code",
      "execution_count": 62,
      "metadata": {},
      "outputs": [
        {
          "data": {
            "text/plain": [
              "array([ 0.99911+0.j     ,  0.57269+0.59829j,  0.57269-0.59829j,\n",
              "        0.08957+0.72768j,  0.08957-0.72768j,  0.00196+0.j     ,\n",
              "       -0.46021+0.66477j, -0.46021-0.66477j, -0.64465+0.16982j,\n",
              "       -0.64465-0.16982j])"
            ]
          },
          "execution_count": 62,
          "metadata": {},
          "output_type": "execute_result"
        }
      ],
      "source": [
        "Zg, Lg, rg = GEDMD(X[:,:m], X[:,1:], N*np.finfo(float).resolution)\n",
        "Lg"
      ]
    },
    {
      "cell_type": "code",
      "execution_count": 64,
      "metadata": {},
      "outputs": [
        {
          "name": "stdout",
          "output_type": "stream",
          "text": [
            "[ 0.99911+0.j       0.57269+0.59829j  0.57269-0.59829j  0.08957+0.72768j\n",
            "  0.08957-0.72768j  0.00196+0.j      -0.46021+0.66477j -0.46021-0.66477j\n",
            " -0.64465+0.16982j -0.64465-0.16982j]\n",
            "[ 0.99967+0.j       0.60737+0.56848j  0.60737-0.56848j  0.21378+0.71204j\n",
            "  0.21378-0.71204j -0.28196+0.80107j -0.28196-0.80107j -0.00123+0.j\n",
            " -0.70326+0.j      -0.61952+0.35984j -0.61952-0.35984j]\n",
            "[ 0.99967+0.j       0.60737+0.56848j  0.60737-0.56848j  0.21378+0.71204j\n",
            "  0.21378-0.71204j -0.28196+0.80107j -0.28196-0.80107j -0.00123+0.j\n",
            " -0.70326+0.j      -0.61952+0.35984j -0.61952-0.35984j]\n",
            "True\n"
          ]
        }
      ],
      "source": [
        "Z_qr, L_qr, r_qr, Q, R = GEDMDQ(X, N*np.finfo(float).resolution)\n",
        "print(L_qr)\n",
        "\n",
        "B = (A@X[:,m]+np.random.rand(N)/N).reshape((-1,1))\n",
        "\n",
        "Z_added, L_added, r_added, _,_ = DMD_added_snap(X, B, Q, R, N*np.finfo(float).resolution)\n",
        "print(L_added)\n",
        "\n",
        "#provjera.. - dobije se isto\n",
        "_,L_added_direct,_,_,_ = GEDMDQ(np.concatenate((X, B), axis=1), N*np.finfo(float).resolution)\n",
        "print(L_added_direct)\n",
        "\n",
        "print(np.allclose(L_added, L_added_direct))\n"
      ]
    },
    {
      "cell_type": "code",
      "execution_count": 65,
      "metadata": {},
      "outputs": [
        {
          "name": "stdout",
          "output_type": "stream",
          "text": [
            "[ 0.99911+0.j       0.57269+0.59829j  0.57269-0.59829j  0.08957+0.72768j\n",
            "  0.08957-0.72768j  0.00196+0.j      -0.46021+0.66477j -0.46021-0.66477j\n",
            " -0.64465+0.16982j -0.64465-0.16982j]\n",
            "[ 0.99967+0.j       0.60737+0.56848j  0.60737-0.56848j  0.21378+0.71204j\n",
            "  0.21378-0.71204j -0.28196+0.80107j -0.28196-0.80107j -0.00123+0.j\n",
            " -0.70326+0.j      -0.61952+0.35984j -0.61952-0.35984j]\n",
            "[ 0.99967+0.j       0.60737+0.56848j  0.60737-0.56848j  0.21378+0.71204j\n",
            "  0.21378-0.71204j -0.28196+0.80107j -0.28196-0.80107j -0.00123+0.j\n",
            " -0.70326+0.j      -0.61952+0.35984j -0.61952-0.35984j]\n",
            "True\n"
          ]
        }
      ],
      "source": [
        "Z_qr, L_qr, r_qr, Q, R = GEDMDQ(X, N*np.finfo(float).resolution)\n",
        "print(L_qr)\n",
        "\n",
        "l=2\n",
        "\n",
        "Z_disc, L_disc, r_disc, _,_,_ = DMD_discarding_snap(l, Q, R, N*np.finfo(float).resolution)\n",
        "print(L_added)\n",
        "\n",
        "#provjera.. - dobije se isto\n",
        "_,L_discarded_direct,_,_,_ = GEDMDQ(X[:,l:], N*np.finfo(float).resolution)\n",
        "print(L_added_direct)\n",
        "\n",
        "print(np.allclose(L_added, L_added_direct))"
      ]
    },
    {
      "cell_type": "code",
      "execution_count": 66,
      "metadata": {},
      "outputs": [
        {
          "data": {
            "text/plain": [
              "array([0.99904+0.j     , 0.01499+0.0315j , 0.01499-0.0315j ,\n",
              "       0.03099+0.01251j, 0.03099-0.01251j, 0.02623+0.02099j,\n",
              "       0.02623-0.02099j, 0.02867+0.01608j, 0.02867-0.01608j,\n",
              "       0.00563+0.03129j])"
            ]
          },
          "execution_count": 66,
          "metadata": {},
          "output_type": "execute_result"
        }
      ],
      "source": [
        "np.linalg.eigvals(A)[:10]"
      ]
    },
    {
      "cell_type": "code",
      "execution_count": 17,
      "metadata": {
        "id": "j3FdDOgKyJ7z"
      },
      "outputs": [],
      "source": [
        "#!pip install pydmd"
      ]
    },
    {
      "cell_type": "code",
      "execution_count": 67,
      "metadata": {
        "colab": {
          "base_uri": "https://localhost:8080/"
        },
        "id": "8Tfp50mWyBI0",
        "outputId": "9f8d7811-b7eb-4cf3-a191-bdfe655e7e0d"
      },
      "outputs": [
        {
          "data": {
            "text/plain": [
              "array([ 0.99911+0.j     ,  0.57269+0.59829j,  0.57269-0.59829j,\n",
              "        0.08957+0.72768j,  0.08957-0.72768j,  0.00196+0.j     ,\n",
              "       -0.46021+0.66477j, -0.46021-0.66477j, -0.64465+0.16982j,\n",
              "       -0.64465-0.16982j])"
            ]
          },
          "execution_count": 67,
          "metadata": {},
          "output_type": "execute_result"
        }
      ],
      "source": [
        "import pydmd\n",
        "dmd1 = pydmd.DMD(svd_rank=10)\n",
        "dmd1.fit(X[:,:m], X[:,1:])\n",
        "dmd1.eigs"
      ]
    },
    {
      "cell_type": "code",
      "execution_count": 68,
      "metadata": {
        "colab": {
          "base_uri": "https://localhost:8080/"
        },
        "id": "cs6X48SI4qtJ",
        "outputId": "b4c23868-7849-4435-d96f-abfe755ed42b"
      },
      "outputs": [
        {
          "name": "stdout",
          "output_type": "stream",
          "text": [
            "9.50954063771195e-15\n",
            "3.6840676746470185e-14\n",
            "4.208870303481923e-14\n",
            "5.6712599341529956e-14\n",
            "8.004023624124816e-14\n",
            "1.0147198436737214e-13\n",
            "1.252999952152432e-13\n",
            "1.4766722570459335e-13\n",
            "1.709659544170343e-13\n",
            "1.9714635256831433e-13\n"
          ]
        }
      ],
      "source": [
        "for i in range(dmd1.eigs.shape[0]):\n",
        "    print(np.linalg.norm(dmd1.reconstructed_data[:,i]-X[:,i]))"
      ]
    },
    {
      "cell_type": "code",
      "execution_count": 20,
      "metadata": {},
      "outputs": [
        {
          "data": {
            "text/plain": [
              "(300, 10)"
            ]
          },
          "execution_count": 20,
          "metadata": {},
          "output_type": "execute_result"
        }
      ],
      "source": [
        "dmd1.reconstructed_data.shape"
      ]
    },
    {
      "cell_type": "code",
      "execution_count": 21,
      "metadata": {},
      "outputs": [],
      "source": [
        "#usporedi s rezultatima lin regresije..."
      ]
    },
    {
      "cell_type": "code",
      "execution_count": 22,
      "metadata": {
        "colab": {
          "base_uri": "https://localhost:8080/"
        },
        "id": "O95HiYDPxEgn",
        "outputId": "0a9902d8-1ffc-412b-99ed-3362452a8a9f"
      },
      "outputs": [
        {
          "name": "stdout",
          "output_type": "stream",
          "text": [
            "norma razlike: 10.016455443530974\n",
            "norma razlike: 7.742227883398989\n",
            "norma razlike: 7.7923741309410985\n",
            "norma razlike: 7.733620097090704\n",
            "norma razlike: 7.657860074757331\n",
            "norma razlike: 7.690956929821568\n",
            "norma razlike: 7.674629077743607\n",
            "norma razlike: 7.603231651478409\n",
            "norma razlike: 7.593384541152244\n",
            "norma razlike: 7.614064728997973\n"
          ]
        }
      ],
      "source": [
        "#procjena s_i - ne ovako!\n",
        "for i in range(m):\n",
        "    s=np.zeros((Z.shape[0]))\n",
        "    for j in range(Z.shape[1]):\n",
        "        s=s+Z[:,j]*(L[j]**(i))\n",
        "    print(\"norma razlike:\",np.linalg.norm(s-X[:,i]))\n",
        "    #print(s,X[:,i], sep=\"\\n\")"
      ]
    },
    {
      "cell_type": "markdown",
      "metadata": {},
      "source": [
        "*proba za funkcije...*"
      ]
    },
    {
      "cell_type": "code",
      "execution_count": 23,
      "metadata": {},
      "outputs": [
        {
          "name": "stdout",
          "output_type": "stream",
          "text": [
            "(20, 14)\n",
            "True\n",
            "True\n",
            "[[-2.49115420e-17 -3.32414159e-18  2.39346322e-19 -2.97233822e-20\n",
            "  -7.16402113e-22  9.12206535e-23  1.12332284e-07]\n",
            " [ 0.00000000e+00 -2.86965239e-17 -4.05206363e-20 -4.52793389e-20\n",
            "   8.81409224e-21 -4.75823460e-22  5.45047822e-07]\n",
            " [ 0.00000000e+00  0.00000000e+00  7.17838529e-19  1.44221062e-20\n",
            "  -3.22977382e-21 -2.39357798e-22 -2.78134589e-08]\n",
            " [ 0.00000000e+00  0.00000000e+00  0.00000000e+00 -1.20583572e-19\n",
            "  -2.05737289e-22  1.46630486e-22  8.80566342e-08]\n",
            " [ 0.00000000e+00  0.00000000e+00  0.00000000e+00  0.00000000e+00\n",
            "  -1.85650177e-20  1.51774526e-22  2.73137764e-08]\n",
            " [ 0.00000000e+00  0.00000000e+00  0.00000000e+00  0.00000000e+00\n",
            "   0.00000000e+00 -8.76165427e-22 -2.36115059e-07]\n",
            " [ 0.00000000e+00  0.00000000e+00  0.00000000e+00  0.00000000e+00\n",
            "   0.00000000e+00  0.00000000e+00 -5.39037208e-07]]\n",
            "(14, 14)\n"
          ]
        }
      ],
      "source": [
        "#QR za (X Y) kad X i Y imaju \"istu jezgru\"\n",
        "N=20; m=7\n",
        "A = np.random.rand(N,N)\n",
        "A=A/np.linalg.norm(A)\n",
        "x = np.ones((N))\n",
        "X=np.empty((N,m+1))\n",
        "X[:,0] = x\n",
        "for i in range(m):\n",
        "    X[:,i+1]= A @ X[:,i]\n",
        "#print(X)\n",
        "\n",
        "Z = np.concatenate((X[:,:m], X[:,1:]), axis=1)\n",
        "print(Z.shape)\n",
        "\n",
        "Q, R = np.linalg.qr(Z, mode=\"reduced\")\n",
        "\n",
        "R_12 = R[:m,m:]\n",
        "R_22 = R[m:2*m, m:]\n",
        "\n",
        "Q_1 = Q[:,:m]\n",
        "Q_2 = Q[:,m:]\n",
        "\n",
        "\n",
        "print(np.allclose(X[:,1:],Q_1@R_12 + Q_2@R_22))\n",
        "print(np.allclose(X[:,1:],Q_1@R_12 + Q_2*R_22[:,m-1]))\n",
        "print(R_22)\n",
        "print(R.shape)"
      ]
    },
    {
      "cell_type": "code",
      "execution_count": 46,
      "metadata": {},
      "outputs": [
        {
          "name": "stdout",
          "output_type": "stream",
          "text": [
            "[[0.7277402  0.31285009 0.60445674 0.16696111 0.13697844 0.98605776]\n",
            " [0.08610975 0.80853874 0.98211818 0.00555537 0.63069454 0.43699647]\n",
            " [0.85231584 0.1807425  0.32739857 0.39629574 0.43756928 0.23404151]\n",
            " [0.         0.47329275 0.90318252 0.24260367 0.5394951  0.37876998]\n",
            " [0.         0.         0.63515159 0.85469207 0.94268736 0.42347423]\n",
            " [0.         0.         0.         0.674465   0.80993264 0.78157905]]\n",
            "hh_pravi\n",
            "[[-0.64743341 -0.05745596  0.09650832 -0.25205097  0.57374316 -0.41893202]\n",
            " [-0.07660746 -0.84508636 -0.22588411  0.12725104 -0.31983959 -0.33233494]\n",
            " [-0.75826201  0.13443747 -0.05958139  0.20235464 -0.45757058  0.39127625]\n",
            " [ 0.         -0.51425132  0.34484429 -0.1280546   0.34188048  0.69523216]\n",
            " [ 0.          0.          0.90398838  0.12089145 -0.30174712 -0.27773899]\n",
            " [ 0.          0.          0.          0.92104145  0.38886631 -0.0215787 ]]\n",
            "[[-1.12403869 -0.40153987 -0.71483697 -0.40901779 -0.46879249 -0.84934871]\n",
            " [ 0.         -0.92035302 -1.28515249 -0.08576994 -0.75947194 -0.58927366]\n",
            " [-0.         -0.          0.70261035  0.8475386   0.88290492  0.49594015]\n",
            " [ 0.          0.         -0.          0.73228517  0.92513472  0.57698871]\n",
            " [ 0.          0.         -0.          0.         -0.10840431  0.6245263 ]\n",
            " [ 0.          0.          0.          0.         -0.         -0.33789317]]\n",
            "True\n"
          ]
        }
      ],
      "source": [
        "\"\"\"HH transformacija - proba s kvadratnom matricom koja skoro gornje trokutasta (dvije sporedne diag ne-nula)\"\"\"\n",
        "dim_trapez_m = 6\n",
        "\n",
        "np.set_printoptions(precision=8, suppress=True)\n",
        "\n",
        "trapez_m = np.random.rand(dim_trapez_m,dim_trapez_m)\n",
        "trapez_m = np.triu(trapez_m, -2)\n",
        "print(trapez_m)\n",
        "trapez_copy = trapez_m.copy()\n",
        "v_all=np.empty((3,dim_trapez_m-1))\n",
        "#hh1 = np.eye(dim_trapez_m, dim_trapez_m)\n",
        "\n",
        "\n",
        "#HH transf od R (trapezoidalna) \n",
        "#### racun od HH matrice (\"Q\") bi se mogao i ovdje dogoditi - primjena transformacija na I i onda uzmemo transponirano\n",
        "for i in range(dim_trapez_m-2):\n",
        "    element=trapez_m[i:(i+3),i]  \n",
        "    v = element.copy().reshape(-1,1) #ako stavim v=element - pokazuju na istu memoriju; ne radi!!\n",
        "    v[0] = v[0] + np.sign(element[0])*np.linalg.norm(element)\n",
        "    trapez_m[i:(i+3),i:] = trapez_m[i:(i+3),i:] - 2/(v.T@v)*v@(v.T@trapez_m[i:(i+3),i:])\n",
        "    #hh1[i:(i+3),i:] = hh1[i:(i+3),i:] - 2/(v.T@v)*v@(v.T@hh1[i:(i+3),i:])  #- daje krivo iz nekog razloga..\n",
        "    #print(\"hh1\",hh1,sep=\"\\n\")\n",
        "    v_all[:,i] = v.reshape(-1)\n",
        "\n",
        "#predzadnji stupac\n",
        "element=trapez_m[dim_trapez_m-2:dim_trapez_m,dim_trapez_m-2]  \n",
        "v = element.copy().reshape(-1,1)\n",
        "v[0] = v[0] + np.sign(element[0])*np.linalg.norm(element)\n",
        "trapez_m[dim_trapez_m-2:dim_trapez_m,dim_trapez_m-2:] = trapez_m[dim_trapez_m-2:dim_trapez_m,dim_trapez_m-2:] - 2/(v.T@v)*v@(v.T@trapez_m[dim_trapez_m-2:dim_trapez_m,dim_trapez_m-2:])\n",
        "#hh1[dim_trapez_m-2:dim_trapez_m,dim_trapez_m-2:] = hh1[dim_trapez_m-2:dim_trapez_m,dim_trapez_m-2:] - 2/(v.T@v)*v@(v.T@hh1[dim_trapez_m-2:dim_trapez_m,dim_trapez_m-2:])\n",
        "v_all[:3,dim_trapez_m-2] = np.concatenate((v.reshape(-1),[0]), axis=0)\n",
        "\n",
        "#print(\"hh1_fin\",hh1.T, sep=\"\\n\")\n",
        "\n",
        "##Q - from HH matrices\n",
        "hh_current = np.eye(dim_trapez_m, dim_trapez_m)\n",
        "v_current=v_all[:2,-1].reshape(-1,1)\n",
        "hh_current[-2:,-2:] = np.eye(2,2)-2/(v_current.T@v_current)*(v_current@v_current.T)\n",
        "\n",
        "hh=hh_current #ovdje @ I\n",
        "#print(hh)\n",
        "\n",
        "#print(v_all)\n",
        "for i in range(dim_trapez_m-3,-1,-1):\n",
        "    v_current = v_all[:,i].reshape(-1,1)\n",
        "    hh_current = np.eye(3,3)-2/(v_current.T@v_current)*(v_current@v_current.T)\n",
        "    hh[i:i+3, :] = hh_current@hh[i:i+3, :]\n",
        "    #print(hh)\n",
        "print(\"hh_pravi\",hh, sep=\"\\n\")\n",
        "\n",
        "print(trapez_m)\n",
        "print(np.allclose(hh@trapez_m,trapez_copy))\n",
        "np.set_printoptions()"
      ]
    },
    {
      "cell_type": "code",
      "execution_count": 31,
      "metadata": {},
      "outputs": [
        {
          "name": "stdout",
          "output_type": "stream",
          "text": [
            "[[0.24033 0.0685 ]\n",
            " [0.14314 0.52602]\n",
            " [0.60306 0.85758]\n",
            " [0.55059 0.20067]\n",
            " [0.83724 0.95008]\n",
            " [0.99366 0.56128]\n",
            " [0.      0.13439]]\n",
            "[[-1.55994 -1.32863]\n",
            " [ 0.      -0.72636]\n",
            " [ 0.       0.     ]\n",
            " [ 0.      -0.     ]\n",
            " [ 0.       0.     ]\n",
            " [ 0.      -0.     ]\n",
            " [ 0.       0.     ]]\n",
            "True\n"
          ]
        }
      ],
      "source": [
        "#test hh fje\n",
        "N0=7; N=2\n",
        "l=N0-N\n",
        "trapez_m = np.random.rand(N0,N)\n",
        "trapez_m = np.triu(trapez_m, -l)\n",
        "trapez_copy=trapez_m.copy()\n",
        "np.set_printoptions(precision=5, suppress=True)\n",
        "print(trapez_m)\n",
        "\n",
        "hh, R,_ = householder_for_dmd(trapez_m, l)\n",
        "print(R)\n",
        "print(np.allclose(hh@R, trapez_copy))\n",
        "\n",
        "np.set_printoptions()"
      ]
    },
    {
      "cell_type": "markdown",
      "metadata": {},
      "source": [
        "**VORTICITY**"
      ]
    },
    {
      "cell_type": "code",
      "execution_count": 2,
      "metadata": {},
      "outputs": [],
      "source": [
        "import scipy.io\n",
        "mat = scipy.io.loadmat('CYLINDER_ALL.mat')\n",
        "u=mat['UALL']\n",
        "v=mat['VALL']\n",
        "vort=mat['VORTALL']\n",
        "\n",
        "del mat\n",
        "\n",
        "nx=199; ny=449"
      ]
    },
    {
      "cell_type": "code",
      "execution_count": 5,
      "metadata": {},
      "outputs": [
        {
          "data": {
            "text/plain": [
              "<matplotlib.colorbar.Colorbar at 0x15157edc5c8>"
            ]
          },
          "execution_count": 5,
          "metadata": {},
          "output_type": "execute_result"
        },
        {
          "data": {
            "image/png": "[encoded data removed]",
            "text/plain": [
              "<Figure size 576x432 with 2 Axes>"
            ]
          },
          "metadata": {
            "needs_background": "light"
          },
          "output_type": "display_data"
        }
      ],
      "source": [
        "import matplotlib.pyplot as plt\n",
        "koji=19\n",
        "\n",
        "vort1=vort[:,koji]\n",
        "\n",
        "vort1 = np.clip(vort1, -5,5)\n",
        "\n",
        "fig, ax = plt.subplots(figsize=(8, 6))\n",
        "y_os = np.linspace(0,200,200)\n",
        "x_os = np.linspace(0,450,450)\n",
        "\n",
        "c = ax.pcolormesh(x_os, y_os, vort1.reshape((-1,199)).T, cmap='coolwarm')\n",
        "fig.colorbar(c, ax=ax, label='Vorticity')\n",
        "\n"
      ]
    },
    {
      "cell_type": "code",
      "execution_count": 6,
      "metadata": {},
      "outputs": [
        {
          "data": {
            "image/png": "[encoded data removed]",
            "text/plain": [
              "<Figure size 432x288 with 2 Axes>"
            ]
          },
          "metadata": {
            "needs_background": "light"
          },
          "output_type": "display_data"
        }
      ],
      "source": [
        "plt.figure()\n",
        "x_os_2=np.repeat(x_os[:-1], 199); y_os_2=np.tile(y_os[:-1], 449)\n",
        "q = plt.quiver(x_os_2, y_os_2, u[:,koji], v[:,koji], vort1, cmap='hsv', scale=10)\n",
        "q.set_clim(-5, 5)\n",
        "cb = plt.colorbar(q)\n",
        "cb.set_label('vorticity')\n",
        "plt.show()"
      ]
    }
  ],
  "metadata": {
    "colab": {
      "provenance": []
    },
    "kernelspec": {
      "display_name": "myenv",
      "language": "python",
      "name": "python3"
    },
    "language_info": {
      "codemirror_mode": {
        "name": "ipython",
        "version": 3
      },
      "file_extension": ".py",
      "mimetype": "text/x-python",
      "name": "python",
      "nbconvert_exporter": "python",
      "pygments_lexer": "ipython3",
      "version": "3.7.16"
    }
  },
  "nbformat": 4,
  "nbformat_minor": 0
}

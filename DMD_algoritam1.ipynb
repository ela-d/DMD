{
  "cells": [
    {
      "cell_type": "code",
      "execution_count": 50,
      "metadata": {
        "id": "cc4M6OJyxEgd"
      },
      "outputs": [],
      "source": [
        "%run DMD_functions.ipynb"
      ]
    },
    {
      "cell_type": "markdown",
      "metadata": {},
      "source": [
        "**Umjetni primjer**"
      ]
    },
    {
      "cell_type": "code",
      "execution_count": 51,
      "metadata": {
        "id": "9YjwHnjoxEgl"
      },
      "outputs": [],
      "source": [
        "N=300\n",
        "m=10\n",
        "x=np.random.rand(N)\n",
        "A=np.random.rand(N,N)\n",
        "A = A/np.linalg.norm(A, 2)"
      ]
    },
    {
      "cell_type": "code",
      "execution_count": 52,
      "metadata": {
        "id": "ptxEG0_wxEgm"
      },
      "outputs": [],
      "source": [
        "X=np.empty((N,m+1))\n",
        "X[:,0]=x\n",
        "for i in range(m):\n",
        "    X[:,i+1]=A@X[:,i]\n",
        "X=X+np.random.rand(N,m+1)/N"
      ]
    },
    {
      "cell_type": "code",
      "execution_count": 53,
      "metadata": {
        "colab": {
          "base_uri": "https://localhost:8080/"
        },
        "id": "mnAs_EnVxEgm",
        "outputId": "e42468f5-9408-46c3-c467-fa68a425d8ea"
      },
      "outputs": [
        {
          "data": {
            "text/plain": [
              "array([ 0.99880065+0.j        ,  0.47520005+0.53465395j,\n",
              "        0.47520005-0.53465395j, -0.05650652+0.69148901j,\n",
              "       -0.05650652-0.69148901j,  0.00596196+0.07420462j,\n",
              "        0.00596196-0.07420462j, -0.76840905+0.j        ,\n",
              "       -0.49736594+0.47834133j, -0.49736594-0.47834133j])"
            ]
          },
          "execution_count": 53,
          "metadata": {},
          "output_type": "execute_result"
        }
      ],
      "source": [
        "Z, L = DMD(X[:,:m], X[:, 1:], N*np.finfo(float).resolution)\n",
        "\n",
        "L"
      ]
    },
    {
      "cell_type": "code",
      "execution_count": 54,
      "metadata": {},
      "outputs": [
        {
          "name": "stdout",
          "output_type": "stream",
          "text": [
            "[[0.5049879  0.50208287 0.49960763 0.50064034]\n",
            " [0.49145411 0.48513851 0.48174061 0.48116053]\n",
            " [0.51848816 0.49622618 0.49231416 0.49395438]\n",
            " [0.49621828 0.49280413 0.4911119  0.49091997]\n",
            " [0.50989694 0.51486927 0.5123571  0.51306827]]\n",
            "[[0.50208287 0.5049879  0.50064034 0.49960763]\n",
            " [0.48513851 0.49145411 0.48116053 0.48174061]\n",
            " [0.49622618 0.51848816 0.49395438 0.49231416]\n",
            " [0.49280413 0.49621828 0.49091997 0.4911119 ]\n",
            " [0.51486927 0.50989694 0.51306827 0.5123571 ]]\n"
          ]
        },
        {
          "data": {
            "text/plain": [
              "array([ 0.99895958+0.j        ,  0.62620128+0.55651991j,\n",
              "        0.62620128-0.55651991j,  0.12514311+0.76578023j,\n",
              "        0.12514311-0.76578023j, -0.00324455+0.j        ,\n",
              "       -0.69743277+0.26371878j, -0.69743277-0.26371878j,\n",
              "       -0.41751642+0.69338805j, -0.41751642-0.69338805j])"
            ]
          },
          "execution_count": 54,
          "metadata": {},
          "output_type": "execute_result"
        }
      ],
      "source": [
        "#permutirani podaci - druge eigenvalues - kao što bi i očekivali!\n",
        "print(X[:5,[1,6,8,9]])\n",
        "temp=X[:,[1,6,8,9]]\n",
        "X[:,[6,9]] = temp[:,[0,2]]\n",
        "X[:,[1,8]] = temp[:,[1,3]]\n",
        "print(X[:5,[1,6,8,9]])\n",
        "\n",
        "Z_perm, L_perm = DMD(X[:,:m], X[:, 1:], N*np.finfo(float).resolution)\n",
        "\n",
        "L_perm\n"
      ]
    },
    {
      "cell_type": "code",
      "execution_count": 55,
      "metadata": {},
      "outputs": [
        {
          "data": {
            "text/plain": [
              "array([ 0.99895958+0.j        ,  0.62620128+0.55651991j,\n",
              "        0.62620128-0.55651991j,  0.12514311+0.76578023j,\n",
              "        0.12514311-0.76578023j, -0.00324455+0.j        ,\n",
              "       -0.69743277+0.26371878j, -0.69743277-0.26371878j,\n",
              "       -0.41751642+0.69338805j, -0.41751642-0.69338805j])"
            ]
          },
          "execution_count": 55,
          "metadata": {},
          "output_type": "execute_result"
        }
      ],
      "source": [
        "Ze, Le = DMD_exact(X[:,:m], X[:, 1:], N*np.finfo(float).resolution)\n",
        "Le\n",
        "#isto kao L?"
      ]
    },
    {
      "cell_type": "code",
      "execution_count": 56,
      "metadata": {},
      "outputs": [
        {
          "data": {
            "text/plain": [
              "array([ 0.99895958+0.j        ,  0.62620128+0.55651991j,\n",
              "        0.62620128-0.55651991j,  0.12514311+0.76578023j,\n",
              "        0.12514311-0.76578023j, -0.00324455+0.j        ,\n",
              "       -0.41751642+0.69338805j, -0.41751642-0.69338805j,\n",
              "       -0.69743277+0.26371878j, -0.69743277-0.26371878j])"
            ]
          },
          "execution_count": 56,
          "metadata": {},
          "output_type": "execute_result"
        }
      ],
      "source": [
        "Zg, Lg, rg = GEDMD(X[:,:m], X[:,1:], N*np.finfo(float).resolution)\n",
        "Lg"
      ]
    },
    {
      "cell_type": "code",
      "execution_count": 57,
      "metadata": {},
      "outputs": [
        {
          "name": "stdout",
          "output_type": "stream",
          "text": [
            "[ 0.99895958+0.j          0.62620128+0.55651991j  0.62620128-0.55651991j\n",
            "  0.12514311+0.76578023j  0.12514311-0.76578023j -0.00324455+0.j\n",
            " -0.41751642+0.69338805j -0.41751642-0.69338805j -0.69743277+0.26371878j\n",
            " -0.69743277-0.26371878j]\n",
            "[ 0.99950429+0.j          0.59962821+0.53873218j  0.59962821-0.53873218j\n",
            "  0.17523456+0.68508294j  0.17523456-0.68508294j -0.00232818+0.j\n",
            " -0.28942115+0.76998291j -0.28942115-0.76998291j -0.67325831+0.j\n",
            " -0.63575536+0.35762107j -0.63575536-0.35762107j]\n",
            "[ 0.99950429+0.j          0.59962821+0.53873218j  0.59962821-0.53873218j\n",
            "  0.17523456+0.68508294j  0.17523456-0.68508294j -0.00232818+0.j\n",
            " -0.28942115+0.76998291j -0.28942115-0.76998291j -0.67325831+0.j\n",
            " -0.63575536+0.35762107j -0.63575536-0.35762107j]\n",
            "True\n"
          ]
        }
      ],
      "source": [
        "Z_qr, L_qr, r_qr, Q, R = GEDMDQ(X, N*np.finfo(float).resolution)\n",
        "print(L_qr)\n",
        "\n",
        "B = (A@X[:,m]+np.random.rand(N)/N).reshape((-1,1))\n",
        "\n",
        "Z_added, L_added, r_added, _,_ = DMD_added_snap(X, B, Q, R, N*np.finfo(float).resolution)\n",
        "print(L_added)\n",
        "\n",
        "#provjera.. - dobije se isto\n",
        "_,L_added_direct,_,_,_ = GEDMDQ(np.concatenate((X, B), axis=1), N*np.finfo(float).resolution)\n",
        "print(L_added_direct)\n",
        "\n",
        "print(np.allclose(L_added, L_added_direct))\n"
      ]
    },
    {
      "cell_type": "code",
      "execution_count": 58,
      "metadata": {},
      "outputs": [
        {
          "name": "stdout",
          "output_type": "stream",
          "text": [
            "[ 0.99895958+0.j          0.62620128+0.55651991j  0.62620128-0.55651991j\n",
            "  0.12514311+0.76578023j  0.12514311-0.76578023j -0.00324455+0.j\n",
            " -0.41751642+0.69338805j -0.41751642-0.69338805j -0.69743277+0.26371878j\n",
            " -0.69743277-0.26371878j]\n",
            "[ 0.99950429+0.j          0.59962821+0.53873218j  0.59962821-0.53873218j\n",
            "  0.17523456+0.68508294j  0.17523456-0.68508294j -0.00232818+0.j\n",
            " -0.28942115+0.76998291j -0.28942115-0.76998291j -0.67325831+0.j\n",
            " -0.63575536+0.35762107j -0.63575536-0.35762107j]\n",
            "[ 0.99950429+0.j          0.59962821+0.53873218j  0.59962821-0.53873218j\n",
            "  0.17523456+0.68508294j  0.17523456-0.68508294j -0.00232818+0.j\n",
            " -0.28942115+0.76998291j -0.28942115-0.76998291j -0.67325831+0.j\n",
            " -0.63575536+0.35762107j -0.63575536-0.35762107j]\n",
            "True\n"
          ]
        }
      ],
      "source": [
        "Z_qr, L_qr, r_qr, Q, R = GEDMDQ(X, N*np.finfo(float).resolution)\n",
        "print(L_qr)\n",
        "\n",
        "l=2\n",
        "\n",
        "Z_disc, L_disc, r_disc, _,_,_ = DMD_discarding_snap(l, Q, R, N*np.finfo(float).resolution)\n",
        "print(L_added)\n",
        "\n",
        "#provjera.. - dobije se isto\n",
        "_,L_discarded_direct,_,_,_ = GEDMDQ(X[:,l:], N*np.finfo(float).resolution)\n",
        "print(L_added_direct)\n",
        "\n",
        "print(np.allclose(L_added, L_added_direct))"
      ]
    },
    {
      "cell_type": "code",
      "execution_count": 59,
      "metadata": {},
      "outputs": [
        {
          "data": {
            "text/plain": [
              "array([ 0.99883031+0.j        , -0.03399319+0.j        ,\n",
              "       -0.02259196+0.0247218j , -0.02259196-0.0247218j ,\n",
              "       -0.01414073+0.02989693j, -0.01414073-0.02989693j,\n",
              "       -0.007489  +0.03161878j, -0.007489  -0.03161878j,\n",
              "        0.03141097+0.01027764j,  0.03141097-0.01027764j])"
            ]
          },
          "execution_count": 59,
          "metadata": {},
          "output_type": "execute_result"
        }
      ],
      "source": [
        "np.linalg.eigvals(A)[:10]"
      ]
    },
    {
      "cell_type": "code",
      "execution_count": 60,
      "metadata": {
        "id": "j3FdDOgKyJ7z"
      },
      "outputs": [],
      "source": [
        "#!pip install pydmd"
      ]
    },
    {
      "cell_type": "code",
      "execution_count": 61,
      "metadata": {
        "colab": {
          "base_uri": "https://localhost:8080/"
        },
        "id": "8Tfp50mWyBI0",
        "outputId": "9f8d7811-b7eb-4cf3-a191-bdfe655e7e0d"
      },
      "outputs": [
        {
          "data": {
            "text/plain": [
              "array([ 0.99895958+0.j        ,  0.62620128+0.55651991j,\n",
              "        0.62620128-0.55651991j,  0.12514311+0.76578023j,\n",
              "        0.12514311-0.76578023j, -0.00324455+0.j        ,\n",
              "       -0.69743277+0.26371878j, -0.69743277-0.26371878j,\n",
              "       -0.41751642+0.69338805j, -0.41751642-0.69338805j])"
            ]
          },
          "execution_count": 61,
          "metadata": {},
          "output_type": "execute_result"
        }
      ],
      "source": [
        "import pydmd\n",
        "dmd1 = pydmd.DMD(svd_rank=10)\n",
        "dmd1.fit(X[:,:m], X[:,1:])\n",
        "dmd1.eigs"
      ]
    },
    {
      "cell_type": "code",
      "execution_count": 62,
      "metadata": {
        "colab": {
          "base_uri": "https://localhost:8080/"
        },
        "id": "cs6X48SI4qtJ",
        "outputId": "b4c23868-7849-4435-d96f-abfe755ed42b"
      },
      "outputs": [
        {
          "name": "stdout",
          "output_type": "stream",
          "text": [
            "6.228557733820353e-15\n",
            "2.2156190762483288e-14\n",
            "4.3077523309531105e-14\n",
            "6.224336352953847e-14\n",
            "8.29125944527372e-14\n",
            "9.79287335568481e-14\n",
            "1.1670798053743137e-13\n",
            "1.3712195554100117e-13\n",
            "1.559376619701621e-13\n",
            "1.6948821733203022e-13\n"
          ]
        }
      ],
      "source": [
        "for i in range(dmd1.eigs.shape[0]):\n",
        "    print(np.linalg.norm(dmd1.reconstructed_data[:,i]-X[:,i]))"
      ]
    },
    {
      "cell_type": "code",
      "execution_count": 63,
      "metadata": {},
      "outputs": [
        {
          "data": {
            "text/plain": [
              "(300, 10)"
            ]
          },
          "execution_count": 63,
          "metadata": {},
          "output_type": "execute_result"
        }
      ],
      "source": [
        "dmd1.reconstructed_data.shape"
      ]
    },
    {
      "cell_type": "code",
      "execution_count": 64,
      "metadata": {},
      "outputs": [],
      "source": [
        "#usporedi s rezultatima lin regresije..."
      ]
    },
    {
      "cell_type": "code",
      "execution_count": 65,
      "metadata": {},
      "outputs": [
        {
          "data": {
            "image/png": "[encoded data removed]",
            "text/plain": [
              "<Figure size 720x432 with 1 Axes>"
            ]
          },
          "metadata": {
            "needs_background": "light"
          },
          "output_type": "display_data"
        }
      ],
      "source": [
        "plt.show()\n",
        "plt.figure(figsize=(10, 6))\n",
        "plt.plot(1/r_qr, marker='', linestyle='-', color='b')\n",
        "plt.yscale('log')  # Set y-axis to logarithmic scale\n",
        "plt.grid(True)\n",
        "plt.show()"
      ]
    },
    {
      "cell_type": "code",
      "execution_count": 74,
      "metadata": {},
      "outputs": [
        {
          "name": "stdout",
          "output_type": "stream",
          "text": [
            "[0 5] (2,)\n"
          ]
        }
      ],
      "source": [
        "threshold=10\n",
        "indices = np.where(1/r_qr > threshold)[0]\n",
        "print(indices, indices.shape)"
      ]
    },
    {
      "cell_type": "code",
      "execution_count": 75,
      "metadata": {},
      "outputs": [
        {
          "name": "stdout",
          "output_type": "stream",
          "text": [
            "norma razlike: 4.956324392472246\n",
            "norma razlike: 0.03542045856786239\n",
            "norma razlike: 0.06890762586160551\n",
            "norma razlike: 0.06112979230625282\n",
            "norma razlike: 0.05079216510498952\n",
            "norma razlike: 0.04136922446864197\n",
            "norma razlike: 0.15685532204007796\n",
            "norma razlike: 0.028361122792149418\n",
            "norma razlike: 0.02189136358809262\n",
            "norma razlike: 0.022517296993020217\n"
          ]
        },
        {
          "name": "stderr",
          "output_type": "stream",
          "text": [
            "c:\\Users\\elawi\\miniconda3\\envs\\myenv\\lib\\site-packages\\ipykernel_launcher.py:4: ComplexWarning: Casting complex values to real discards the imaginary part\n",
            "  after removing the cwd from sys.path.\n"
          ]
        }
      ],
      "source": [
        "for i in range(m):\n",
        "    s=np.zeros(X.shape)\n",
        "    for j in range(X.shape[1]):\n",
        "        s[:,i] = DMD_reconstruction(X,Z_qr, indices, L_qr, j)\n",
        "    print(\"norma razlike:\", np.linalg.norm(s[:,i]-X[:,i]))"
      ]
    },
    {
      "cell_type": "markdown",
      "metadata": {},
      "source": [
        "*proba za funkcije...*"
      ]
    },
    {
      "cell_type": "code",
      "execution_count": 45,
      "metadata": {},
      "outputs": [
        {
          "name": "stdout",
          "output_type": "stream",
          "text": [
            "(20, 14)\n",
            "True\n",
            "True\n",
            "[[ 0. -0. -0.  0. -0.  0. -0.]\n",
            " [ 0.  0. -0.  0.  0.  0. -0.]\n",
            " [ 0.  0. -0.  0.  0.  0.  0.]\n",
            " [ 0.  0.  0.  0.  0.  0.  0.]\n",
            " [ 0.  0.  0.  0.  0. -0. -0.]\n",
            " [ 0.  0.  0.  0.  0. -0.  0.]\n",
            " [ 0.  0.  0.  0.  0.  0. -0.]]\n",
            "(14, 14)\n"
          ]
        }
      ],
      "source": [
        "#QR za (X Y) kad X i Y imaju \"istu jezgru\"\n",
        "N=20; m=7\n",
        "A = np.random.rand(N,N)\n",
        "A=A/np.linalg.norm(A)\n",
        "x = np.ones((N))\n",
        "X=np.empty((N,m+1))\n",
        "X[:,0] = x\n",
        "for i in range(m):\n",
        "    X[:,i+1]= A @ X[:,i]\n",
        "#print(X)\n",
        "\n",
        "Z = np.concatenate((X[:,:m], X[:,1:]), axis=1)\n",
        "print(Z.shape)\n",
        "\n",
        "Q, R = np.linalg.qr(Z, mode=\"reduced\")\n",
        "\n",
        "R_12 = R[:m,m:]\n",
        "R_22 = R[m:2*m, m:]\n",
        "\n",
        "Q_1 = Q[:,:m]\n",
        "Q_2 = Q[:,m:]\n",
        "\n",
        "\n",
        "print(np.allclose(X[:,1:],Q_1@R_12 + Q_2@R_22))\n",
        "print(np.allclose(X[:,1:],Q_1@R_12 + Q_2*R_22[:,m-1]))\n",
        "print(R_22)\n",
        "print(R.shape)"
      ]
    },
    {
      "cell_type": "code",
      "execution_count": 46,
      "metadata": {},
      "outputs": [
        {
          "name": "stdout",
          "output_type": "stream",
          "text": [
            "[[0.98920538 0.80767726 0.04154417 0.86364134 0.11265656 0.31472834]\n",
            " [0.9644896  0.73224148 0.83110231 0.64886022 0.26514759 0.56896933]\n",
            " [0.77521436 0.03773853 0.594696   0.46226886 0.43391382 0.2294295 ]\n",
            " [0.         0.11362446 0.91260447 0.4928366  0.64514135 0.21668058]\n",
            " [0.         0.         0.53997735 0.74815222 0.25257528 0.12050616]\n",
            " [0.         0.         0.         0.04276111 0.83355473 0.97054186]]\n",
            "hh_pravi\n",
            "[[-0.62441513 -0.39433161  0.36880592 -0.44019306  0.07416617 -0.34542723]\n",
            " [-0.60881382 -0.27707733 -0.28312101  0.47924846 -0.11244067  0.47968155]\n",
            " [-0.48933779  0.84791148 -0.11836407 -0.03455665  0.04525494 -0.15602059]\n",
            " [ 0.         -0.22085484 -0.75772699  0.05203495  0.18238621 -0.58403817]\n",
            " [ 0.          0.         -0.44233974 -0.7536495  -0.19073183  0.44717932]\n",
            " [ 0.          0.          0.         -0.06827604  0.95402574  0.29184461]]\n",
            "[[-1.58421109 -0.96859152 -0.82293461 -1.16051141 -0.44410041 -0.65518605]\n",
            " [-0.         -0.51447577  0.05603466 -0.23722782  0.10754749 -0.13507488]\n",
            " [-0.         -0.         -1.22072991 -0.624279   -0.68544535 -0.28965909]\n",
            " [ 0.          0.          0.         -0.62629751 -0.15120883 -0.01960107]\n",
            " [ 0.          0.          0.          0.          0.86290208  0.91220682]\n",
            " [ 0.          0.          0.          0.          0.          0.33899818]]\n",
            "True\n"
          ]
        }
      ],
      "source": [
        "\"\"\"HH transformacija - proba s kvadratnom matricom koja skoro gornje trokutasta (dvije sporedne diag ne-nula)\"\"\"\n",
        "dim_trapez_m = 6\n",
        "\n",
        "np.set_printoptions(precision=8, suppress=True)\n",
        "\n",
        "trapez_m = np.random.rand(dim_trapez_m,dim_trapez_m)\n",
        "trapez_m = np.triu(trapez_m, -2)\n",
        "print(trapez_m)\n",
        "trapez_copy = trapez_m.copy()\n",
        "v_all=np.empty((3,dim_trapez_m-1))\n",
        "#hh1 = np.eye(dim_trapez_m, dim_trapez_m)\n",
        "\n",
        "\n",
        "#HH transf od R (trapezoidalna) \n",
        "#### racun od HH matrice (\"Q\") bi se mogao i ovdje dogoditi - primjena transformacija na I i onda uzmemo transponirano\n",
        "for i in range(dim_trapez_m-2):\n",
        "    element=trapez_m[i:(i+3),i]  \n",
        "    v = element.copy().reshape(-1,1) #ako stavim v=element - pokazuju na istu memoriju; ne radi!!\n",
        "    v[0] = v[0] + np.sign(element[0])*np.linalg.norm(element)\n",
        "    trapez_m[i:(i+3),i:] = trapez_m[i:(i+3),i:] - 2/(v.T@v)*v@(v.T@trapez_m[i:(i+3),i:])\n",
        "    #hh1[i:(i+3),i:] = hh1[i:(i+3),i:] - 2/(v.T@v)*v@(v.T@hh1[i:(i+3),i:])  #- daje krivo iz nekog razloga..\n",
        "    #print(\"hh1\",hh1,sep=\"\\n\")\n",
        "    v_all[:,i] = v.reshape(-1)\n",
        "\n",
        "#predzadnji stupac\n",
        "element=trapez_m[dim_trapez_m-2:dim_trapez_m,dim_trapez_m-2]  \n",
        "v = element.copy().reshape(-1,1)\n",
        "v[0] = v[0] + np.sign(element[0])*np.linalg.norm(element)\n",
        "trapez_m[dim_trapez_m-2:dim_trapez_m,dim_trapez_m-2:] = trapez_m[dim_trapez_m-2:dim_trapez_m,dim_trapez_m-2:] - 2/(v.T@v)*v@(v.T@trapez_m[dim_trapez_m-2:dim_trapez_m,dim_trapez_m-2:])\n",
        "#hh1[dim_trapez_m-2:dim_trapez_m,dim_trapez_m-2:] = hh1[dim_trapez_m-2:dim_trapez_m,dim_trapez_m-2:] - 2/(v.T@v)*v@(v.T@hh1[dim_trapez_m-2:dim_trapez_m,dim_trapez_m-2:])\n",
        "v_all[:3,dim_trapez_m-2] = np.concatenate((v.reshape(-1),[0]), axis=0)\n",
        "\n",
        "#print(\"hh1_fin\",hh1.T, sep=\"\\n\")\n",
        "\n",
        "##Q - from HH matrices\n",
        "hh_current = np.eye(dim_trapez_m, dim_trapez_m)\n",
        "v_current=v_all[:2,-1].reshape(-1,1)\n",
        "hh_current[-2:,-2:] = np.eye(2,2)-2/(v_current.T@v_current)*(v_current@v_current.T)\n",
        "\n",
        "hh=hh_current #ovdje @ I\n",
        "#print(hh)\n",
        "\n",
        "#print(v_all)\n",
        "for i in range(dim_trapez_m-3,-1,-1):\n",
        "    v_current = v_all[:,i].reshape(-1,1)\n",
        "    hh_current = np.eye(3,3)-2/(v_current.T@v_current)*(v_current@v_current.T)\n",
        "    hh[i:i+3, :] = hh_current@hh[i:i+3, :]\n",
        "    #print(hh)\n",
        "print(\"hh_pravi\",hh, sep=\"\\n\")\n",
        "\n",
        "print(trapez_m)\n",
        "print(np.allclose(hh@trapez_m,trapez_copy))\n",
        "np.set_printoptions()"
      ]
    },
    {
      "cell_type": "code",
      "execution_count": 47,
      "metadata": {},
      "outputs": [
        {
          "name": "stdout",
          "output_type": "stream",
          "text": [
            "[[0.43095 0.2774 ]\n",
            " [0.36064 0.86425]\n",
            " [0.5942  0.41578]\n",
            " [0.91904 0.71336]\n",
            " [0.1143  0.15826]\n",
            " [0.03327 0.31017]\n",
            " [0.      0.21323]]\n",
            "[[-1.23599 -1.1022 ]\n",
            " [ 0.      -0.67639]\n",
            " [ 0.      -0.     ]\n",
            " [ 0.      -0.     ]\n",
            " [ 0.       0.     ]\n",
            " [ 0.       0.     ]\n",
            " [ 0.       0.     ]]\n",
            "True\n"
          ]
        }
      ],
      "source": [
        "#test hh fje\n",
        "N0=7; N=2\n",
        "l=N0-N\n",
        "trapez_m = np.random.rand(N0,N)\n",
        "trapez_m = np.triu(trapez_m, -l)\n",
        "trapez_copy=trapez_m.copy()\n",
        "np.set_printoptions(precision=5, suppress=True)\n",
        "print(trapez_m)\n",
        "\n",
        "hh, R,_ = householder_for_dmd(trapez_m, l)\n",
        "print(R)\n",
        "print(np.allclose(hh@R, trapez_copy))\n",
        "\n",
        "np.set_printoptions()"
      ]
    }
  ],
  "metadata": {
    "colab": {
      "provenance": []
    },
    "kernelspec": {
      "display_name": "myenv",
      "language": "python",
      "name": "python3"
    },
    "language_info": {
      "codemirror_mode": {
        "name": "ipython",
        "version": 3
      },
      "file_extension": ".py",
      "mimetype": "text/x-python",
      "name": "python",
      "nbconvert_exporter": "python",
      "pygments_lexer": "ipython3",
      "version": "3.7.16"
    }
  },
  "nbformat": 4,
  "nbformat_minor": 0
}

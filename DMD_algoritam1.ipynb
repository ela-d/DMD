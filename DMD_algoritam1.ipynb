{
  "cells": [
    {
      "cell_type": "code",
      "execution_count": 36,
      "metadata": {
        "id": "cc4M6OJyxEgd"
      },
      "outputs": [],
      "source": [
        "%run DMD_functions.ipynb"
      ]
    },
    {
      "cell_type": "markdown",
      "metadata": {},
      "source": [
        "**Umjetni primjer**"
      ]
    },
    {
      "cell_type": "code",
      "execution_count": 37,
      "metadata": {
        "id": "9YjwHnjoxEgl"
      },
      "outputs": [],
      "source": [
        "N=300\n",
        "m=10\n",
        "x=np.random.rand(N)\n",
        "A=np.random.rand(N,N)\n",
        "A = A/np.linalg.norm(A, 2)"
      ]
    },
    {
      "cell_type": "code",
      "execution_count": 38,
      "metadata": {
        "id": "ptxEG0_wxEgm"
      },
      "outputs": [],
      "source": [
        "X=np.empty((N,m+1))\n",
        "X[:,0]=x\n",
        "for i in range(m):\n",
        "    X[:,i+1]=A@X[:,i]\n",
        "X=X+np.random.rand(N,m+1)/N"
      ]
    },
    {
      "cell_type": "code",
      "execution_count": 39,
      "metadata": {
        "colab": {
          "base_uri": "https://localhost:8080/"
        },
        "id": "mnAs_EnVxEgm",
        "outputId": "e42468f5-9408-46c3-c467-fa68a425d8ea"
      },
      "outputs": [
        {
          "data": {
            "text/plain": [
              "array([ 0.99881632+0.j        ,  0.51064872+0.55382316j,\n",
              "        0.51064872-0.55382316j, -0.01221122+0.79435623j,\n",
              "       -0.01221122-0.79435623j,  0.01178031+0.j        ,\n",
              "       -0.0514574 +0.j        , -0.76877171+0.j        ,\n",
              "       -0.57876293+0.50693336j, -0.57876293-0.50693336j])"
            ]
          },
          "execution_count": 39,
          "metadata": {},
          "output_type": "execute_result"
        }
      ],
      "source": [
        "Z, L = DMD(X[:,:m], X[:, 1:], N*np.finfo(float).resolution)\n",
        "\n",
        "L"
      ]
    },
    {
      "cell_type": "code",
      "execution_count": 40,
      "metadata": {},
      "outputs": [
        {
          "name": "stdout",
          "output_type": "stream",
          "text": [
            "[[0.52092473 0.51307292 0.51453174 0.51346164]\n",
            " [0.4976294  0.51118489 0.5079983  0.50933518]\n",
            " [0.44127451 0.44968537 0.44771245 0.44859854]\n",
            " [0.51499624 0.51101851 0.51042733 0.51095281]\n",
            " [0.49648348 0.49758749 0.49456994 0.49598254]]\n",
            "[[0.51307292 0.52092473 0.51346164 0.51453174]\n",
            " [0.51118489 0.4976294  0.50933518 0.5079983 ]\n",
            " [0.44968537 0.44127451 0.44859854 0.44771245]\n",
            " [0.51101851 0.51499624 0.51095281 0.51042733]\n",
            " [0.49758749 0.49648348 0.49598254 0.49456994]]\n"
          ]
        },
        {
          "data": {
            "text/plain": [
              "array([ 9.98977858e-01+0.j        ,  6.33330976e-01+0.58645851j,\n",
              "        6.33330976e-01-0.58645851j,  1.07922942e-01+0.82868091j,\n",
              "        1.07922942e-01-0.82868091j,  5.37634963e-04+0.j        ,\n",
              "       -6.87318369e-01+0.28171329j, -6.87318369e-01-0.28171329j,\n",
              "       -4.55469208e-01+0.65770215j, -4.55469208e-01-0.65770215j])"
            ]
          },
          "execution_count": 40,
          "metadata": {},
          "output_type": "execute_result"
        }
      ],
      "source": [
        "#permutirani podaci - druge eigenvalues - kao što bi i očekivali!\n",
        "print(X[:5,[1,6,8,9]])\n",
        "temp=X[:,[1,6,8,9]]\n",
        "X[:,[6,9]] = temp[:,[0,2]]\n",
        "X[:,[1,8]] = temp[:,[1,3]]\n",
        "print(X[:5,[1,6,8,9]])\n",
        "\n",
        "Z_perm, L_perm = DMD(X[:,:m], X[:, 1:], N*np.finfo(float).resolution)\n",
        "\n",
        "L_perm\n"
      ]
    },
    {
      "cell_type": "code",
      "execution_count": 41,
      "metadata": {},
      "outputs": [
        {
          "data": {
            "text/plain": [
              "array([ 9.98977858e-01+0.j        ,  6.33330976e-01+0.58645851j,\n",
              "        6.33330976e-01-0.58645851j,  1.07922942e-01+0.82868091j,\n",
              "        1.07922942e-01-0.82868091j,  5.37634963e-04+0.j        ,\n",
              "       -6.87318369e-01+0.28171329j, -6.87318369e-01-0.28171329j,\n",
              "       -4.55469208e-01+0.65770215j, -4.55469208e-01-0.65770215j])"
            ]
          },
          "execution_count": 41,
          "metadata": {},
          "output_type": "execute_result"
        }
      ],
      "source": [
        "Ze, Le = DMD_exact(X[:,:m], X[:, 1:], N*np.finfo(float).resolution)\n",
        "Le\n",
        "#isto kao L?"
      ]
    },
    {
      "cell_type": "code",
      "execution_count": 42,
      "metadata": {},
      "outputs": [
        {
          "data": {
            "text/plain": [
              "array([ 9.98977858e-01+0.j        ,  6.33330976e-01+0.58645851j,\n",
              "        6.33330976e-01-0.58645851j,  1.07922942e-01+0.82868091j,\n",
              "        1.07922942e-01-0.82868091j,  5.37634963e-04+0.j        ,\n",
              "       -4.55469208e-01+0.65770215j, -4.55469208e-01-0.65770215j,\n",
              "       -6.87318369e-01+0.28171329j, -6.87318369e-01-0.28171329j])"
            ]
          },
          "execution_count": 42,
          "metadata": {},
          "output_type": "execute_result"
        }
      ],
      "source": [
        "Zg, Lg, rg = GEDMD(X[:,:m], X[:,1:], N*np.finfo(float).resolution)\n",
        "Lg"
      ]
    },
    {
      "cell_type": "code",
      "execution_count": 43,
      "metadata": {},
      "outputs": [
        {
          "name": "stdout",
          "output_type": "stream",
          "text": [
            "[ 9.98977858e-01+0.j          6.33330976e-01+0.58645851j\n",
            "  6.33330976e-01-0.58645851j  1.07922942e-01+0.82868091j\n",
            "  1.07922942e-01-0.82868091j  5.37634963e-04+0.j\n",
            " -4.55469208e-01+0.65770215j -4.55469208e-01-0.65770215j\n",
            " -6.87318369e-01+0.28171329j -6.87318369e-01-0.28171329j]\n",
            "[ 9.99517091e-01+0.j          6.75153831e-01+0.58272402j\n",
            "  6.75153831e-01-0.58272402j  1.56970318e-01+0.71785015j\n",
            "  1.56970318e-01-0.71785015j -9.05595948e-04+0.j\n",
            " -2.29017286e-01+0.71714833j -2.29017286e-01-0.71714833j\n",
            " -8.12105226e-01+0.j         -6.29998288e-01+0.449086j\n",
            " -6.29998288e-01-0.449086j  ]\n",
            "[ 9.99517091e-01+0.j          6.75153831e-01+0.58272402j\n",
            "  6.75153831e-01-0.58272402j  1.56970318e-01+0.71785015j\n",
            "  1.56970318e-01-0.71785015j -9.05595948e-04+0.j\n",
            " -2.29017286e-01+0.71714833j -2.29017286e-01-0.71714833j\n",
            " -8.12105226e-01+0.j         -6.29998288e-01+0.449086j\n",
            " -6.29998288e-01-0.449086j  ]\n",
            "True\n"
          ]
        }
      ],
      "source": [
        "Z_qr, L_qr, r_qr, Q, R = GEDMDQ(X, N*np.finfo(float).resolution)\n",
        "print(L_qr)\n",
        "\n",
        "B = (A@X[:,m]+np.random.rand(N)/N).reshape((-1,1))\n",
        "\n",
        "Z_added, L_added, r_added, _,_ = DMD_added_snap(B, Q, R, N*np.finfo(float).resolution)\n",
        "print(L_added)\n",
        "\n",
        "#provjera.. - dobije se isto\n",
        "_,L_added_direct,_,_,_ = GEDMDQ(np.concatenate((X, B), axis=1), N*np.finfo(float).resolution)\n",
        "print(L_added_direct)\n",
        "\n",
        "print(np.allclose(L_added, L_added_direct))\n"
      ]
    },
    {
      "cell_type": "code",
      "execution_count": 44,
      "metadata": {},
      "outputs": [
        {
          "name": "stdout",
          "output_type": "stream",
          "text": [
            "[ 9.98977858e-01+0.j          6.33330976e-01+0.58645851j\n",
            "  6.33330976e-01-0.58645851j  1.07922942e-01+0.82868091j\n",
            "  1.07922942e-01-0.82868091j  5.37634963e-04+0.j\n",
            " -4.55469208e-01+0.65770215j -4.55469208e-01-0.65770215j\n",
            " -6.87318369e-01+0.28171329j -6.87318369e-01-0.28171329j]\n",
            "[ 9.99517091e-01+0.j          6.75153831e-01+0.58272402j\n",
            "  6.75153831e-01-0.58272402j  1.56970318e-01+0.71785015j\n",
            "  1.56970318e-01-0.71785015j -9.05595948e-04+0.j\n",
            " -2.29017286e-01+0.71714833j -2.29017286e-01-0.71714833j\n",
            " -8.12105226e-01+0.j         -6.29998288e-01+0.449086j\n",
            " -6.29998288e-01-0.449086j  ]\n",
            "[ 9.99517091e-01+0.j          6.75153831e-01+0.58272402j\n",
            "  6.75153831e-01-0.58272402j  1.56970318e-01+0.71785015j\n",
            "  1.56970318e-01-0.71785015j -9.05595948e-04+0.j\n",
            " -2.29017286e-01+0.71714833j -2.29017286e-01-0.71714833j\n",
            " -8.12105226e-01+0.j         -6.29998288e-01+0.449086j\n",
            " -6.29998288e-01-0.449086j  ]\n",
            "True\n"
          ]
        }
      ],
      "source": [
        "Z_qr, L_qr, r_qr, Q, R = GEDMDQ(X, N*np.finfo(float).resolution)\n",
        "print(L_qr)\n",
        "\n",
        "l=2\n",
        "\n",
        "Z_disc, L_disc, r_disc, _,_,_ = DMD_discarding_snap(l, Q, R, N*np.finfo(float).resolution)\n",
        "print(L_added)\n",
        "\n",
        "#provjera.. - dobije se isto\n",
        "_,L_discarded_direct,_,_,_ = GEDMDQ(X[:,l:], N*np.finfo(float).resolution)\n",
        "print(L_added_direct)\n",
        "\n",
        "print(np.allclose(L_added, L_added_direct))"
      ]
    },
    {
      "cell_type": "code",
      "execution_count": 45,
      "metadata": {},
      "outputs": [
        {
          "data": {
            "text/plain": [
              "array([ 0.99879409+0.j        , -0.03480595+0.j        ,\n",
              "        0.01193492+0.03161641j,  0.01193492-0.03161641j,\n",
              "       -0.02316439+0.02428345j, -0.02316439-0.02428345j,\n",
              "       -0.0302879 +0.01267351j, -0.0302879 -0.01267351j,\n",
              "       -0.02072431+0.02559926j, -0.02072431-0.02559926j])"
            ]
          },
          "execution_count": 45,
          "metadata": {},
          "output_type": "execute_result"
        }
      ],
      "source": [
        "np.linalg.eigvals(A)[:10]"
      ]
    },
    {
      "cell_type": "code",
      "execution_count": 46,
      "metadata": {
        "id": "j3FdDOgKyJ7z"
      },
      "outputs": [],
      "source": [
        "#!pip install pydmd"
      ]
    },
    {
      "cell_type": "code",
      "execution_count": 47,
      "metadata": {
        "colab": {
          "base_uri": "https://localhost:8080/"
        },
        "id": "8Tfp50mWyBI0",
        "outputId": "9f8d7811-b7eb-4cf3-a191-bdfe655e7e0d"
      },
      "outputs": [
        {
          "data": {
            "text/plain": [
              "array([ 9.98977858e-01+0.j        ,  6.33330976e-01+0.58645851j,\n",
              "        6.33330976e-01-0.58645851j,  1.07922942e-01+0.82868091j,\n",
              "        1.07922942e-01-0.82868091j,  5.37634963e-04+0.j        ,\n",
              "       -6.87318369e-01+0.28171329j, -6.87318369e-01-0.28171329j,\n",
              "       -4.55469208e-01+0.65770215j, -4.55469208e-01-0.65770215j])"
            ]
          },
          "execution_count": 47,
          "metadata": {},
          "output_type": "execute_result"
        }
      ],
      "source": [
        "import pydmd\n",
        "dmd1 = pydmd.DMD(svd_rank=10)\n",
        "dmd1.fit(X[:,:m], X[:,1:])\n",
        "dmd1.eigs"
      ]
    },
    {
      "cell_type": "code",
      "execution_count": 48,
      "metadata": {
        "colab": {
          "base_uri": "https://localhost:8080/"
        },
        "id": "cs6X48SI4qtJ",
        "outputId": "b4c23868-7849-4435-d96f-abfe755ed42b"
      },
      "outputs": [
        {
          "name": "stdout",
          "output_type": "stream",
          "text": [
            "7.255614009233213e-15\n",
            "2.0060196783274847e-14\n",
            "3.024248166384284e-14\n",
            "4.724115121913534e-14\n",
            "6.360787502075919e-14\n",
            "7.435910670365584e-14\n",
            "8.943975572796093e-14\n",
            "1.040102114682448e-13\n",
            "1.187906042922564e-13\n",
            "1.3826690669507455e-13\n"
          ]
        }
      ],
      "source": [
        "for i in range(dmd1.eigs.shape[0]):\n",
        "    print(np.linalg.norm(dmd1.reconstructed_data[:,i]-X[:,i]))"
      ]
    },
    {
      "cell_type": "code",
      "execution_count": 49,
      "metadata": {},
      "outputs": [
        {
          "data": {
            "text/plain": [
              "(300, 10)"
            ]
          },
          "execution_count": 49,
          "metadata": {},
          "output_type": "execute_result"
        }
      ],
      "source": [
        "dmd1.reconstructed_data.shape"
      ]
    },
    {
      "cell_type": "code",
      "execution_count": 50,
      "metadata": {},
      "outputs": [],
      "source": [
        "#usporedi s rezultatima lin regresije..."
      ]
    },
    {
      "cell_type": "code",
      "execution_count": 51,
      "metadata": {},
      "outputs": [
        {
          "data": {
            "image/png": "[encoded data removed]",
            "text/plain": [
              "<Figure size 720x432 with 1 Axes>"
            ]
          },
          "metadata": {
            "needs_background": "light"
          },
          "output_type": "display_data"
        }
      ],
      "source": [
        "plt.show()\n",
        "plt.figure(figsize=(10, 6))\n",
        "plt.plot(1/r_qr, marker='', linestyle='-', color='b')\n",
        "plt.yscale('log')  # Set y-axis to logarithmic scale\n",
        "plt.grid(True)\n",
        "plt.show()"
      ]
    },
    {
      "cell_type": "code",
      "execution_count": 52,
      "metadata": {},
      "outputs": [
        {
          "name": "stdout",
          "output_type": "stream",
          "text": [
            "[0 1 2 3 4 5 6 7 8 9] (10,)\n"
          ]
        }
      ],
      "source": [
        "threshold=0 #uzimamo sve - ovo je mali primjer na kojem nema nikakve jednostavnije podstrukture\n",
        "indices = np.where(1/r_qr > threshold)[0]\n",
        "print(indices, indices.shape)"
      ]
    },
    {
      "cell_type": "code",
      "execution_count": 75,
      "metadata": {},
      "outputs": [
        {
          "name": "stdout",
          "output_type": "stream",
          "text": [
            "norma razlike za trenutak 1: 3.167092879731096e-15\n",
            "norma razlike za trenutak 2: 3.99872989463912e-15\n",
            "norma razlike za trenutak 3: 4.678111493333719e-15\n",
            "norma razlike za trenutak 4: 5.1034043367087296e-15\n",
            "norma razlike za trenutak 5: 2.2134962793104323e-15\n",
            "norma razlike za trenutak 6: 2.7633181220240483e-15\n",
            "norma razlike za trenutak 7: 2.9136745176596057e-15\n",
            "norma razlike za trenutak 8: 4.271473975239334e-15\n",
            "norma razlike za trenutak 9: 2.738675149670302e-15\n",
            "norma razlike za trenutak 10: 3.4808634655971465e-15\n"
          ]
        }
      ],
      "source": [
        "times=[j for j in range (X.shape[1])]\n",
        "s = DMD_reconstruction(X[:,:m], Z_qr, indices, L_qr, times)\n",
        "for i in range(m):\n",
        "    print(\"norma razlike za trenutak {}:\".format(i+1), np.linalg.norm(s[:,i]-X[:,i]))\n",
        "\n"
      ]
    },
    {
      "cell_type": "code",
      "execution_count": 83,
      "metadata": {},
      "outputs": [
        {
          "name": "stdout",
          "output_type": "stream",
          "text": [
            "norma razlike za trenutak 1: 2.7918039794919095e-15\n",
            "norma razlike za trenutak 2: 3.7735335743599086e-15\n",
            "norma razlike za trenutak 3: 3.481748618431695e-15\n",
            "norma razlike za trenutak 4: 3.8651071644422634e-15\n",
            "norma razlike za trenutak 5: 2.7001482176858957e-15\n",
            "norma razlike za trenutak 6: 3.5103945869613135e-15\n",
            "norma razlike za trenutak 7: 2.786637675724875e-15\n",
            "norma razlike za trenutak 8: 3.5230999567975442e-15\n",
            "norma razlike za trenutak 9: 3.988699297339181e-15\n",
            "norma razlike za trenutak 10: 4.786851168183692e-15\n"
          ]
        }
      ],
      "source": [
        "p=0.90\n",
        "weights=[p**i for i in range (X.shape[1]-1)]\n",
        "s = DMD_reconstruction(X[:,:m], Z_qr, indices, L_qr, times, weights)\n",
        "for i in range(m):\n",
        "    print(\"norma razlike za trenutak {}:\".format(i+1), np.linalg.norm(s[:,i]-X[:,i]))"
      ]
    },
    {
      "cell_type": "markdown",
      "metadata": {},
      "source": [
        "*proba za funkcije...*"
      ]
    },
    {
      "cell_type": "code",
      "execution_count": 37,
      "metadata": {},
      "outputs": [
        {
          "name": "stdout",
          "output_type": "stream",
          "text": [
            "(20, 14)\n",
            "True\n",
            "True\n",
            "[[ 0. -0. -0.  0.  0. -0. -0.]\n",
            " [ 0. -0.  0. -0.  0.  0. -0.]\n",
            " [ 0.  0. -0.  0.  0. -0. -0.]\n",
            " [ 0.  0.  0.  0.  0. -0.  0.]\n",
            " [ 0.  0.  0.  0. -0.  0. -0.]\n",
            " [ 0.  0.  0.  0.  0. -0. -0.]\n",
            " [ 0.  0.  0.  0.  0.  0. -0.]]\n",
            "(14, 14)\n"
          ]
        }
      ],
      "source": [
        "#QR za (X Y) kad X i Y imaju \"istu jezgru\"\n",
        "N=20; m=7\n",
        "A = np.random.rand(N,N)\n",
        "A=A/np.linalg.norm(A)\n",
        "x = np.ones((N))\n",
        "X=np.empty((N,m+1))\n",
        "X[:,0] = x\n",
        "for i in range(m):\n",
        "    X[:,i+1]= A @ X[:,i]\n",
        "#print(X)\n",
        "\n",
        "Z = np.concatenate((X[:,:m], X[:,1:]), axis=1)\n",
        "print(Z.shape)\n",
        "\n",
        "Q, R = np.linalg.qr(Z, mode=\"reduced\")\n",
        "\n",
        "R_12 = R[:m,m:]\n",
        "R_22 = R[m:2*m, m:]\n",
        "\n",
        "Q_1 = Q[:,:m]\n",
        "Q_2 = Q[:,m:]\n",
        "\n",
        "\n",
        "print(np.allclose(X[:,1:],Q_1@R_12 + Q_2@R_22))\n",
        "print(np.allclose(X[:,1:],Q_1@R_12 + Q_2*R_22[:,m-1]))\n",
        "print(R_22)\n",
        "print(R.shape)"
      ]
    },
    {
      "cell_type": "code",
      "execution_count": 38,
      "metadata": {},
      "outputs": [
        {
          "name": "stdout",
          "output_type": "stream",
          "text": [
            "[[0.90779766 0.24026112 0.63576259 0.78160247 0.99186843 0.87533124]\n",
            " [0.57628274 0.12775953 0.18682529 0.50859419 0.44976122 0.75803735]\n",
            " [0.1060759  0.39983493 0.42583291 0.44477279 0.93118969 0.99225576]\n",
            " [0.         0.39570073 0.96054955 0.56696481 0.61339007 0.29199759]\n",
            " [0.         0.         0.07208637 0.89094899 0.6106194  0.25574164]\n",
            " [0.         0.         0.         0.34073879 0.41367252 0.96694846]]\n",
            "hh_pravi\n",
            "[[-0.84017513 -0.03603672  0.24050622  0.07953852 -0.40514035 -0.25396609]\n",
            " [-0.53335501 -0.06847759 -0.2537924  -0.10901362  0.66995715  0.43093632]\n",
            " [-0.09817423  0.68042322 -0.67946445 -0.08844817 -0.1725112  -0.16772276]\n",
            " [ 0.          0.72872245  0.62247479  0.07627528  0.20399776  0.18454192]\n",
            " [ 0.          0.          0.16911348 -0.91283772  0.13760062 -0.34524484]\n",
            " [ 0.          0.          0.         -0.36725462 -0.54471054  0.75393267]]\n",
            "[[-1.08048622 -0.30925609 -0.67560194 -0.97160944 -1.16464442 -1.23714849]\n",
            " [ 0.          0.54300609  0.95401648  0.65280002  1.01405196  0.80448642]\n",
            " [ 0.         -0.          0.42626035  0.2602884  -0.02322192 -0.43105354]\n",
            " [ 0.         -0.          0.         -0.92779987 -0.71503344 -0.66707175]\n",
            " [ 0.          0.          0.         -0.         -0.2773458  -0.44990465]\n",
            " [ 0.          0.          0.         -0.          0.          0.63254384]]\n",
            "True\n"
          ]
        }
      ],
      "source": [
        "\"\"\"HH transformacija - proba s kvadratnom matricom koja skoro gornje trokutasta (dvije sporedne diag ne-nula)\"\"\"\n",
        "dim_trapez_m = 6\n",
        "\n",
        "np.set_printoptions(precision=8, suppress=True)\n",
        "\n",
        "trapez_m = np.random.rand(dim_trapez_m,dim_trapez_m)\n",
        "trapez_m = np.triu(trapez_m, -2)\n",
        "print(trapez_m)\n",
        "trapez_copy = trapez_m.copy()\n",
        "v_all=np.empty((3,dim_trapez_m-1))\n",
        "#hh1 = np.eye(dim_trapez_m, dim_trapez_m)\n",
        "\n",
        "\n",
        "#HH transf od R (trapezoidalna) \n",
        "#### racun od HH matrice (\"Q\") bi se mogao i ovdje dogoditi - primjena transformacija na I i onda uzmemo transponirano\n",
        "for i in range(dim_trapez_m-2):\n",
        "    element=trapez_m[i:(i+3),i]  \n",
        "    v = element.copy().reshape(-1,1) #ako stavim v=element - pokazuju na istu memoriju; ne radi!!\n",
        "    v[0] = v[0] + np.sign(element[0])*np.linalg.norm(element)\n",
        "    trapez_m[i:(i+3),i:] = trapez_m[i:(i+3),i:] - 2/(v.T@v)*v@(v.T@trapez_m[i:(i+3),i:])\n",
        "    #hh1[i:(i+3),i:] = hh1[i:(i+3),i:] - 2/(v.T@v)*v@(v.T@hh1[i:(i+3),i:])  #- daje krivo iz nekog razloga..\n",
        "    #print(\"hh1\",hh1,sep=\"\\n\")\n",
        "    v_all[:,i] = v.reshape(-1)\n",
        "\n",
        "#predzadnji stupac\n",
        "element=trapez_m[dim_trapez_m-2:dim_trapez_m,dim_trapez_m-2]  \n",
        "v = element.copy().reshape(-1,1)\n",
        "v[0] = v[0] + np.sign(element[0])*np.linalg.norm(element)\n",
        "trapez_m[dim_trapez_m-2:dim_trapez_m,dim_trapez_m-2:] = trapez_m[dim_trapez_m-2:dim_trapez_m,dim_trapez_m-2:] - 2/(v.T@v)*v@(v.T@trapez_m[dim_trapez_m-2:dim_trapez_m,dim_trapez_m-2:])\n",
        "#hh1[dim_trapez_m-2:dim_trapez_m,dim_trapez_m-2:] = hh1[dim_trapez_m-2:dim_trapez_m,dim_trapez_m-2:] - 2/(v.T@v)*v@(v.T@hh1[dim_trapez_m-2:dim_trapez_m,dim_trapez_m-2:])\n",
        "v_all[:3,dim_trapez_m-2] = np.concatenate((v.reshape(-1),[0]), axis=0)\n",
        "\n",
        "#print(\"hh1_fin\",hh1.T, sep=\"\\n\")\n",
        "\n",
        "##Q - from HH matrices\n",
        "hh_current = np.eye(dim_trapez_m, dim_trapez_m)\n",
        "v_current=v_all[:2,-1].reshape(-1,1)\n",
        "hh_current[-2:,-2:] = np.eye(2,2)-2/(v_current.T@v_current)*(v_current@v_current.T)\n",
        "\n",
        "hh=hh_current #ovdje @ I\n",
        "#print(hh)\n",
        "\n",
        "#print(v_all)\n",
        "for i in range(dim_trapez_m-3,-1,-1):\n",
        "    v_current = v_all[:,i].reshape(-1,1)\n",
        "    hh_current = np.eye(3,3)-2/(v_current.T@v_current)*(v_current@v_current.T)\n",
        "    hh[i:i+3, :] = hh_current@hh[i:i+3, :]\n",
        "    #print(hh)\n",
        "print(\"hh_pravi\",hh, sep=\"\\n\")\n",
        "\n",
        "print(trapez_m)\n",
        "print(np.allclose(hh@trapez_m,trapez_copy))\n",
        "np.set_printoptions()"
      ]
    },
    {
      "cell_type": "code",
      "execution_count": 39,
      "metadata": {},
      "outputs": [
        {
          "name": "stdout",
          "output_type": "stream",
          "text": [
            "[[0.49639 0.2578 ]\n",
            " [0.06387 0.21872]\n",
            " [0.04459 0.80775]\n",
            " [0.55342 0.16883]\n",
            " [0.02724 0.48283]\n",
            " [0.12905 0.57114]\n",
            " [0.      0.97526]]\n",
            "[[-0.75904 -0.47197]\n",
            " [-0.      -1.44325]\n",
            " [ 0.       0.     ]\n",
            " [ 0.       0.     ]\n",
            " [-0.       0.     ]\n",
            " [ 0.       0.     ]\n",
            " [ 0.      -0.     ]]\n",
            "True\n"
          ]
        }
      ],
      "source": [
        "#test hh fje\n",
        "N0=7; N=2\n",
        "l=N0-N\n",
        "trapez_m = np.random.rand(N0,N)\n",
        "trapez_m = np.triu(trapez_m, -l)\n",
        "trapez_copy=trapez_m.copy()\n",
        "np.set_printoptions(precision=5, suppress=True)\n",
        "print(trapez_m)\n",
        "\n",
        "hh, R,_ = householder_for_dmd(trapez_m, l)\n",
        "print(R)\n",
        "print(np.allclose(hh@R, trapez_copy))\n",
        "\n",
        "np.set_printoptions()"
      ]
    }
  ],
  "metadata": {
    "colab": {
      "provenance": []
    },
    "kernelspec": {
      "display_name": "myenv",
      "language": "python",
      "name": "python3"
    },
    "language_info": {
      "codemirror_mode": {
        "name": "ipython",
        "version": 3
      },
      "file_extension": ".py",
      "mimetype": "text/x-python",
      "name": "python",
      "nbconvert_exporter": "python",
      "pygments_lexer": "ipython3",
      "version": "3.7.16"
    }
  },
  "nbformat": 4,
  "nbformat_minor": 0
}

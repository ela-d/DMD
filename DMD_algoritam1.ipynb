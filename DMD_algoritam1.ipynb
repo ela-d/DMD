{
  "cells": [
    {
      "cell_type": "code",
      "execution_count": 198,
      "metadata": {
        "id": "cc4M6OJyxEgd"
      },
      "outputs": [],
      "source": [
        "%run DMD_functions.ipynb"
      ]
    },
    {
      "cell_type": "markdown",
      "metadata": {},
      "source": [
        "**Umjetni primjer**"
      ]
    },
    {
      "cell_type": "code",
      "execution_count": 199,
      "metadata": {
        "id": "9YjwHnjoxEgl"
      },
      "outputs": [],
      "source": [
        "N=300\n",
        "m=10\n",
        "x=np.random.rand(N)\n",
        "A=np.random.rand(N,N)\n",
        "A = A/np.linalg.norm(A, 2)"
      ]
    },
    {
      "cell_type": "code",
      "execution_count": 200,
      "metadata": {
        "id": "ptxEG0_wxEgm"
      },
      "outputs": [],
      "source": [
        "X=np.empty((N,m+1))\n",
        "X[:,0]=x\n",
        "for i in range(m):\n",
        "    X[:,i+1]=A@X[:,i]\n",
        "X=X+np.random.rand(N,m+1)/N"
      ]
    },
    {
      "cell_type": "code",
      "execution_count": 201,
      "metadata": {
        "colab": {
          "base_uri": "https://localhost:8080/"
        },
        "id": "mnAs_EnVxEgm",
        "outputId": "e42468f5-9408-46c3-c467-fa68a425d8ea"
      },
      "outputs": [
        {
          "data": {
            "text/plain": [
              "array([ 0.99896+0.j     ,  0.47763+0.63345j,  0.47763-0.63345j,\n",
              "       -0.13442+0.73191j, -0.13442-0.73191j,  0.03256+0.j     ,\n",
              "       -0.26864+0.0283j , -0.26864-0.0283j , -0.55616+0.31928j,\n",
              "       -0.55616-0.31928j])"
            ]
          },
          "execution_count": 201,
          "metadata": {},
          "output_type": "execute_result"
        }
      ],
      "source": [
        "Z, L = DMD(X[:,:m], X[:, 1:], N*np.finfo(float).resolution)\n",
        "\n",
        "L"
      ]
    },
    {
      "cell_type": "code",
      "execution_count": 202,
      "metadata": {},
      "outputs": [
        {
          "name": "stdout",
          "output_type": "stream",
          "text": [
            "[[0.48055 0.48133 0.48081 0.47922]\n",
            " [0.46891 0.46752 0.46815 0.46702]\n",
            " [0.49544 0.49345 0.49452 0.49479]\n",
            " [0.47975 0.4907  0.48898 0.48992]\n",
            " [0.49184 0.50267 0.49943 0.50159]]\n",
            "[[0.48133 0.48055 0.47922 0.48081]\n",
            " [0.46752 0.46891 0.46702 0.46815]\n",
            " [0.49345 0.49544 0.49479 0.49452]\n",
            " [0.4907  0.47975 0.48992 0.48898]\n",
            " [0.50267 0.49184 0.50159 0.49943]]\n"
          ]
        },
        {
          "data": {
            "text/plain": [
              "array([ 0.99908+0.j     ,  0.57113+0.60918j,  0.57113-0.60918j,\n",
              "        0.09157+0.71184j,  0.09157-0.71184j,  0.00238+0.j     ,\n",
              "       -0.73427+0.31659j, -0.73427-0.31659j, -0.3866 +0.68722j,\n",
              "       -0.3866 -0.68722j])"
            ]
          },
          "execution_count": 202,
          "metadata": {},
          "output_type": "execute_result"
        }
      ],
      "source": [
        "#permutirani podaci - druge eigenvalues - kao što bi i očekivali!\n",
        "print(X[:5,[1,6,8,9]])\n",
        "temp=X[:,[1,6,8,9]]\n",
        "X[:,[6,9]] = temp[:,[0,2]]\n",
        "X[:,[1,8]] = temp[:,[1,3]]\n",
        "print(X[:5,[1,6,8,9]])\n",
        "\n",
        "Z_perm, L_perm = DMD(X[:,:m], X[:, 1:], N*np.finfo(float).resolution)\n",
        "\n",
        "L_perm\n"
      ]
    },
    {
      "cell_type": "code",
      "execution_count": 203,
      "metadata": {},
      "outputs": [
        {
          "data": {
            "text/plain": [
              "array([ 0.99908+0.j     ,  0.57113+0.60918j,  0.57113-0.60918j,\n",
              "        0.09157+0.71184j,  0.09157-0.71184j,  0.00238+0.j     ,\n",
              "       -0.73427+0.31659j, -0.73427-0.31659j, -0.3866 +0.68722j,\n",
              "       -0.3866 -0.68722j])"
            ]
          },
          "execution_count": 203,
          "metadata": {},
          "output_type": "execute_result"
        }
      ],
      "source": [
        "Ze, Le = DMD_exact(X[:,:m], X[:, 1:], N*np.finfo(float).resolution)\n",
        "Le\n",
        "#isto kao L?"
      ]
    },
    {
      "cell_type": "code",
      "execution_count": 204,
      "metadata": {},
      "outputs": [
        {
          "data": {
            "text/plain": [
              "array([ 0.99908+0.j     ,  0.57113+0.60918j,  0.57113-0.60918j,\n",
              "        0.09157+0.71184j,  0.09157-0.71184j,  0.00238+0.j     ,\n",
              "       -0.73427+0.31659j, -0.73427-0.31659j, -0.3866 +0.68722j,\n",
              "       -0.3866 -0.68722j])"
            ]
          },
          "execution_count": 204,
          "metadata": {},
          "output_type": "execute_result"
        }
      ],
      "source": [
        "Zg, Lg, rg = GEDMD(X[:,:m], X[:,1:], N*np.finfo(float).resolution)\n",
        "Lg"
      ]
    },
    {
      "cell_type": "code",
      "execution_count": 205,
      "metadata": {},
      "outputs": [
        {
          "name": "stdout",
          "output_type": "stream",
          "text": [
            "[ 0.99908+0.j       0.57113+0.60918j  0.57113-0.60918j  0.09157+0.71184j\n",
            "  0.09157-0.71184j  0.00238+0.j      -0.73427+0.31659j -0.73427-0.31659j\n",
            " -0.3866 +0.68722j -0.3866 -0.68722j]\n",
            "[ 0.99968+0.j       0.61576+0.50492j  0.61576-0.50492j  0.19957+0.71862j\n",
            "  0.19957-0.71862j -0.30193+0.76612j -0.30193-0.76612j  0.0022 +0.j\n",
            " -0.6608 +0.j      -0.65238+0.31245j -0.65238-0.31245j]\n",
            "[ 0.99968+0.j       0.61576+0.50492j  0.61576-0.50492j  0.19957+0.71862j\n",
            "  0.19957-0.71862j -0.30193+0.76612j -0.30193-0.76612j  0.0022 +0.j\n",
            " -0.6608 +0.j      -0.65238+0.31245j -0.65238-0.31245j]\n",
            "True\n"
          ]
        }
      ],
      "source": [
        "Z_qr, L_qr, r_qr, Q, R = GEDMDQ(X, N*np.finfo(float).resolution)\n",
        "print(L_qr)\n",
        "\n",
        "B = (A@X[:,m]+np.random.rand(N)/N).reshape((-1,1))\n",
        "\n",
        "Z_added, L_added, r_added, _,_ = DMD_added_snap(B, Q, R, N*np.finfo(float).resolution)\n",
        "print(L_added)\n",
        "\n",
        "#provjera.. - dobije se isto\n",
        "_,L_added_direct,_,_,_ = GEDMDQ(np.concatenate((X, B), axis=1), N*np.finfo(float).resolution)\n",
        "print(L_added_direct)\n",
        "\n",
        "print(np.allclose(L_added, L_added_direct))\n"
      ]
    },
    {
      "cell_type": "code",
      "execution_count": 206,
      "metadata": {},
      "outputs": [
        {
          "name": "stdout",
          "output_type": "stream",
          "text": [
            "[ 0.99908+0.j       0.57113+0.60918j  0.57113-0.60918j  0.09157+0.71184j\n",
            "  0.09157-0.71184j  0.00238+0.j      -0.73427+0.31659j -0.73427-0.31659j\n",
            " -0.3866 +0.68722j -0.3866 -0.68722j]\n",
            "[ 0.99968+0.j       0.61576+0.50492j  0.61576-0.50492j  0.19957+0.71862j\n",
            "  0.19957-0.71862j -0.30193+0.76612j -0.30193-0.76612j  0.0022 +0.j\n",
            " -0.6608 +0.j      -0.65238+0.31245j -0.65238-0.31245j]\n",
            "[ 0.99968+0.j       0.61576+0.50492j  0.61576-0.50492j  0.19957+0.71862j\n",
            "  0.19957-0.71862j -0.30193+0.76612j -0.30193-0.76612j  0.0022 +0.j\n",
            " -0.6608 +0.j      -0.65238+0.31245j -0.65238-0.31245j]\n",
            "True\n"
          ]
        }
      ],
      "source": [
        "Z_qr, L_qr, r_qr, Q, R = GEDMDQ(X, N*np.finfo(float).resolution)\n",
        "print(L_qr)\n",
        "\n",
        "l=2\n",
        "\n",
        "Z_disc, L_disc, r_disc, _,_,_ = DMD_discarding_snap(l, Q, R, N*np.finfo(float).resolution)\n",
        "print(L_added)\n",
        "\n",
        "#provjera.. - dobije se isto\n",
        "_,L_discarded_direct,_,_,_ = GEDMDQ(X[:,l:], N*np.finfo(float).resolution)\n",
        "print(L_added_direct)\n",
        "\n",
        "print(np.allclose(L_added, L_added_direct))"
      ]
    },
    {
      "cell_type": "code",
      "execution_count": 207,
      "metadata": {},
      "outputs": [
        {
          "data": {
            "text/plain": [
              "array([ 0.99898+0.j     , -0.03472+0.j     ,  0.02846+0.01731j,\n",
              "        0.02846-0.01731j,  0.02504+0.02161j,  0.02504-0.02161j,\n",
              "        0.00894+0.03154j,  0.00894-0.03154j, -0.00811+0.0321j ,\n",
              "       -0.00811-0.0321j ])"
            ]
          },
          "execution_count": 207,
          "metadata": {},
          "output_type": "execute_result"
        }
      ],
      "source": [
        "np.linalg.eigvals(A)[:10]"
      ]
    },
    {
      "cell_type": "code",
      "execution_count": 208,
      "metadata": {
        "id": "j3FdDOgKyJ7z"
      },
      "outputs": [],
      "source": [
        "#!pip install pydmd"
      ]
    },
    {
      "cell_type": "code",
      "execution_count": 209,
      "metadata": {
        "colab": {
          "base_uri": "https://localhost:8080/"
        },
        "id": "8Tfp50mWyBI0",
        "outputId": "9f8d7811-b7eb-4cf3-a191-bdfe655e7e0d"
      },
      "outputs": [
        {
          "data": {
            "text/plain": [
              "array([ 0.99908+0.j     ,  0.57113+0.60918j,  0.57113-0.60918j,\n",
              "        0.09157+0.71184j,  0.09157-0.71184j,  0.00238+0.j     ,\n",
              "       -0.73427+0.31659j, -0.73427-0.31659j, -0.3866 +0.68722j,\n",
              "       -0.3866 -0.68722j])"
            ]
          },
          "execution_count": 209,
          "metadata": {},
          "output_type": "execute_result"
        }
      ],
      "source": [
        "import pydmd\n",
        "dmd1 = pydmd.DMD(svd_rank=10)\n",
        "dmd1.fit(X[:,:m], X[:,1:])\n",
        "dmd1.eigs"
      ]
    },
    {
      "cell_type": "code",
      "execution_count": 210,
      "metadata": {
        "colab": {
          "base_uri": "https://localhost:8080/"
        },
        "id": "cs6X48SI4qtJ",
        "outputId": "b4c23868-7849-4435-d96f-abfe755ed42b"
      },
      "outputs": [
        {
          "name": "stdout",
          "output_type": "stream",
          "text": [
            "9.441321016444406e-15\n",
            "2.0480819423081662e-14\n",
            "2.5112217467472237e-14\n",
            "3.27972309579128e-14\n",
            "4.3249025241709314e-14\n",
            "5.953691791317431e-14\n",
            "6.549337988243464e-14\n",
            "6.800657062424057e-14\n",
            "7.961441891809344e-14\n",
            "8.685487092999226e-14\n"
          ]
        }
      ],
      "source": [
        "for i in range(dmd1.eigs.shape[0]):\n",
        "    print(np.linalg.norm(dmd1.reconstructed_data[:,i]-X[:,i]))"
      ]
    },
    {
      "cell_type": "code",
      "execution_count": 211,
      "metadata": {},
      "outputs": [
        {
          "data": {
            "text/plain": [
              "(300, 10)"
            ]
          },
          "execution_count": 211,
          "metadata": {},
          "output_type": "execute_result"
        }
      ],
      "source": [
        "dmd1.reconstructed_data.shape"
      ]
    },
    {
      "cell_type": "code",
      "execution_count": 212,
      "metadata": {},
      "outputs": [],
      "source": [
        "#usporedi s rezultatima lin regresije..."
      ]
    },
    {
      "cell_type": "code",
      "execution_count": 213,
      "metadata": {},
      "outputs": [
        {
          "data": {
            "image/png": "[encoded data removed]",
            "text/plain": [
              "<Figure size 720x432 with 1 Axes>"
            ]
          },
          "metadata": {
            "needs_background": "light"
          },
          "output_type": "display_data"
        }
      ],
      "source": [
        "plt.show()\n",
        "plt.figure(figsize=(10, 6))\n",
        "plt.plot(1/r_qr, marker='', linestyle='-', color='b')\n",
        "plt.yscale('log')  # Set y-axis to logarithmic scale\n",
        "plt.grid(True)\n",
        "plt.show()"
      ]
    },
    {
      "cell_type": "code",
      "execution_count": 214,
      "metadata": {},
      "outputs": [
        {
          "name": "stdout",
          "output_type": "stream",
          "text": [
            "[0 1 2 3 4 5 6 7 8 9] (10,)\n"
          ]
        }
      ],
      "source": [
        "threshold=0 #uzimamo sve - ovo je mali primjer na kojem nema nikakve jednostavnije podstrukture\n",
        "indices = np.where(1/r_qr > threshold)[0]\n",
        "print(indices, indices.shape)"
      ]
    },
    {
      "cell_type": "code",
      "execution_count": 215,
      "metadata": {},
      "outputs": [
        {
          "name": "stdout",
          "output_type": "stream",
          "text": [
            "norma razlike: 3.860526562555634e-14\n",
            "norma razlike: 3.693519452467237e-14\n",
            "norma razlike: 3.0812639473709094e-14\n",
            "norma razlike: 2.1335861000465602e-14\n",
            "norma razlike: 1.447745297805279e-14\n",
            "norma razlike: 1.0942175870578287e-14\n",
            "norma razlike: 7.017496583968094e-15\n",
            "norma razlike: 1.0260106725383065e-14\n",
            "norma razlike: 1.554916791942601e-14\n",
            "norma razlike: 2.8237557417021816e-14\n"
          ]
        },
        {
          "name": "stderr",
          "output_type": "stream",
          "text": [
            "c:\\Users\\elawi\\miniconda3\\envs\\myenv\\lib\\site-packages\\ipykernel_launcher.py:28: ComplexWarning: Casting complex values to real discards the imaginary part\n"
          ]
        }
      ],
      "source": [
        "times=[j for j in range (X.shape[1])]\n",
        "s = DMD_reconstruction(X, Z_qr, indices, L_qr, times)\n",
        "for i in range(m):\n",
        "    print(\"norma razlike:\", np.linalg.norm(s[:,i]-X[:,i]))\n",
        "\n"
      ]
    },
    {
      "cell_type": "markdown",
      "metadata": {},
      "source": [
        "*proba za funkcije...*"
      ]
    },
    {
      "cell_type": "code",
      "execution_count": 37,
      "metadata": {},
      "outputs": [
        {
          "name": "stdout",
          "output_type": "stream",
          "text": [
            "(20, 14)\n",
            "True\n",
            "True\n",
            "[[ 0. -0. -0.  0.  0. -0. -0.]\n",
            " [ 0. -0.  0. -0.  0.  0. -0.]\n",
            " [ 0.  0. -0.  0.  0. -0. -0.]\n",
            " [ 0.  0.  0.  0.  0. -0.  0.]\n",
            " [ 0.  0.  0.  0. -0.  0. -0.]\n",
            " [ 0.  0.  0.  0.  0. -0. -0.]\n",
            " [ 0.  0.  0.  0.  0.  0. -0.]]\n",
            "(14, 14)\n"
          ]
        }
      ],
      "source": [
        "#QR za (X Y) kad X i Y imaju \"istu jezgru\"\n",
        "N=20; m=7\n",
        "A = np.random.rand(N,N)\n",
        "A=A/np.linalg.norm(A)\n",
        "x = np.ones((N))\n",
        "X=np.empty((N,m+1))\n",
        "X[:,0] = x\n",
        "for i in range(m):\n",
        "    X[:,i+1]= A @ X[:,i]\n",
        "#print(X)\n",
        "\n",
        "Z = np.concatenate((X[:,:m], X[:,1:]), axis=1)\n",
        "print(Z.shape)\n",
        "\n",
        "Q, R = np.linalg.qr(Z, mode=\"reduced\")\n",
        "\n",
        "R_12 = R[:m,m:]\n",
        "R_22 = R[m:2*m, m:]\n",
        "\n",
        "Q_1 = Q[:,:m]\n",
        "Q_2 = Q[:,m:]\n",
        "\n",
        "\n",
        "print(np.allclose(X[:,1:],Q_1@R_12 + Q_2@R_22))\n",
        "print(np.allclose(X[:,1:],Q_1@R_12 + Q_2*R_22[:,m-1]))\n",
        "print(R_22)\n",
        "print(R.shape)"
      ]
    },
    {
      "cell_type": "code",
      "execution_count": 38,
      "metadata": {},
      "outputs": [
        {
          "name": "stdout",
          "output_type": "stream",
          "text": [
            "[[0.90779766 0.24026112 0.63576259 0.78160247 0.99186843 0.87533124]\n",
            " [0.57628274 0.12775953 0.18682529 0.50859419 0.44976122 0.75803735]\n",
            " [0.1060759  0.39983493 0.42583291 0.44477279 0.93118969 0.99225576]\n",
            " [0.         0.39570073 0.96054955 0.56696481 0.61339007 0.29199759]\n",
            " [0.         0.         0.07208637 0.89094899 0.6106194  0.25574164]\n",
            " [0.         0.         0.         0.34073879 0.41367252 0.96694846]]\n",
            "hh_pravi\n",
            "[[-0.84017513 -0.03603672  0.24050622  0.07953852 -0.40514035 -0.25396609]\n",
            " [-0.53335501 -0.06847759 -0.2537924  -0.10901362  0.66995715  0.43093632]\n",
            " [-0.09817423  0.68042322 -0.67946445 -0.08844817 -0.1725112  -0.16772276]\n",
            " [ 0.          0.72872245  0.62247479  0.07627528  0.20399776  0.18454192]\n",
            " [ 0.          0.          0.16911348 -0.91283772  0.13760062 -0.34524484]\n",
            " [ 0.          0.          0.         -0.36725462 -0.54471054  0.75393267]]\n",
            "[[-1.08048622 -0.30925609 -0.67560194 -0.97160944 -1.16464442 -1.23714849]\n",
            " [ 0.          0.54300609  0.95401648  0.65280002  1.01405196  0.80448642]\n",
            " [ 0.         -0.          0.42626035  0.2602884  -0.02322192 -0.43105354]\n",
            " [ 0.         -0.          0.         -0.92779987 -0.71503344 -0.66707175]\n",
            " [ 0.          0.          0.         -0.         -0.2773458  -0.44990465]\n",
            " [ 0.          0.          0.         -0.          0.          0.63254384]]\n",
            "True\n"
          ]
        }
      ],
      "source": [
        "\"\"\"HH transformacija - proba s kvadratnom matricom koja skoro gornje trokutasta (dvije sporedne diag ne-nula)\"\"\"\n",
        "dim_trapez_m = 6\n",
        "\n",
        "np.set_printoptions(precision=8, suppress=True)\n",
        "\n",
        "trapez_m = np.random.rand(dim_trapez_m,dim_trapez_m)\n",
        "trapez_m = np.triu(trapez_m, -2)\n",
        "print(trapez_m)\n",
        "trapez_copy = trapez_m.copy()\n",
        "v_all=np.empty((3,dim_trapez_m-1))\n",
        "#hh1 = np.eye(dim_trapez_m, dim_trapez_m)\n",
        "\n",
        "\n",
        "#HH transf od R (trapezoidalna) \n",
        "#### racun od HH matrice (\"Q\") bi se mogao i ovdje dogoditi - primjena transformacija na I i onda uzmemo transponirano\n",
        "for i in range(dim_trapez_m-2):\n",
        "    element=trapez_m[i:(i+3),i]  \n",
        "    v = element.copy().reshape(-1,1) #ako stavim v=element - pokazuju na istu memoriju; ne radi!!\n",
        "    v[0] = v[0] + np.sign(element[0])*np.linalg.norm(element)\n",
        "    trapez_m[i:(i+3),i:] = trapez_m[i:(i+3),i:] - 2/(v.T@v)*v@(v.T@trapez_m[i:(i+3),i:])\n",
        "    #hh1[i:(i+3),i:] = hh1[i:(i+3),i:] - 2/(v.T@v)*v@(v.T@hh1[i:(i+3),i:])  #- daje krivo iz nekog razloga..\n",
        "    #print(\"hh1\",hh1,sep=\"\\n\")\n",
        "    v_all[:,i] = v.reshape(-1)\n",
        "\n",
        "#predzadnji stupac\n",
        "element=trapez_m[dim_trapez_m-2:dim_trapez_m,dim_trapez_m-2]  \n",
        "v = element.copy().reshape(-1,1)\n",
        "v[0] = v[0] + np.sign(element[0])*np.linalg.norm(element)\n",
        "trapez_m[dim_trapez_m-2:dim_trapez_m,dim_trapez_m-2:] = trapez_m[dim_trapez_m-2:dim_trapez_m,dim_trapez_m-2:] - 2/(v.T@v)*v@(v.T@trapez_m[dim_trapez_m-2:dim_trapez_m,dim_trapez_m-2:])\n",
        "#hh1[dim_trapez_m-2:dim_trapez_m,dim_trapez_m-2:] = hh1[dim_trapez_m-2:dim_trapez_m,dim_trapez_m-2:] - 2/(v.T@v)*v@(v.T@hh1[dim_trapez_m-2:dim_trapez_m,dim_trapez_m-2:])\n",
        "v_all[:3,dim_trapez_m-2] = np.concatenate((v.reshape(-1),[0]), axis=0)\n",
        "\n",
        "#print(\"hh1_fin\",hh1.T, sep=\"\\n\")\n",
        "\n",
        "##Q - from HH matrices\n",
        "hh_current = np.eye(dim_trapez_m, dim_trapez_m)\n",
        "v_current=v_all[:2,-1].reshape(-1,1)\n",
        "hh_current[-2:,-2:] = np.eye(2,2)-2/(v_current.T@v_current)*(v_current@v_current.T)\n",
        "\n",
        "hh=hh_current #ovdje @ I\n",
        "#print(hh)\n",
        "\n",
        "#print(v_all)\n",
        "for i in range(dim_trapez_m-3,-1,-1):\n",
        "    v_current = v_all[:,i].reshape(-1,1)\n",
        "    hh_current = np.eye(3,3)-2/(v_current.T@v_current)*(v_current@v_current.T)\n",
        "    hh[i:i+3, :] = hh_current@hh[i:i+3, :]\n",
        "    #print(hh)\n",
        "print(\"hh_pravi\",hh, sep=\"\\n\")\n",
        "\n",
        "print(trapez_m)\n",
        "print(np.allclose(hh@trapez_m,trapez_copy))\n",
        "np.set_printoptions()"
      ]
    },
    {
      "cell_type": "code",
      "execution_count": 39,
      "metadata": {},
      "outputs": [
        {
          "name": "stdout",
          "output_type": "stream",
          "text": [
            "[[0.49639 0.2578 ]\n",
            " [0.06387 0.21872]\n",
            " [0.04459 0.80775]\n",
            " [0.55342 0.16883]\n",
            " [0.02724 0.48283]\n",
            " [0.12905 0.57114]\n",
            " [0.      0.97526]]\n",
            "[[-0.75904 -0.47197]\n",
            " [-0.      -1.44325]\n",
            " [ 0.       0.     ]\n",
            " [ 0.       0.     ]\n",
            " [-0.       0.     ]\n",
            " [ 0.       0.     ]\n",
            " [ 0.      -0.     ]]\n",
            "True\n"
          ]
        }
      ],
      "source": [
        "#test hh fje\n",
        "N0=7; N=2\n",
        "l=N0-N\n",
        "trapez_m = np.random.rand(N0,N)\n",
        "trapez_m = np.triu(trapez_m, -l)\n",
        "trapez_copy=trapez_m.copy()\n",
        "np.set_printoptions(precision=5, suppress=True)\n",
        "print(trapez_m)\n",
        "\n",
        "hh, R,_ = householder_for_dmd(trapez_m, l)\n",
        "print(R)\n",
        "print(np.allclose(hh@R, trapez_copy))\n",
        "\n",
        "np.set_printoptions()"
      ]
    }
  ],
  "metadata": {
    "colab": {
      "provenance": []
    },
    "kernelspec": {
      "display_name": "myenv",
      "language": "python",
      "name": "python3"
    },
    "language_info": {
      "codemirror_mode": {
        "name": "ipython",
        "version": 3
      },
      "file_extension": ".py",
      "mimetype": "text/x-python",
      "name": "python",
      "nbconvert_exporter": "python",
      "pygments_lexer": "ipython3",
      "version": "3.7.16"
    }
  },
  "nbformat": 4,
  "nbformat_minor": 0
}

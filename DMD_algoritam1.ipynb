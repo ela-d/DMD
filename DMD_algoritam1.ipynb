{
  "cells": [
    {
      "cell_type": "code",
      "execution_count": 82,
      "metadata": {
        "id": "cc4M6OJyxEgd"
      },
      "outputs": [],
      "source": [
        "import numpy as np"
      ]
    },
    {
      "cell_type": "code",
      "execution_count": 83,
      "metadata": {
        "id": "dTCD4Cv_xEgk"
      },
      "outputs": [],
      "source": [
        "def DMD(X, Y, tol=1e-12):\n",
        "    #X - Nxm, Y - Nxm\n",
        "    m=X.shape[1]; N=X.shape[0]\n",
        "    U, Sigma, V = np.linalg.svd(X,full_matrices=False) #svd vraca V*\n",
        "    V=np.conjugate(V.T)\n",
        "    #print(Sigma)\n",
        "    k=m\n",
        "    for i in range(1,min(N,m)):\n",
        "        if(Sigma[i]<=Sigma[0]*tol):\n",
        "            k=i\n",
        "            break\n",
        "    U = U[:, :k]; V=V[:, :k]; Sigma = np.array(Sigma[:k])\n",
        "    S_k = ((np.conjugate(U.T)@Y)@V)/Sigma\n",
        "    Lambda, W = np.linalg.eig(S_k)\n",
        "    Z = U@W\n",
        "    return Z, Lambda\n"
      ]
    },
    {
      "cell_type": "code",
      "execution_count": 84,
      "metadata": {},
      "outputs": [],
      "source": [
        "def DMD_exact(X, Y, tol=1e-12):\n",
        "    \"\"\"X - Nxm, Y - Nxm; !!Exact DMD ne vraća normirane Z[:,i]\"\"\"\n",
        "    m=X.shape[1]; N=X.shape[0]\n",
        "    U, Sigma, V = np.linalg.svd(X,full_matrices=False) #svd vraca V*\n",
        "    V=np.conjugate(V.T)\n",
        "    #print(Sigma)\n",
        "    k=m\n",
        "    for i in range(1,min(N,m)):\n",
        "        if(Sigma[i]<=Sigma[0]*tol):\n",
        "            k=i\n",
        "            break\n",
        "    U = U[:, :k]; V=V[:, :k]; Sigma = np.array(Sigma[:k])\n",
        "    S_k = ((np.conjugate(U.T)@Y)@V)/Sigma\n",
        "    Lambda, W = np.linalg.eig(S_k)\n",
        "    Z = (Y@V/Sigma)@W/Lambda\n",
        "    return Z, Lambda"
      ]
    },
    {
      "cell_type": "code",
      "execution_count": 95,
      "metadata": {
        "id": "9YjwHnjoxEgl"
      },
      "outputs": [],
      "source": [
        "N=300\n",
        "m=10\n",
        "x=np.random.rand(N)\n",
        "A=np.random.rand(N,N)\n",
        "A = A/np.linalg.norm(A, 2)"
      ]
    },
    {
      "cell_type": "code",
      "execution_count": 96,
      "metadata": {
        "id": "ptxEG0_wxEgm"
      },
      "outputs": [],
      "source": [
        "X=np.empty((N,m+1))\n",
        "X[:,0]=x\n",
        "for i in range(m):\n",
        "    X[:,i+1]=A@X[:,i]\n",
        "X=X+np.random.rand(N,m+1)/N"
      ]
    },
    {
      "cell_type": "code",
      "execution_count": 97,
      "metadata": {
        "colab": {
          "base_uri": "https://localhost:8080/"
        },
        "id": "mnAs_EnVxEgm",
        "outputId": "e42468f5-9408-46c3-c467-fa68a425d8ea"
      },
      "outputs": [
        {
          "name": "stdout",
          "output_type": "stream",
          "text": [
            "1.0000000000000002\n",
            "0.9999999999999999\n",
            "0.9999999999999999\n",
            "1.0000000000000002\n",
            "1.0000000000000002\n",
            "1.0000000000000002\n",
            "1.0000000000000002\n",
            "1.0\n",
            "1.0\n",
            "1.0\n"
          ]
        },
        {
          "data": {
            "text/plain": [
              "array([ 0.99906284+0.j        ,  0.57634157+0.66141524j,\n",
              "        0.57634157-0.66141524j, -0.11012703+0.8096703j ,\n",
              "       -0.11012703-0.8096703j ,  0.02545672+0.j        ,\n",
              "       -0.01056118+0.j        , -0.73300498+0.j        ,\n",
              "       -0.59640317+0.49457968j, -0.59640317-0.49457968j])"
            ]
          },
          "execution_count": 97,
          "metadata": {},
          "output_type": "execute_result"
        }
      ],
      "source": [
        "Z, L = DMD(X[:,:m], X[:, 1:], N*np.finfo(float).resolution)\n",
        "#Z ima stupčanu normu otprilike 1\n",
        "for i in range(Z.shape[1]):\n",
        "    print(np.linalg.norm(Z[:,i]))\n",
        "L"
      ]
    },
    {
      "cell_type": "code",
      "execution_count": 98,
      "metadata": {},
      "outputs": [
        {
          "data": {
            "text/plain": [
              "array([ 0.99906284+0.j        ,  0.57634157+0.66141524j,\n",
              "        0.57634157-0.66141524j, -0.11012703+0.8096703j ,\n",
              "       -0.11012703-0.8096703j ,  0.02545672+0.j        ,\n",
              "       -0.01056118+0.j        , -0.73300498+0.j        ,\n",
              "       -0.59640317+0.49457968j, -0.59640317-0.49457968j])"
            ]
          },
          "execution_count": 98,
          "metadata": {},
          "output_type": "execute_result"
        }
      ],
      "source": [
        "Ze, Le = DMD_exact(X[:,:m], X[:, 1:], N*np.finfo(float).resolution)\n",
        "Le\n",
        "#isto kao L?"
      ]
    },
    {
      "cell_type": "code",
      "execution_count": 99,
      "metadata": {},
      "outputs": [
        {
          "data": {
            "text/plain": [
              "array([ 0.99902998+0.j        , -0.03226574+0.01282388j,\n",
              "       -0.03226574-0.01282388j, -0.03409987+0.j        ,\n",
              "       -0.01769994+0.02909243j, -0.01769994-0.02909243j,\n",
              "        0.00302156+0.03364694j,  0.00302156-0.03364694j,\n",
              "       -0.01684775+0.02782427j, -0.01684775-0.02782427j])"
            ]
          },
          "execution_count": 99,
          "metadata": {},
          "output_type": "execute_result"
        }
      ],
      "source": [
        "np.linalg.eigvals(A)[:10]"
      ]
    },
    {
      "cell_type": "code",
      "execution_count": 100,
      "metadata": {
        "id": "j3FdDOgKyJ7z"
      },
      "outputs": [],
      "source": [
        "#!pip install pydmd"
      ]
    },
    {
      "cell_type": "code",
      "execution_count": 101,
      "metadata": {
        "colab": {
          "base_uri": "https://localhost:8080/"
        },
        "id": "8Tfp50mWyBI0",
        "outputId": "9f8d7811-b7eb-4cf3-a191-bdfe655e7e0d"
      },
      "outputs": [
        {
          "data": {
            "text/plain": [
              "array([ 0.99906284+0.j        ,  0.57634157+0.66141524j,\n",
              "        0.57634157-0.66141524j, -0.11012703+0.8096703j ,\n",
              "       -0.11012703-0.8096703j ,  0.02545672+0.j        ,\n",
              "       -0.01056118+0.j        , -0.73300498+0.j        ,\n",
              "       -0.59640317+0.49457968j, -0.59640317-0.49457968j])"
            ]
          },
          "execution_count": 101,
          "metadata": {},
          "output_type": "execute_result"
        }
      ],
      "source": [
        "import pydmd\n",
        "dmd1 = pydmd.DMD(svd_rank=10)\n",
        "dmd1.fit(X[:,:m], X[:,1:])\n",
        "dmd1.eigs"
      ]
    },
    {
      "cell_type": "code",
      "execution_count": 102,
      "metadata": {
        "colab": {
          "base_uri": "https://localhost:8080/"
        },
        "id": "cs6X48SI4qtJ",
        "outputId": "b4c23868-7849-4435-d96f-abfe755ed42b"
      },
      "outputs": [
        {
          "name": "stdout",
          "output_type": "stream",
          "text": [
            "9.033802718357805e-15\n",
            "2.106177684303512e-14\n",
            "3.66742698172252e-14\n",
            "5.699502009271928e-14\n",
            "8.139224648981389e-14\n",
            "1.0331403214836834e-13\n",
            "1.1887923027270711e-13\n",
            "1.4666684958597648e-13\n",
            "1.6251941276142768e-13\n",
            "1.8350713198303222e-13\n"
          ]
        }
      ],
      "source": [
        "for i in range(dmd1.eigs.shape[0]):\n",
        "    print(np.linalg.norm(dmd1.reconstructed_data[:,i]-X[:,i]))"
      ]
    },
    {
      "cell_type": "code",
      "execution_count": 103,
      "metadata": {},
      "outputs": [
        {
          "data": {
            "text/plain": [
              "(300, 10)"
            ]
          },
          "execution_count": 103,
          "metadata": {},
          "output_type": "execute_result"
        }
      ],
      "source": [
        "dmd1.reconstructed_data.shape"
      ]
    },
    {
      "cell_type": "code",
      "execution_count": 104,
      "metadata": {
        "colab": {
          "base_uri": "https://localhost:8080/"
        },
        "id": "O95HiYDPxEgn",
        "outputId": "0a9902d8-1ffc-412b-99ed-3362452a8a9f"
      },
      "outputs": [
        {
          "name": "stdout",
          "output_type": "stream",
          "text": [
            "norma razlike: 11.504003460297413\n",
            "norma razlike: 9.865137420348548\n",
            "norma razlike: 9.80429018238895\n",
            "norma razlike: 9.883126730935865\n",
            "norma razlike: 9.946794403575232\n",
            "norma razlike: 9.939925870504666\n",
            "norma razlike: 9.775210408701628\n",
            "norma razlike: 9.648645693762933\n",
            "norma razlike: 9.667824609022922\n",
            "norma razlike: 9.696013547760671\n"
          ]
        }
      ],
      "source": [
        "#kako procijeniti s_i?\n",
        "for i in range(m):\n",
        "    s=np.zeros((Z.shape[0]))\n",
        "    for j in range(Z.shape[1]):\n",
        "        s=s+Z[:,j]*(L[j]**(i))\n",
        "    print(\"norma razlike:\",np.linalg.norm(s-X[:,i]))\n",
        "    #print(s,X[:,i], sep=\"\\n\")"
      ]
    }
  ],
  "metadata": {
    "colab": {
      "provenance": []
    },
    "kernelspec": {
      "display_name": "base",
      "language": "python",
      "name": "python3"
    },
    "language_info": {
      "codemirror_mode": {
        "name": "ipython",
        "version": 3
      },
      "file_extension": ".py",
      "mimetype": "text/x-python",
      "name": "python",
      "nbconvert_exporter": "python",
      "pygments_lexer": "ipython3",
      "version": "3.11.5"
    }
  },
  "nbformat": 4,
  "nbformat_minor": 0
}

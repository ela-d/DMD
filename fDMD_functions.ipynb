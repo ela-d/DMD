{
 "cells": [
  {
   "cell_type": "markdown",
   "metadata": {},
   "source": [
    "DMD FUNCTIONS - FAT matrix X - for ONLINE DMD comparison - Zhang, Rowley,..."
   ]
  },
  {
   "cell_type": "code",
   "execution_count": 1,
   "metadata": {},
   "outputs": [],
   "source": [
    "import numpy as np\n",
    "import scipy.io\n",
    "import matplotlib.pyplot as plt\n",
    "from scipy import linalg"
   ]
  },
  {
   "cell_type": "code",
   "execution_count": 18,
   "metadata": {},
   "outputs": [],
   "source": [
    "def GEDMD(X, Y, tol=1e-12, type: str=None, k=-1, weights=None): \n",
    "    \"\"\"\n",
    "    type = \"exact\" if you want exact version, or None (/leave empty) if you don't want exact version. \n",
    "    Anything else set as type will do the non-exact version.\n",
    "    \"\"\"\n",
    "    m=X.shape[1]; N=X.shape[0]\n",
    "    D = np.linalg.norm(X, axis=0)\n",
    "    X = X/D; Y=Y/D\n",
    "    if(weights is not None):\n",
    "        X = X*weights; Y=Y*weights\n",
    "    U, Sigma, V = np.linalg.svd(X,full_matrices=False) \n",
    "    V=np.conjugate(V.T)\n",
    "    if(k==-1):\n",
    "        k=m\n",
    "        for i in range(1,min(N,m)):\n",
    "            if(Sigma[i]<=Sigma[0]*tol):\n",
    "                k=i\n",
    "                break\n",
    "    U = U[:, :k]; V=V[:, :k]; Sigma = np.array(Sigma[:k])\n",
    "    B_k = Y @ (V/Sigma)\n",
    "    S_k = np.conjugate(U.T)@B_k\n",
    "    Lambda, W = np.linalg.eig(S_k)\n",
    "    Z = U@W\n",
    "    if(type==\"exact\"):\n",
    "        Z = B_k@W\n",
    "    #r = np.linalg.norm(B_k@W - Z*Lambda, axis=0)\n",
    "    #return Z, Lambda, r\n",
    "    return Z, Lambda"
   ]
  },
  {
   "cell_type": "code",
   "execution_count": null,
   "metadata": {},
   "outputs": [],
   "source": [
    "def fGEDMDQ_multiple_trajectories(X, Y, tol=1e-12, type: str=None):\n",
    "    m = X.shape[0]\n",
    "    M = np.bmat([X.T, Y.T])\n",
    "    Q, L = np.linalg.qr(M)\n",
    "    L = L.T\n",
    "    #Z, Lambda, r = GEDMD(L[:m,:m], L[m:,:m], tol, type)\n",
    "    Z, Lambda= GEDMD(L[:m,:m], L[m:,:m], tol, type)\n",
    "    Z = Z@Q[:,:m].T #provjeri - vjerojatno Q1\n",
    "    #return Z, Lambda, r, Q, L \n",
    "    return Z, Lambda, Q, L"
   ]
  },
  {
   "cell_type": "code",
   "execution_count": 120,
   "metadata": {},
   "outputs": [],
   "source": [
    "def fDMD_added_snap(v, Q, L, tol=1e-12, type: str=None, k=-1, weights=None, ngram=5):\n",
    "    #v tipa 1 x 2m => prvih m je zadnji element u Y, drugih m je novi element\n",
    "    # ngram - treba li tu reortogonalizacija?\n",
    "    m=Q.shape[1]//2; n=Q.shape[0]\n",
    "    print(m)\n",
    "    R = np.bmat([[L.T],[v.T]])\n",
    "    U, T = np.linalg.qr(R)\n",
    "    T=T.T #novi L - sad je T donjetrokutasto\n",
    "    Q = np.bmat([[Q@U[:2*m,:]],[U[-1,:]]])\n",
    "\n",
    "    #novi Z i Lambda i r\n",
    "    Z, Lambda= GEDMD(T[:m,:m], T[m:,:m], tol, type)\n",
    "    Z = Z@(Q[:,:m].T)\n",
    "    #return Z, Lambda, r, Q, T\n",
    "    return Z, Lambda, Q, T\n",
    "\n"
   ]
  },
  {
   "cell_type": "code",
   "execution_count": 78,
   "metadata": {},
   "outputs": [],
   "source": [
    "### Ovo bi trebalo biti isto?\n",
    "\n",
    "def DMD_alpha_for_reconstruction(X, Z, indices, L, weights=None):\n",
    "    \"\"\"X = snapshotovi - prvih m (bez m+1-vog) - dakle X, a ne S\n",
    "    Z = modes,\n",
    "    indices = indices which we want to work with - from 1/r graph\n",
    "    weights = np.array tip ili lista\"\"\"\n",
    "    #treba li se formirati Vandermondeova matrica?\n",
    "    m=X.shape[1]; l=indices.shape[0]\n",
    "    Z = Z[:,indices]\n",
    "    Q, R = np.linalg.qr(Z) # Q je tipa duljina_snapshota(N) x l, R je tipa lxl\n",
    "    if(weights is None):\n",
    "        weights=np.ones((m)).reshape(-1)\n",
    "    weights=np.array(weights)\n",
    "    pom=np.vander(L[indices], m, increasing=True)*weights\n",
    "    alpha= np.multiply(np.conj(R.T)@R, np.conj(pom @ np.conj(pom.T)))\n",
    "    G = (np.conj(Q.T) @ X)[:l, :]  \n",
    "    alpha = scipy.linalg.solve(alpha, np.multiply(np.conj(pom),(np.conj(R.T)@G))@np.ones((m, 1)), assume_a='pos')\n",
    "    #alpha = scipy.linalg.solve(alpha, np.multiply(np.conj(pom),(np.conj(R.T)@G*weights))@np.ones((m, 1)), assume_a='pos')\n",
    "    return Z, L[indices], alpha.reshape(-1)\n",
    "\n",
    "def DMD_reconstruction(X, Z, indices, L, times, weights=None, real=True): #mozda da prima vektor napraviti..\n",
    "    \"\"\"X = snapshotovi - prvih m (bez m+1-vog) - dakle X, a ne S,\n",
    "    Z = dmd modes (returned from some version of DMD, ex. GEDMDQ)\n",
    "    L = dmd eigs (returned from some version of DMD, ex. GEDMDQ)\n",
    "    time = integer, which datasnapshot you want to reconstruct/predict\"\"\"\n",
    "    Z_l, L, alpha = DMD_alpha_for_reconstruction(X, Z, indices, L, weights)\n",
    "    num=np.asarray(times).shape[0]\n",
    "    recs = np.empty((Z_l.shape[0], num), dtype='complex_')\n",
    "    for i in range(num):\n",
    "        recs[:,i] = Z_l@(L**(times[i])*alpha) #mislim da je times[i] jer ovdje krecemo od 0, za razliku od matlaba gdje krecemo od 1\n",
    "    if real:\n",
    "        return np.real(recs) #ako sve realno, ovo ce biti realno za svaki i, samo ce zapis biti u obliku kompleksnog; zato saljemo np.real(recs)!\n",
    "    else:\n",
    "        return recs\n"
   ]
  },
  {
   "cell_type": "markdown",
   "metadata": {},
   "source": [
    "JEDNOSTAVNA PROVJERA"
   ]
  },
  {
   "cell_type": "code",
   "execution_count": 144,
   "metadata": {},
   "outputs": [
    {
     "data": {
      "text/plain": [
       "matrix([[1.00e+00, 1.12e+00, 9.06e-01, 7.11e-01, 5.60e-01, 4.41e-01,\n",
       "         3.48e-01, 2.74e-01, 2.16e-01, 1.70e-01, 1.34e-01, 1.06e-01,\n",
       "         8.35e-02, 6.58e-02, 5.19e-02, 4.09e-02, 3.22e-02, 2.54e-02,\n",
       "         2.00e-02, 1.58e-02, 1.25e-02, 9.82e-03, 7.74e-03, 6.10e-03,\n",
       "         4.81e-03, 3.79e-03, 2.99e-03, 2.36e-03, 1.86e-03, 1.46e-03,\n",
       "         1.15e-03],\n",
       "        [1.00e+00, 6.12e-01, 3.85e-01, 3.02e-01, 2.39e-01, 1.88e-01,\n",
       "         1.49e-01, 1.17e-01, 9.23e-02, 7.28e-02, 5.74e-02, 4.52e-02,\n",
       "         3.56e-02, 2.81e-02, 2.21e-02, 1.75e-02, 1.38e-02, 1.09e-02,\n",
       "         8.55e-03, 6.74e-03, 5.32e-03, 4.19e-03, 3.30e-03, 2.60e-03,\n",
       "         2.05e-03, 1.62e-03, 1.28e-03, 1.01e-03, 7.93e-04, 6.25e-04,\n",
       "         4.93e-04],\n",
       "        [1.00e+00, 4.08e-01, 3.54e-01, 2.83e-01, 2.23e-01, 1.76e-01,\n",
       "         1.38e-01, 1.09e-01, 8.61e-02, 6.78e-02, 5.35e-02, 4.22e-02,\n",
       "         3.32e-02, 2.62e-02, 2.07e-02, 1.63e-02, 1.28e-02, 1.01e-02,\n",
       "         7.98e-03, 6.29e-03, 4.96e-03, 3.91e-03, 3.08e-03, 2.43e-03,\n",
       "         1.91e-03, 1.51e-03, 1.19e-03, 9.38e-04, 7.39e-04, 5.83e-04,\n",
       "         4.59e-04],\n",
       "        [1.00e+00, 1.33e+00, 1.13e+00, 8.88e-01, 6.99e-01, 5.51e-01,\n",
       "         4.35e-01, 3.43e-01, 2.70e-01, 2.13e-01, 1.68e-01, 1.32e-01,\n",
       "         1.04e-01, 8.22e-02, 6.48e-02, 5.11e-02, 4.03e-02, 3.18e-02,\n",
       "         2.50e-02, 1.97e-02, 1.56e-02, 1.23e-02, 9.67e-03, 7.62e-03,\n",
       "         6.01e-03, 4.74e-03, 3.73e-03, 2.94e-03, 2.32e-03, 1.83e-03,\n",
       "         1.44e-03],\n",
       "        [1.12e+00, 9.06e-01, 7.11e-01, 5.60e-01, 4.41e-01, 3.48e-01,\n",
       "         2.74e-01, 2.16e-01, 1.70e-01, 1.34e-01, 1.06e-01, 8.35e-02,\n",
       "         6.58e-02, 5.19e-02, 4.09e-02, 3.22e-02, 2.54e-02, 2.00e-02,\n",
       "         1.58e-02, 1.25e-02, 9.82e-03, 7.74e-03, 6.10e-03, 4.81e-03,\n",
       "         3.79e-03, 2.99e-03, 2.36e-03, 1.86e-03, 1.46e-03, 1.15e-03,\n",
       "         9.10e-04],\n",
       "        [6.12e-01, 3.85e-01, 3.02e-01, 2.39e-01, 1.88e-01, 1.49e-01,\n",
       "         1.17e-01, 9.23e-02, 7.28e-02, 5.74e-02, 4.52e-02, 3.56e-02,\n",
       "         2.81e-02, 2.21e-02, 1.75e-02, 1.38e-02, 1.09e-02, 8.55e-03,\n",
       "         6.74e-03, 5.32e-03, 4.19e-03, 3.30e-03, 2.60e-03, 2.05e-03,\n",
       "         1.62e-03, 1.28e-03, 1.01e-03, 7.93e-04, 6.25e-04, 4.93e-04,\n",
       "         3.88e-04],\n",
       "        [4.08e-01, 3.54e-01, 2.83e-01, 2.23e-01, 1.76e-01, 1.38e-01,\n",
       "         1.09e-01, 8.61e-02, 6.78e-02, 5.35e-02, 4.22e-02, 3.32e-02,\n",
       "         2.62e-02, 2.07e-02, 1.63e-02, 1.28e-02, 1.01e-02, 7.98e-03,\n",
       "         6.29e-03, 4.96e-03, 3.91e-03, 3.08e-03, 2.43e-03, 1.91e-03,\n",
       "         1.51e-03, 1.19e-03, 9.38e-04, 7.39e-04, 5.83e-04, 4.59e-04,\n",
       "         3.62e-04],\n",
       "        [1.33e+00, 1.13e+00, 8.88e-01, 6.99e-01, 5.51e-01, 4.35e-01,\n",
       "         3.43e-01, 2.70e-01, 2.13e-01, 1.68e-01, 1.32e-01, 1.04e-01,\n",
       "         8.22e-02, 6.48e-02, 5.11e-02, 4.03e-02, 3.18e-02, 2.50e-02,\n",
       "         1.97e-02, 1.56e-02, 1.23e-02, 9.67e-03, 7.62e-03, 6.01e-03,\n",
       "         4.74e-03, 3.73e-03, 2.94e-03, 2.32e-03, 1.83e-03, 1.44e-03,\n",
       "         1.14e-03]])"
      ]
     },
     "execution_count": 144,
     "metadata": {},
     "output_type": "execute_result"
    }
   ],
   "source": [
    "A=np.random.randint(0,5,(4,4)); A=A/np.linalg.norm(A)\n",
    "x=np.ones((4,1))\n",
    "y=A@x\n",
    "Xevi = np.bmat([[np.copy(x)],[np.copy(y)]])\n",
    "x=y\n",
    "for i in range(30):\n",
    "    y=A@x\n",
    "    Xevi = np.bmat([Xevi, np.bmat([[np.copy(x)],[np.copy(y)]])])\n",
    "    x=y\n",
    "\n",
    "np.set_printoptions(2)\n",
    "Xevi"
   ]
  },
  {
   "cell_type": "code",
   "execution_count": 145,
   "metadata": {},
   "outputs": [
    {
     "data": {
      "text/plain": [
       "(array([0.79+0.j  , 0.18+0.j  , 0.02+0.07j, 0.02-0.07j]),\n",
       " array([[ 0.59+0.j  , -0.78+0.j  ,  0.2 +0.18j,  0.2 -0.18j],\n",
       "        [ 0.25+0.j  ,  0.61+0.j  , -0.72+0.j  , -0.72-0.j  ],\n",
       "        [ 0.23+0.j  , -0.08+0.j  ,  0.26-0.24j,  0.26+0.24j],\n",
       "        [ 0.73+0.j  ,  0.11+0.j  ,  0.49+0.19j,  0.49-0.19j]]))"
      ]
     },
     "execution_count": 145,
     "metadata": {},
     "output_type": "execute_result"
    }
   ],
   "source": [
    "np.linalg.eig(A)"
   ]
  },
  {
   "cell_type": "code",
   "execution_count": 146,
   "metadata": {},
   "outputs": [
    {
     "data": {
      "text/plain": [
       "(matrix([[ 0.59+0.j  ,  0.16+0.22j,  0.16-0.22j, -0.78+0.j  ],\n",
       "         [ 0.25+0.j  , -0.7 -0.17j, -0.7 +0.17j,  0.61+0.j  ],\n",
       "         [ 0.23+0.j  ,  0.31-0.17j,  0.31+0.17j, -0.08+0.j  ],\n",
       "         [ 0.73+0.j  ,  0.43+0.31j,  0.43-0.31j,  0.11+0.j  ]]),\n",
       " array([0.79+0.j  , 0.02+0.07j, 0.02-0.07j, 0.18+0.j  ]))"
      ]
     },
     "execution_count": 146,
     "metadata": {},
     "output_type": "execute_result"
    }
   ],
   "source": [
    "GEDMD(Xevi[:4,:20], Xevi[4:,:20]) #iste sv. vrijednosti"
   ]
  },
  {
   "cell_type": "code",
   "execution_count": 147,
   "metadata": {},
   "outputs": [
    {
     "data": {
      "text/plain": [
       "array([0.79+0.j  , 0.02+0.07j, 0.02-0.07j, 0.18+0.j  ])"
      ]
     },
     "execution_count": 147,
     "metadata": {},
     "output_type": "execute_result"
    }
   ],
   "source": [
    "Z, Lambda, Q, L = fGEDMDQ_multiple_trajectories(Xevi[:4,:20], Xevi[4:,:20])\n",
    "Lambda #iste sv. vrij."
   ]
  },
  {
   "cell_type": "code",
   "execution_count": 152,
   "metadata": {},
   "outputs": [
    {
     "name": "stdout",
     "output_type": "stream",
     "text": [
      "4\n"
     ]
    }
   ],
   "source": [
    "Z, Lambda, Q, L = fDMD_added_snap(Xevi[:,20], Q, L)"
   ]
  },
  {
   "cell_type": "code",
   "execution_count": 153,
   "metadata": {},
   "outputs": [],
   "source": [
    "m=4\n",
    "indices = np.array([i for i in range(4)]); times=[i for i in range(31)]\n",
    "reconstructed=DMD_reconstruction(Xevi[:m,:], Z, indices, Lambda, times)"
   ]
  },
  {
   "cell_type": "code",
   "execution_count": 154,
   "metadata": {},
   "outputs": [
    {
     "data": {
      "text/plain": [
       "matrix([[ 2.08e-01, -4.29e-01, -4.54e-01, -3.72e-01, -2.96e-01,\n",
       "         -2.34e-01, -1.84e-01, -1.45e-01, -1.15e-01, -9.03e-02,\n",
       "         -7.12e-02, -5.61e-02, -4.42e-02, -3.49e-02, -2.75e-02,\n",
       "         -2.17e-02, -1.71e-02, -1.35e-02, -1.06e-02, -8.37e-03,\n",
       "         -6.60e-03, -5.20e-03, -4.10e-03, -3.23e-03, -2.55e-03,\n",
       "         -2.01e-03, -1.58e-03, -1.25e-03, -9.84e-04, -7.76e-04,\n",
       "         -6.11e-04],\n",
       "        [-4.39e-02, -9.10e-01, -7.32e-01, -5.93e-01, -4.72e-01,\n",
       "         -3.73e-01, -2.94e-01, -2.32e-01, -1.83e-01, -1.44e-01,\n",
       "         -1.13e-01, -8.95e-02, -7.05e-02, -5.56e-02, -4.38e-02,\n",
       "         -3.45e-02, -2.72e-02, -2.15e-02, -1.69e-02, -1.33e-02,\n",
       "         -1.05e-02, -8.29e-03, -6.54e-03, -5.15e-03, -4.06e-03,\n",
       "         -3.20e-03, -2.52e-03, -1.99e-03, -1.57e-03, -1.24e-03,\n",
       "         -9.75e-04],\n",
       "        [-7.07e-01, -9.51e-02, -9.36e-02, -7.35e-02, -5.71e-02,\n",
       "         -4.49e-02, -3.53e-02, -2.79e-02, -2.20e-02, -1.73e-02,\n",
       "         -1.36e-02, -1.08e-02, -8.48e-03, -6.69e-03, -5.27e-03,\n",
       "         -4.15e-03, -3.28e-03, -2.58e-03, -2.04e-03, -1.60e-03,\n",
       "         -1.26e-03, -9.97e-04, -7.86e-04, -6.20e-04, -4.88e-04,\n",
       "         -3.85e-04, -3.04e-04, -2.39e-04, -1.89e-04, -1.49e-04,\n",
       "         -1.17e-04],\n",
       "        [ 2.58e-01, -4.09e-01, -4.27e-01, -3.38e-01, -2.66e-01,\n",
       "         -2.10e-01, -1.66e-01, -1.31e-01, -1.03e-01, -8.11e-02,\n",
       "         -6.39e-02, -5.04e-02, -3.97e-02, -3.13e-02, -2.47e-02,\n",
       "         -1.95e-02, -1.53e-02, -1.21e-02, -9.54e-03, -7.52e-03,\n",
       "         -5.93e-03, -4.67e-03, -3.68e-03, -2.90e-03, -2.29e-03,\n",
       "         -1.80e-03, -1.42e-03, -1.12e-03, -8.84e-04, -6.97e-04,\n",
       "         -5.49e-04]])"
      ]
     },
     "execution_count": 154,
     "metadata": {},
     "output_type": "execute_result"
    }
   ],
   "source": [
    "reconstructed-Xevi[:m,:]"
   ]
  }
 ],
 "metadata": {
  "kernelspec": {
   "display_name": "myenv",
   "language": "python",
   "name": "python3"
  },
  "language_info": {
   "codemirror_mode": {
    "name": "ipython",
    "version": 3
   },
   "file_extension": ".py",
   "mimetype": "text/x-python",
   "name": "python",
   "nbconvert_exporter": "python",
   "pygments_lexer": "ipython3",
   "version": "3.7.16"
  }
 },
 "nbformat": 4,
 "nbformat_minor": 2
}

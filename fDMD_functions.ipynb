{
 "cells": [
  {
   "cell_type": "markdown",
   "metadata": {},
   "source": [
    "DMD FUNCTIONS - FAT matrix X - for ONLINE DMD comparison - Zhang, Rowley,..."
   ]
  },
  {
   "cell_type": "code",
   "execution_count": 1,
   "metadata": {},
   "outputs": [],
   "source": [
    "import numpy as np\n",
    "import scipy.io\n",
    "import matplotlib.pyplot as plt\n",
    "from scipy import linalg"
   ]
  },
  {
   "cell_type": "code",
   "execution_count": 2,
   "metadata": {},
   "outputs": [],
   "source": [
    "def fGEDMD(X, Y, tol=1e-12, type: str=None, k=-1, weights=None): \n",
    "    \"\"\"\n",
    "    type = \"exact\" if you want exact version, or None (/leave empty) if you don't want exact version. \n",
    "    Anything else set as type will do the non-exact version.\n",
    "    \"\"\"\n",
    "    m=X.shape[1]; N=X.shape[0]\n",
    "    D = np.linalg.norm(X, axis=0)\n",
    "    X = X/D; Y=Y/D\n",
    "    if(weights is not None):\n",
    "        X = X*weights; Y=Y*weights\n",
    "    U, Sigma, V = np.linalg.svd(X,full_matrices=False) \n",
    "    V=np.conjugate(V.T)\n",
    "    if(k==-1):\n",
    "        k=m\n",
    "        for i in range(1,min(N,m)):\n",
    "            if(Sigma[i]<=Sigma[0]*tol):\n",
    "                k=i\n",
    "                break\n",
    "    U = U[:, :k]; V=V[:, :k]; Sigma = np.array(Sigma[:k])\n",
    "    A = Y @ (V/Sigma) @ np.conjugate(U.T)\n",
    "    \"\"\"S_k = np.conjugate(U.T)@B_k ###nema potrebe za ovim! - direktno eig..\n",
    "    Lambda, W = np.linalg.eig(S_k)\n",
    "    Z = U@W\"\"\"\n",
    "    if(type==\"exact\"):\n",
    "        return \"nema jos exact implementacije...\"\n",
    "        Z = B_k@W\n",
    "    Lambda, Z = np.linalg.eig(A)\n",
    "    #print(A @ Z - ((np.multiply(Z, Lambda))))\n",
    "    r = np.linalg.norm(A @ Z - np.multiply(Z, Lambda), axis=0)\n",
    "    \n",
    "    return Z, Lambda, r"
   ]
  },
  {
   "cell_type": "code",
   "execution_count": 3,
   "metadata": {},
   "outputs": [],
   "source": [
    "def fGEDMDQ_multiple_trajectories(X, Y, tol=1e-12, type: str=None):\n",
    "    m = X.shape[0]\n",
    "    M = np.bmat([X.T, Y.T])\n",
    "    Q, L = np.linalg.qr(M)\n",
    "    #print(Q[:,:m].T@Q[:,:m]) #provjera ortogonalnosti\n",
    "    L = L.T\n",
    "    Z, Lambda, r = fGEDMD(L[:m,:m], L[m:,:m], tol, type)\n",
    "    return Z, Lambda, r, Q, L "
   ]
  },
  {
   "cell_type": "code",
   "execution_count": 4,
   "metadata": {},
   "outputs": [],
   "source": [
    "def givens_for_adding_fdmd(R):\n",
    "    M = R.shape[0]\n",
    "    Giv = np.eye(M, M)\n",
    "    for i in range(R.shape[1]):\n",
    "        x1 = R[i,i]\n",
    "        xz = R[M-1,i]\n",
    "        korijen = np.sqrt(x1**2+xz**2)\n",
    "        csn=x1/korijen; sn=-xz/korijen\n",
    "        G_m_kutevi = np.array([[csn, -sn], [sn, csn]])\n",
    "        Giv[[i,M-1], :] = (G_m_kutevi@Giv[[i,M-1], :])\n",
    "        R[[i,M-1],i:] = (G_m_kutevi@R[[i,M-1],i:]) \n",
    "    #provjereno R dobar i Giv ortogonalan.\n",
    "    return Giv.T[:,:-1], R[:-1,:]"
   ]
  },
  {
   "cell_type": "code",
   "execution_count": 5,
   "metadata": {},
   "outputs": [],
   "source": [
    "def fDMD_added_snap(v, Q, L, tol=1e-12, type: str=None, k=-1, weights=None, ngram=5):\n",
    "    #v tipa 1 x 2m => prvih m je zadnji element u Y, drugih m je novi element\n",
    "    # ngram - treba li tu reortogonalizacija? mislim da NE \n",
    "    m=Q.shape[1]//2; n=Q.shape[0]\n",
    "    R = np.bmat([[L.T],[v.T]])\n",
    "    #U, R = np.linalg.qr(R)\n",
    "    U, R = givens_for_adding_fdmd(R)\n",
    "    R=R.T #novi L - sad je R donjetrokutasta\n",
    "    Q = np.vstack((Q@U[:2*m,:],U[-1,:].reshape(1,-1)))\n",
    "    #novi Z i Lambda i r\n",
    "    Z, Lambda, r = fGEDMD(R[:m,:m], R[m:,:m], tol, type)\n",
    "    return Z, Lambda, r, Q, R"
   ]
  },
  {
   "cell_type": "code",
   "execution_count": 6,
   "metadata": {},
   "outputs": [],
   "source": [
    "def fDMD_discarding_snap(Q, L, num_out, tol=1e-12, type: str=None):\n",
    "    m=Q.shape[1]//2\n",
    "    #U, P = np.linalg.qr(Q[num_out:,:])\n",
    "    L = (P@L.T).T\n",
    "    Z, Lambda, r = fGEDMD(L[:m,:m], L[m:,:m], tol, type)\n",
    "    return Z, Lambda, r, U, L"
   ]
  },
  {
   "cell_type": "code",
   "execution_count": 147,
   "metadata": {},
   "outputs": [],
   "source": [
    "#ne radi dobro..\n",
    "def givens_for_removing(Q, R):\n",
    "    q_van = Q[0,:].reshape(-1,1)\n",
    "    #tu radim vektor e1\n",
    "    e1 = np.zeros(Q.shape[0]); e1[0]=1.0; e1=e1.reshape(-1,1)\n",
    "    v1 = e1-(Q@(Q.T@e1)) #mogu li umjesto Q.T@e1 odmah napisati q_van?\n",
    "    rho = np.linalg.norm(v1); print(rho)\n",
    "    q_novi = v1/rho; print(q_novi) #ovo je novi q, na prvom mjestu ce biti tocno rho (tj ortogonaliziran zadnji dodani stupac e1..)\n",
    "    #print(np.vstack((rho, q_novi))) #NE, q_novi ima na prvom mjestu rho!\n",
    "\n",
    "    #je li ortogonalno?  JE\n",
    "    \"\"\"\n",
    "    Q_nova_veca = np.hstack((Q,q_novi))\n",
    "    print(np.allclose(Q_nova_veca.T@Q_nova_veca, np.eye(Q_nova_veca.shape[1]))); print(Q_nova_veca.shape)\"\"\"\n",
    "\n",
    "    \n",
    "    Q_prosireno = np.hstack((Q,q_novi))\n",
    "    #print(Q_prosireno.T@Q_prosireno)\n",
    "\n",
    "    len_Q = Q.shape[1]; print(len_Q)\n",
    "    for i in range(len_Q-1, -1, -1):\n",
    "        print(i)\n",
    "        x1 = q_van[i,0]; #ok - uzela sam transponirano..\n",
    "        xz = Q_prosireno[0, len_Q]\n",
    "        korijen = np.sqrt(x1**2 + xz**2)\n",
    "        cs = xz/korijen; sn = x1/korijen\n",
    "        Q_prosireno.T[[i, len_Q],:] = np.array([[cs, -sn], [sn, cs]])@Q_prosireno.T[[i, len_Q],:]\n",
    "        #Q_prosireno[1:,[i, len_Q]] = ((Q_prosireno[1:,[i,len_Q]])@np.array([[cs, sn], [-sn, cs]]))\n",
    "        print(\"Q_pros ortg?\",np.allclose(Q_prosireno.T@Q_prosireno, np.eye(Q_prosireno.shape[1]))) #nije ortogonalno, krivo negdje!!!!\n",
    "    return Q_prosireno[1:,:-1]\n",
    "    "
   ]
  },
  {
   "cell_type": "code",
   "execution_count": 153,
   "metadata": {},
   "outputs": [
    {
     "name": "stdout",
     "output_type": "stream",
     "text": [
      "Q.shape (7, 4)\n",
      "0.7255818319281941\n",
      "[[ 0.72558183]\n",
      " [-0.06096196]\n",
      " [ 0.25251044]\n",
      " [-0.39755581]\n",
      " [-0.09245454]\n",
      " [ 0.13015876]\n",
      " [-0.47171321]]\n",
      "4\n",
      "3\n",
      "Q_pros ortg? True\n",
      "2\n",
      "Q_pros ortg? True\n",
      "1\n",
      "Q_pros ortg? True\n",
      "0\n",
      "Q_pros ortg? True\n",
      "[[-0.65853036 -0.16273405 -0.4194318   0.12152148]\n",
      " [-0.23567024  0.0449487  -0.09283606 -0.85659058]\n",
      " [-0.12841728  0.53656052  0.66873205 -0.04992969]\n",
      " [-0.14714565  0.64943687 -0.34631652  0.38175536]\n",
      " [-0.10429853  0.48128219 -0.25728099 -0.28432258]\n",
      " [-0.67954123 -0.17377935  0.42676368  0.14971858]]\n",
      "Je li Q rez ortogonalna? True\n",
      "[[-2.22044605e-16 -3.25468091e-01 -8.38863594e-01  2.43042963e-01]\n",
      " [ 0.00000000e+00  8.98973930e-02 -1.85672125e-01 -1.71318116e+00]\n",
      " [-2.77555756e-17  1.07312104e+00  1.33746409e+00 -9.98593784e-02]\n",
      " [-5.55111512e-17  1.29887374e+00 -6.92633042e-01  7.63510714e-01]\n",
      " [-1.38777878e-17  9.62564374e-01 -5.14561977e-01 -5.68645162e-01]\n",
      " [-1.11022302e-16 -3.47558701e-01  8.53527368e-01  2.99437159e-01]]\n"
     ]
    }
   ],
   "source": [
    "B = np.random.rand(7, 4)\n",
    "Q, R = np.linalg.qr(B)\n",
    "print(\"Q.shape\",Q.shape)\n",
    "Q_m = givens_for_removing(Q, R)\n",
    "print(Q_m)\n",
    "print(\"Je li Q rez ortogonalna?\",np.allclose(Q_m.T@Q_m, np.eye(Q_m.shape[1])))\n",
    "#print(Q_m.T@Q_m)\n",
    "Q_pravi,_ = np.linalg.qr(B[1:,:])\n",
    "\n",
    "print(Q_m - Q_pravi)"
   ]
  },
  {
   "cell_type": "code",
   "execution_count": null,
   "metadata": {},
   "outputs": [],
   "source": [
    "### Ovo bi trebalo biti isto?\n",
    "\n",
    "def DMD_alpha_for_reconstruction(X, Z, indices, L, weights=None):\n",
    "    \"\"\"X = snapshotovi - prvih m (bez m+1-vog) - dakle X, a ne S\n",
    "    Z = modes,\n",
    "    indices = indices which we want to work with - from 1/r graph\n",
    "    weights = np.array tip ili lista\"\"\"\n",
    "    #treba li se formirati Vandermondeova matrica?\n",
    "    if (indices == 'all'):\n",
    "        indices=np.array([i for i in range (Z.shape[1])])\n",
    "    m=X.shape[1]; l=indices.shape[0]\n",
    "    Z = Z[:,indices]\n",
    "    Q, R = np.linalg.qr(Z) # Q je tipa duljina_snapshota(N) x l, R je tipa lxl\n",
    "    if(weights is None):\n",
    "        weights=np.ones((m)).reshape(-1)\n",
    "    weights=np.array(weights)\n",
    "    pom=np.vander(L[indices], m, increasing=True)*weights\n",
    "    alpha= np.multiply(np.conj(R.T)@R, np.conj(pom @ np.conj(pom.T)))\n",
    "    G = (np.conj(Q.T) @ X)[:l, :]  \n",
    "    alpha = scipy.linalg.solve(alpha, np.multiply(np.conj(pom),(np.conj(R.T)@G))@np.ones((m, 1)), assume_a='pos')\n",
    "    #alpha = scipy.linalg.solve(alpha, np.multiply(np.conj(pom),(np.conj(R.T)@G*weights))@np.ones((m, 1)), assume_a='pos')\n",
    "    return Z, L[indices], alpha.reshape(-1)\n",
    "\n",
    "def DMD_reconstruction(X, Z, indices, L, times, weights=None, real=True): #mozda da prima vektor napraviti..\n",
    "    \"\"\"X = snapshotovi - prvih m (bez m+1-vog) - dakle X, a ne S,\n",
    "    Z = dmd modes (returned from some version of DMD, ex. GEDMDQ)\n",
    "    L = dmd eigs (returned from some version of DMD, ex. GEDMDQ)\n",
    "    time = integer, which datasnapshot you want to reconstruct/predict\"\"\"\n",
    "    Z_l, L, alpha = DMD_alpha_for_reconstruction(X, Z, indices, L, weights)\n",
    "    num=np.asarray(times).shape[0]\n",
    "    recs = np.empty((Z_l.shape[0], num), dtype='complex_')\n",
    "    for i in range(num):\n",
    "        recs[:,i] = Z_l@(L**(times[i])*alpha) #mislim da je times[i] jer ovdje krecemo od 0, za razliku od matlaba gdje krecemo od 1\n",
    "    if real:\n",
    "        return np.real(recs) #ako sve realno, ovo ce biti realno za svaki i, samo ce zapis biti u obliku kompleksnog; zato saljemo np.real(recs)!\n",
    "    else:\n",
    "        return recs"
   ]
  }
 ],
 "metadata": {
  "kernelspec": {
   "display_name": "myenv",
   "language": "python",
   "name": "python3"
  },
  "language_info": {
   "codemirror_mode": {
    "name": "ipython",
    "version": 3
   },
   "file_extension": ".py",
   "mimetype": "text/x-python",
   "name": "python",
   "nbconvert_exporter": "python",
   "pygments_lexer": "ipython3",
   "version": "3.7.16"
  }
 },
 "nbformat": 4,
 "nbformat_minor": 2
}

{
 "cells": [
  {
   "cell_type": "markdown",
   "metadata": {},
   "source": [
    "DMD FUNCTIONS - FAT matrix X - for ONLINE DMD comparison - Zhang, Rowley,..."
   ]
  },
  {
   "cell_type": "code",
   "execution_count": 2,
   "metadata": {},
   "outputs": [],
   "source": [
    "import numpy as np\n",
    "import scipy.io\n",
    "import matplotlib.pyplot as plt\n",
    "from scipy import linalg"
   ]
  },
  {
   "cell_type": "code",
   "execution_count": null,
   "metadata": {},
   "outputs": [],
   "source": [
    "def fGEDMD(X, Y, tol=1e-12, type: str=None, k=-1, weights=None): \n",
    "    \"\"\"\n",
    "    type = \"exact\" if you want exact version, or None (/leave empty) if you don't want exact version. \n",
    "    Anything else set as type will do the non-exact version.\n",
    "    \"\"\"\n",
    "    m=X.shape[1]; N=X.shape[0]\n",
    "    D = np.linalg.norm(X, axis=0)\n",
    "    X = X/D; Y=Y/D\n",
    "    if(weights is not None):\n",
    "        X = X*weights; Y=Y*weights\n",
    "    U, Sigma, V = np.linalg.svd(X,full_matrices=False) \n",
    "    V=np.conjugate(V.T)\n",
    "    if(k==-1):\n",
    "        k=m\n",
    "        for i in range(1,min(N,m)):\n",
    "            if(Sigma[i]<=Sigma[0]*tol):\n",
    "                k=i\n",
    "                break\n",
    "    U = U[:, :k]; V=V[:, :k]; Sigma = np.array(Sigma[:k])\n",
    "    A = Y @ (V/Sigma) @ np.conjugate(U.T)\n",
    "    \"\"\"S_k = np.conjugate(U.T)@B_k ###nema potrebe za ovim! - direktno eig..\n",
    "    Lambda, W = np.linalg.eig(S_k)\n",
    "    Z = U@W\"\"\"\n",
    "    if(type==\"exact\"):\n",
    "        return \"nema jos exact implementacije...\"\n",
    "        Z = B_k@W\n",
    "    Lambda, Z = np.linalg.eig(A)\n",
    "    #print(A @ Z - ((np.multiply(Z, Lambda))))\n",
    "    r = np.linalg.norm(A @ Z - np.multiply(Z, Lambda), axis=0)\n",
    "    \n",
    "    return Z, Lambda, r"
   ]
  },
  {
   "cell_type": "code",
   "execution_count": null,
   "metadata": {},
   "outputs": [],
   "source": [
    "def fGEDMDQ_multiple_trajectories(X, Y, tol=1e-12, type: str=None):\n",
    "    m = X.shape[0]\n",
    "    M = np.bmat([X.T, Y.T])\n",
    "    Q, L = np.linalg.qr(M)\n",
    "    #print(Q[:,:m].T@Q[:,:m]) #provjera ortogonalnosti\n",
    "    L = L.T\n",
    "    Z, Lambda, r = fGEDMD(L[:m,:m], L[m:,:m], tol, type)\n",
    "    return Z, Lambda, r, Q, L "
   ]
  },
  {
   "cell_type": "code",
   "execution_count": null,
   "metadata": {},
   "outputs": [],
   "source": [
    "def fDMD_added_snap(v, Q, L, tol=1e-12, type: str=None, k=-1, weights=None, ngram=5):\n",
    "    #v tipa 1 x 2m => prvih m je zadnji element u Y, drugih m je novi element\n",
    "    # ngram - treba li tu reortogonalizacija?\n",
    "    m=Q.shape[1]//2; n=Q.shape[0]\n",
    "    R = np.bmat([[L.T],[v.T]])\n",
    "    U, T = np.linalg.qr(R)\n",
    "    T=T.T #novi L - sad je T donjetrokutasto\n",
    "    Q = np.bmat([[Q@U[:2*m,:]],[U[-1,:]]])\n",
    "    #novi Z i Lambda i r\n",
    "    Z, Lambda, r = fGEDMD(T[:m,:m], T[m:,:m], tol, type)\n",
    "    return Z, Lambda, r, Q, T\n"
   ]
  },
  {
   "cell_type": "code",
   "execution_count": null,
   "metadata": {},
   "outputs": [],
   "source": [
    "### Ovo bi trebalo biti isto?\n",
    "\n",
    "def DMD_alpha_for_reconstruction(X, Z, indices, L, weights=None):\n",
    "    \"\"\"X = snapshotovi - prvih m (bez m+1-vog) - dakle X, a ne S\n",
    "    Z = modes,\n",
    "    indices = indices which we want to work with - from 1/r graph\n",
    "    weights = np.array tip ili lista\"\"\"\n",
    "    #treba li se formirati Vandermondeova matrica?\n",
    "    if (indices == 'all'):\n",
    "        indices=np.array([i for i in range (Z.shape[1])])\n",
    "    m=X.shape[1]; l=indices.shape[0]\n",
    "    Z = Z[:,indices]\n",
    "    Q, R = np.linalg.qr(Z) # Q je tipa duljina_snapshota(N) x l, R je tipa lxl\n",
    "    if(weights is None):\n",
    "        weights=np.ones((m)).reshape(-1)\n",
    "    weights=np.array(weights)\n",
    "    pom=np.vander(L[indices], m, increasing=True)*weights\n",
    "    alpha= np.multiply(np.conj(R.T)@R, np.conj(pom @ np.conj(pom.T)))\n",
    "    G = (np.conj(Q.T) @ X)[:l, :]  \n",
    "    alpha = scipy.linalg.solve(alpha, np.multiply(np.conj(pom),(np.conj(R.T)@G))@np.ones((m, 1)), assume_a='pos')\n",
    "    #alpha = scipy.linalg.solve(alpha, np.multiply(np.conj(pom),(np.conj(R.T)@G*weights))@np.ones((m, 1)), assume_a='pos')\n",
    "    return Z, L[indices], alpha.reshape(-1)\n",
    "\n",
    "def DMD_reconstruction(X, Z, indices, L, times, weights=None, real=True): #mozda da prima vektor napraviti..\n",
    "    \"\"\"X = snapshotovi - prvih m (bez m+1-vog) - dakle X, a ne S,\n",
    "    Z = dmd modes (returned from some version of DMD, ex. GEDMDQ)\n",
    "    L = dmd eigs (returned from some version of DMD, ex. GEDMDQ)\n",
    "    time = integer, which datasnapshot you want to reconstruct/predict\"\"\"\n",
    "    Z_l, L, alpha = DMD_alpha_for_reconstruction(X, Z, indices, L, weights)\n",
    "    num=np.asarray(times).shape[0]\n",
    "    recs = np.empty((Z_l.shape[0], num), dtype='complex_')\n",
    "    for i in range(num):\n",
    "        recs[:,i] = Z_l@(L**(times[i])*alpha) #mislim da je times[i] jer ovdje krecemo od 0, za razliku od matlaba gdje krecemo od 1\n",
    "    if real:\n",
    "        return np.real(recs) #ako sve realno, ovo ce biti realno za svaki i, samo ce zapis biti u obliku kompleksnog; zato saljemo np.real(recs)!\n",
    "    else:\n",
    "        return recs"
   ]
  }
 ],
 "metadata": {
  "kernelspec": {
   "display_name": "myenv",
   "language": "python",
   "name": "python3"
  },
  "language_info": {
   "codemirror_mode": {
    "name": "ipython",
    "version": 3
   },
   "file_extension": ".py",
   "mimetype": "text/x-python",
   "name": "python",
   "nbconvert_exporter": "python",
   "pygments_lexer": "ipython3",
   "version": "3.7.16"
  }
 },
 "nbformat": 4,
 "nbformat_minor": 2
}

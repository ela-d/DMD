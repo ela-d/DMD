{
 "cells": [
  {
   "cell_type": "markdown",
   "metadata": {},
   "source": [
    "DMD FUNCTIONS - FAT matrix X - for ONLINE DMD comparison - Zhang, Rowley,..."
   ]
  },
  {
   "cell_type": "code",
   "execution_count": 1,
   "metadata": {},
   "outputs": [],
   "source": [
    "import numpy as np\n",
    "import scipy.io\n",
    "import matplotlib.pyplot as plt\n",
    "from scipy import linalg"
   ]
  },
  {
   "cell_type": "code",
   "execution_count": 2,
   "metadata": {},
   "outputs": [],
   "source": [
    "def fGEDMD(X, Y, tol=1e-12, type: str=None, k=-1, weights=None): \n",
    "    \"\"\"\n",
    "    type = \"exact\" if you want exact version, or None (/leave empty) if you don't want exact version. \n",
    "    Anything else set as type will do the non-exact version.\n",
    "    \"\"\"\n",
    "    m=X.shape[1]; N=X.shape[0]\n",
    "    D = np.linalg.norm(X, axis=0)\n",
    "    X = X/D; Y=Y/D\n",
    "    if(weights is not None):\n",
    "        X = X*weights; Y=Y*weights\n",
    "    U, Sigma, V = np.linalg.svd(X,full_matrices=False) \n",
    "    V=np.conjugate(V.T)\n",
    "    if(k==-1):\n",
    "        k=m\n",
    "        for i in range(1,min(N,m)):\n",
    "            if(Sigma[i]<=Sigma[0]*tol):\n",
    "                k=i\n",
    "                break\n",
    "    U = U[:, :k]; V=V[:, :k]; Sigma = np.array(Sigma[:k])\n",
    "    A = Y @ (V/Sigma) @ np.conjugate(U.T)\n",
    "    \"\"\"S_k = np.conjugate(U.T)@B_k ###nema potrebe za ovim! - direktno eig..\n",
    "    Lambda, W = np.linalg.eig(S_k)\n",
    "    Z = U@W\"\"\"\n",
    "    if(type==\"exact\"):\n",
    "        return \"nema jos exact implementacije...\"\n",
    "        Z = B_k@W\n",
    "    Lambda, Z = np.linalg.eig(A)\n",
    "    #print(A @ Z - ((np.multiply(Z, Lambda))))\n",
    "    r = np.linalg.norm(A @ Z - np.multiply(Z, Lambda), axis=0)\n",
    "    \n",
    "    return Z, Lambda, r"
   ]
  },
  {
   "cell_type": "code",
   "execution_count": 3,
   "metadata": {},
   "outputs": [],
   "source": [
    "def fGEDMDQ_multiple_trajectories(X, Y, tol=1e-12, type: str=None):\n",
    "    m = X.shape[0]\n",
    "    M = np.bmat([X.T, Y.T])\n",
    "    Q, L = np.linalg.qr(M)\n",
    "    #print(Q[:,:m].T@Q[:,:m]) #provjera ortogonalnosti\n",
    "    L = L.T\n",
    "    Z, Lambda, r = fGEDMD(L[:m,:m], L[m:,:m], tol, type)\n",
    "    return Z, Lambda, r, Q, L "
   ]
  },
  {
   "cell_type": "code",
   "execution_count": 4,
   "metadata": {},
   "outputs": [],
   "source": [
    "def givens_for_adding_fdmd(R):\n",
    "    M = R.shape[0]\n",
    "    Giv = np.eye(M, M)\n",
    "    for i in range(R.shape[1]):\n",
    "        x1 = R[i,i]\n",
    "        xz = R[M-1,i]\n",
    "        korijen = np.sqrt(x1**2+xz**2)\n",
    "        csn=x1/korijen; sn=-xz/korijen\n",
    "        G_m_kutevi = np.array([[csn, -sn], [sn, csn]])\n",
    "        Giv[[i,M-1], :] = (G_m_kutevi@Giv[[i,M-1], :])\n",
    "        R[[i,M-1],i:] = (G_m_kutevi@R[[i,M-1],i:]) \n",
    "    #provjereno R dobar i Giv ortogonalan.\n",
    "    return Giv.T[:,:-1], R[:-1,:]"
   ]
  },
  {
   "cell_type": "code",
   "execution_count": 5,
   "metadata": {},
   "outputs": [],
   "source": [
    "def fDMD_added_snap(v, Q, L, tol=1e-12, type: str=None, k=-1, weights=None, ngram=5):\n",
    "    #v tipa 1 x 2m => prvih m je zadnji element u Y, drugih m je novi element\n",
    "    # ngram - treba li tu reortogonalizacija? mislim da NE \n",
    "    m=Q.shape[1]//2; n=Q.shape[0]\n",
    "    R = np.bmat([[L.T],[v.T]])\n",
    "    #U, R = np.linalg.qr(R)\n",
    "    U, R = givens_for_adding_fdmd(R)\n",
    "    R=R.T #novi L - sad je R donjetrokutasta\n",
    "    Q = np.vstack((Q@U[:2*m,:],U[-1,:].reshape(1,-1)))\n",
    "    #novi Z i Lambda i r\n",
    "    Z, Lambda, r = fGEDMD(R[:m,:m], R[m:,:m], tol, type)\n",
    "    return Z, Lambda, r, Q, R"
   ]
  },
  {
   "cell_type": "code",
   "execution_count": 6,
   "metadata": {},
   "outputs": [],
   "source": [
    "def fDMD_discarding_snap(Q, L, num_out, tol=1e-12, type: str=None):\n",
    "    m=Q.shape[1]//2\n",
    "    #U, P = np.linalg.qr(Q[num_out:,:])\n",
    "    L = (P@L.T).T\n",
    "    Z, Lambda, r = fGEDMD(L[:m,:m], L[m:,:m], tol, type)\n",
    "    return Z, Lambda, r, U, L"
   ]
  },
  {
   "cell_type": "code",
   "execution_count": 179,
   "metadata": {},
   "outputs": [],
   "source": [
    "#ne radi dobro..\n",
    "def givens_for_removing(Q, R):\n",
    "    q_van = Q[0,:].reshape(-1,1)\n",
    "    #tu radim vektor e1\n",
    "    e1 = np.zeros(Q.shape[0]); e1[0]=1.0; e1=e1.reshape(-1,1)\n",
    "    v1 = e1-(Q@(Q.T@e1)) #mogu li umjesto Q.T@e1 odmah napisati q_van?\n",
    "    rho = np.linalg.norm(v1)\n",
    "    q_novi = v1/rho #print(q_novi) #ovo je novi q, na prvom mjestu ce biti tocno rho (tj ortogonaliziran zadnji dodani stupac e1..)\n",
    "    #print(np.vstack((rho, q_novi))) #NE, q_novi ima na prvom mjestu rho!\n",
    "\n",
    "    #je li ortogonalno?  JE\n",
    "    \"\"\"\n",
    "    Q_nova_veca = np.hstack((Q,q_novi))\n",
    "    print(np.allclose(Q_nova_veca.T@Q_nova_veca, np.eye(Q_nova_veca.shape[1]))); print(Q_nova_veca.shape)\"\"\"\n",
    "\n",
    "    \n",
    "    Q_prosireno = np.hstack((Q,q_novi))\n",
    "    #print(Q_prosireno.T@Q_prosireno)\n",
    "    R_prosireno = np.vstack((R, np.zeros((1,R.shape[1]))))\n",
    "\n",
    "    len_Q = Q.shape[1]; print(len_Q)\n",
    "    for i in range(len_Q-1, -1, -1):\n",
    "        #print(i)\n",
    "        x1 = q_van[i,0]; #ok - uzela sam transponirano..\n",
    "        xz = Q_prosireno[0, len_Q]\n",
    "        korijen = np.sqrt(x1**2 + xz**2)\n",
    "        cs = xz/korijen; sn = x1/korijen\n",
    "        Q_prosireno[:,[i, len_Q]] = Q_prosireno[:,[i, len_Q]]@np.array([[cs, sn], [-sn, cs]])\n",
    "        #Q_prosireno[1:,[i, len_Q]] = ((Q_prosireno[1:,[i,len_Q]])@np.array([[cs, sn], [-sn, cs]]))\n",
    "        #print(\"Q_pros ortg?\",np.allclose(Q_prosireno.T@Q_prosireno, np.eye(Q_prosireno.shape[1]))) #ortogonalno:)\n",
    "        \n",
    "        #na R radim isto to slijeva.\n",
    "        R_prosireno[[i,len_Q],:] = np.array([[cs, -sn], [sn, cs]])@R_prosireno[[i, len_Q], :]\n",
    "        #print(R_prosireno)\n",
    "    return Q_prosireno[1:,:-1], R_prosireno[:-1,:]\n",
    "    "
   ]
  },
  {
   "cell_type": "code",
   "execution_count": 180,
   "metadata": {},
   "outputs": [
    {
     "name": "stdout",
     "output_type": "stream",
     "text": [
      "Q.shape (7, 4)\n",
      "4\n",
      "je li Q_m,R_m dobro True\n",
      "Je li Q rez ortogonalna? True\n",
      "[[ 1.00000000e+00 -7.69155104e-17  1.28938193e-16 -1.29725191e-16]\n",
      " [ 6.90144031e-17 -1.00000000e+00 -1.06257293e-17 -1.57508907e-17]\n",
      " [-1.07936366e-16 -7.76146624e-17  1.00000000e+00  4.89211062e-17]\n",
      " [ 3.42428955e-16  1.93920831e-17  2.08271604e-16  1.00000000e+00]]\n"
     ]
    }
   ],
   "source": [
    "B = np.random.rand(7, 4)\n",
    "Q, R = np.linalg.qr(B)\n",
    "print(\"Q.shape\",Q.shape)\n",
    "Q_m, R_m = givens_for_removing(Q, R)\n",
    "\n",
    "print(\"je li Q_m,R_m dobro\", np.allclose(B[1:,:]-Q_m@R_m, np.zeros((Q_m.shape[0], R_m.shape[1]))))\n",
    "#print(Q_m)\n",
    "print(\"Je li Q rez ortogonalna?\",np.allclose(Q_m.T@Q_m, np.eye(Q_m.shape[1])))\n",
    "#print(Q_m.T@Q_m)\n",
    "Q_pravi,_ = np.linalg.qr(B[1:,:])\n",
    "\n",
    "print(Q_m.T@Q_pravi) #imaju ortogonalne stupce, sve isto, sve ok :)"
   ]
  },
  {
   "cell_type": "code",
   "execution_count": null,
   "metadata": {},
   "outputs": [],
   "source": [
    "### Ovo bi trebalo biti isto?\n",
    "\n",
    "def DMD_alpha_for_reconstruction(X, Z, indices, L, weights=None):\n",
    "    \"\"\"X = snapshotovi - prvih m (bez m+1-vog) - dakle X, a ne S\n",
    "    Z = modes,\n",
    "    indices = indices which we want to work with - from 1/r graph\n",
    "    weights = np.array tip ili lista\"\"\"\n",
    "    #treba li se formirati Vandermondeova matrica?\n",
    "    if (indices == 'all'):\n",
    "        indices=np.array([i for i in range (Z.shape[1])])\n",
    "    m=X.shape[1]; l=indices.shape[0]\n",
    "    Z = Z[:,indices]\n",
    "    Q, R = np.linalg.qr(Z) # Q je tipa duljina_snapshota(N) x l, R je tipa lxl\n",
    "    if(weights is None):\n",
    "        weights=np.ones((m)).reshape(-1)\n",
    "    weights=np.array(weights)\n",
    "    pom=np.vander(L[indices], m, increasing=True)*weights\n",
    "    alpha= np.multiply(np.conj(R.T)@R, np.conj(pom @ np.conj(pom.T)))\n",
    "    G = (np.conj(Q.T) @ X)[:l, :]  \n",
    "    alpha = scipy.linalg.solve(alpha, np.multiply(np.conj(pom),(np.conj(R.T)@G))@np.ones((m, 1)), assume_a='pos')\n",
    "    #alpha = scipy.linalg.solve(alpha, np.multiply(np.conj(pom),(np.conj(R.T)@G*weights))@np.ones((m, 1)), assume_a='pos')\n",
    "    return Z, L[indices], alpha.reshape(-1)\n",
    "\n",
    "def DMD_reconstruction(X, Z, indices, L, times, weights=None, real=True): #mozda da prima vektor napraviti..\n",
    "    \"\"\"X = snapshotovi - prvih m (bez m+1-vog) - dakle X, a ne S,\n",
    "    Z = dmd modes (returned from some version of DMD, ex. GEDMDQ)\n",
    "    L = dmd eigs (returned from some version of DMD, ex. GEDMDQ)\n",
    "    time = integer, which datasnapshot you want to reconstruct/predict\"\"\"\n",
    "    Z_l, L, alpha = DMD_alpha_for_reconstruction(X, Z, indices, L, weights)\n",
    "    num=np.asarray(times).shape[0]\n",
    "    recs = np.empty((Z_l.shape[0], num), dtype='complex_')\n",
    "    for i in range(num):\n",
    "        recs[:,i] = Z_l@(L**(times[i])*alpha) #mislim da je times[i] jer ovdje krecemo od 0, za razliku od matlaba gdje krecemo od 1\n",
    "    if real:\n",
    "        return np.real(recs) #ako sve realno, ovo ce biti realno za svaki i, samo ce zapis biti u obliku kompleksnog; zato saljemo np.real(recs)!\n",
    "    else:\n",
    "        return recs"
   ]
  }
 ],
 "metadata": {
  "kernelspec": {
   "display_name": "myenv",
   "language": "python",
   "name": "python3"
  },
  "language_info": {
   "codemirror_mode": {
    "name": "ipython",
    "version": 3
   },
   "file_extension": ".py",
   "mimetype": "text/x-python",
   "name": "python",
   "nbconvert_exporter": "python",
   "pygments_lexer": "ipython3",
   "version": "3.7.16"
  }
 },
 "nbformat": 4,
 "nbformat_minor": 2
}

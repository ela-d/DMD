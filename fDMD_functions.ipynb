{
 "cells": [
  {
   "cell_type": "markdown",
   "metadata": {},
   "source": [
    "DMD FUNCTIONS - FAT matrix X - for ONLINE DMD comparison - Zhang, Rowley,..."
   ]
  },
  {
   "cell_type": "code",
   "execution_count": 68,
   "metadata": {},
   "outputs": [],
   "source": [
    "import numpy as np\n",
    "import scipy.io\n",
    "import matplotlib.pyplot as plt\n",
    "from scipy import linalg"
   ]
  },
  {
   "cell_type": "code",
   "execution_count": 69,
   "metadata": {},
   "outputs": [],
   "source": [
    "def GEDMD(X, Y, tol=1e-12, type: str=None, k=-1, weights=None): \n",
    "    \"\"\"\n",
    "    type = \"exact\" if you want exact version, or None (/leave empty) if you don't want exact version. \n",
    "    Anything else set as type will do the non-exact version.\n",
    "    \"\"\"\n",
    "    m=X.shape[1]; N=X.shape[0]\n",
    "    D = np.linalg.norm(X, axis=0)\n",
    "    X = X/D; Y=Y/D\n",
    "    if(weights is not None):\n",
    "        X = X*weights; Y=Y*weights\n",
    "    U, Sigma, V = np.linalg.svd(X,full_matrices=False) \n",
    "    V=np.conjugate(V.T)\n",
    "    if(k==-1):\n",
    "        k=m\n",
    "        for i in range(1,min(N,m)):\n",
    "            if(Sigma[i]<=Sigma[0]*tol):\n",
    "                k=i\n",
    "                break\n",
    "    U = U[:, :k]; V=V[:, :k]; Sigma = np.array(Sigma[:k])\n",
    "    B_k = Y @ (V/Sigma)\n",
    "    S_k = np.conjugate(U.T)@B_k\n",
    "    Lambda, W = np.linalg.eig(S_k)\n",
    "    Z = U@W\n",
    "    if(type==\"exact\"):\n",
    "        Z = B_k@W\n",
    "    #r = np.linalg.norm(B_k@W - Z*Lambda, axis=0)\n",
    "    r = np.linalg.norm(B_k@W - Lambda*Z, axis=0)\n",
    "\n",
    "    return Z, Lambda, r\n",
    "    return Z, Lambda"
   ]
  },
  {
   "cell_type": "code",
   "execution_count": 70,
   "metadata": {},
   "outputs": [],
   "source": [
    "def fGEDMDQ_multiple_trajectories(X, Y, tol=1e-12, type: str=None):\n",
    "    m = X.shape[0]\n",
    "    M = np.bmat([X.T, Y.T])\n",
    "    Q, L = np.linalg.qr(M)\n",
    "    L = L.T\n",
    "    Z, Lambda, r = GEDMD(L[:m,:m], L[m:,:m], tol, type)\n",
    "    #Z, Lambda= GEDMD(L[:m,:m], L[m:,:m], tol, type)\n",
    "    return Z, Lambda, r, Q, L \n",
    "    return Z, Lambda, Q, L"
   ]
  },
  {
   "cell_type": "code",
   "execution_count": 71,
   "metadata": {},
   "outputs": [],
   "source": [
    "def fDMD_added_snap(v, Q, L, tol=1e-12, type: str=None, k=-1, weights=None, ngram=5):\n",
    "    #v tipa 1 x 2m => prvih m je zadnji element u Y, drugih m je novi element\n",
    "    # ngram - treba li tu reortogonalizacija?\n",
    "    m=Q.shape[1]//2; n=Q.shape[0]\n",
    "    print(m)\n",
    "    R = np.bmat([[L.T],[v.T]])\n",
    "    U, T = np.linalg.qr(R)\n",
    "    T=T.T #novi L - sad je T donjetrokutasto\n",
    "    Q = np.bmat([[Q@U[:2*m,:]],[U[-1,:]]])\n",
    "    #novi Z i Lambda i r\n",
    "    Z, Lambda, r = GEDMD(T[:m,:m], T[m:,:m], tol, type)\n",
    "    return Z, Lambda, r, Q, T\n",
    "    return Z, Lambda, Q, T\n",
    "\n"
   ]
  },
  {
   "cell_type": "code",
   "execution_count": 72,
   "metadata": {},
   "outputs": [],
   "source": [
    "### Ovo bi trebalo biti isto?\n",
    "\n",
    "def DMD_alpha_for_reconstruction(X, Z, indices, L, weights=None):\n",
    "    \"\"\"X = snapshotovi - prvih m (bez m+1-vog) - dakle X, a ne S\n",
    "    Z = modes,\n",
    "    indices = indices which we want to work with - from 1/r graph\n",
    "    weights = np.array tip ili lista\"\"\"\n",
    "    #treba li se formirati Vandermondeova matrica?\n",
    "    m=X.shape[1]; l=indices.shape[0]\n",
    "    Z = Z[:,indices]\n",
    "    Q, R = np.linalg.qr(Z) # Q je tipa duljina_snapshota(N) x l, R je tipa lxl\n",
    "    if(weights is None):\n",
    "        weights=np.ones((m)).reshape(-1)\n",
    "    weights=np.array(weights)\n",
    "    pom=np.vander(L[indices], m, increasing=True)*weights\n",
    "    alpha= np.multiply(np.conj(R.T)@R, np.conj(pom @ np.conj(pom.T)))\n",
    "    G = (np.conj(Q.T) @ X)[:l, :]  \n",
    "    alpha = scipy.linalg.solve(alpha, np.multiply(np.conj(pom),(np.conj(R.T)@G))@np.ones((m, 1)), assume_a='pos')\n",
    "    #alpha = scipy.linalg.solve(alpha, np.multiply(np.conj(pom),(np.conj(R.T)@G*weights))@np.ones((m, 1)), assume_a='pos')\n",
    "    return Z, L[indices], alpha.reshape(-1)\n",
    "\n",
    "def DMD_reconstruction(X, Z, indices, L, times, weights=None, real=True): #mozda da prima vektor napraviti..\n",
    "    \"\"\"X = snapshotovi - prvih m (bez m+1-vog) - dakle X, a ne S,\n",
    "    Z = dmd modes (returned from some version of DMD, ex. GEDMDQ)\n",
    "    L = dmd eigs (returned from some version of DMD, ex. GEDMDQ)\n",
    "    time = integer, which datasnapshot you want to reconstruct/predict\"\"\"\n",
    "    Z_l, L, alpha = DMD_alpha_for_reconstruction(X, Z, indices, L, weights)\n",
    "    num=np.asarray(times).shape[0]\n",
    "    recs = np.empty((Z_l.shape[0], num), dtype='complex_')\n",
    "    for i in range(num):\n",
    "        recs[:,i] = Z_l@(L**(times[i])*alpha) #mislim da je times[i] jer ovdje krecemo od 0, za razliku od matlaba gdje krecemo od 1\n",
    "    if real:\n",
    "        return np.real(recs) #ako sve realno, ovo ce biti realno za svaki i, samo ce zapis biti u obliku kompleksnog; zato saljemo np.real(recs)!\n",
    "    else:\n",
    "        return recs\n"
   ]
  },
  {
   "cell_type": "markdown",
   "metadata": {},
   "source": [
    "JEDNOSTAVNA PROVJERA"
   ]
  },
  {
   "cell_type": "code",
   "execution_count": 73,
   "metadata": {},
   "outputs": [
    {
     "data": {
      "text/plain": [
       "matrix([[1.  , 0.52, 0.39, 0.32, 0.27, 0.24, 0.21, 0.18, 0.16, 0.14,\n",
       "         0.12, 0.11, 0.09, 0.08, 0.07, 0.06, 0.05, 0.05, 0.04, 0.04,\n",
       "         0.03, 0.03, 0.02, 0.02, 0.02, 0.02, 0.01, 0.01, 0.01, 0.01,\n",
       "         0.01],\n",
       "        [1.  , 0.97, 0.88, 0.77, 0.68, 0.59, 0.52, 0.45, 0.39, 0.34,\n",
       "         0.3 , 0.26, 0.23, 0.2 , 0.17, 0.15, 0.13, 0.12, 0.1 , 0.09,\n",
       "         0.08, 0.07, 0.06, 0.05, 0.05, 0.04, 0.03, 0.03, 0.03, 0.02,\n",
       "         0.02],\n",
       "        [1.  , 1.14, 0.99, 0.87, 0.76, 0.66, 0.58, 0.5 , 0.44, 0.38,\n",
       "         0.34, 0.29, 0.26, 0.22, 0.2 , 0.17, 0.15, 0.13, 0.11, 0.1 ,\n",
       "         0.09, 0.08, 0.07, 0.06, 0.05, 0.04, 0.04, 0.03, 0.03, 0.03,\n",
       "         0.02],\n",
       "        [1.  , 0.87, 0.81, 0.72, 0.63, 0.55, 0.48, 0.42, 0.37, 0.32,\n",
       "         0.28, 0.24, 0.21, 0.19, 0.16, 0.14, 0.12, 0.11, 0.09, 0.08,\n",
       "         0.07, 0.06, 0.05, 0.05, 0.04, 0.04, 0.03, 0.03, 0.02, 0.02,\n",
       "         0.02],\n",
       "        [0.52, 0.39, 0.32, 0.27, 0.24, 0.21, 0.18, 0.16, 0.14, 0.12,\n",
       "         0.11, 0.09, 0.08, 0.07, 0.06, 0.05, 0.05, 0.04, 0.04, 0.03,\n",
       "         0.03, 0.02, 0.02, 0.02, 0.02, 0.01, 0.01, 0.01, 0.01, 0.01,\n",
       "         0.01],\n",
       "        [0.97, 0.88, 0.77, 0.68, 0.59, 0.52, 0.45, 0.39, 0.34, 0.3 ,\n",
       "         0.26, 0.23, 0.2 , 0.17, 0.15, 0.13, 0.12, 0.1 , 0.09, 0.08,\n",
       "         0.07, 0.06, 0.05, 0.05, 0.04, 0.03, 0.03, 0.03, 0.02, 0.02,\n",
       "         0.02],\n",
       "        [1.14, 0.99, 0.87, 0.76, 0.66, 0.58, 0.5 , 0.44, 0.38, 0.34,\n",
       "         0.29, 0.26, 0.22, 0.2 , 0.17, 0.15, 0.13, 0.11, 0.1 , 0.09,\n",
       "         0.08, 0.07, 0.06, 0.05, 0.04, 0.04, 0.03, 0.03, 0.03, 0.02,\n",
       "         0.02],\n",
       "        [0.87, 0.81, 0.72, 0.63, 0.55, 0.48, 0.42, 0.37, 0.32, 0.28,\n",
       "         0.24, 0.21, 0.19, 0.16, 0.14, 0.12, 0.11, 0.09, 0.08, 0.07,\n",
       "         0.06, 0.05, 0.05, 0.04, 0.04, 0.03, 0.03, 0.02, 0.02, 0.02,\n",
       "         0.02]])"
      ]
     },
     "execution_count": 73,
     "metadata": {},
     "output_type": "execute_result"
    }
   ],
   "source": [
    "A=np.random.rand(4,4); A=A/np.linalg.norm(A)\n",
    "x=np.ones((4,1))\n",
    "y=A@x\n",
    "Xevi = np.bmat([[np.copy(x)],[np.copy(y)]])\n",
    "x=y\n",
    "for i in range(30):\n",
    "    y=A@x\n",
    "    Xevi = np.bmat([Xevi, np.bmat([[np.copy(x)],[np.copy(y)]])])\n",
    "    x=y\n",
    "\n",
    "np.set_printoptions(2)\n",
    "Xevi"
   ]
  },
  {
   "cell_type": "code",
   "execution_count": 74,
   "metadata": {},
   "outputs": [
    {
     "data": {
      "text/plain": [
       "(array([ 0.87,  0.25, -0.05, -0.14]),\n",
       " array([[ 0.22,  0.83, -0.32, -0.18],\n",
       "        [ 0.55, -0.33,  0.19, -0.29],\n",
       "        [ 0.62, -0.12,  0.74,  0.81],\n",
       "        [ 0.51, -0.44, -0.56, -0.48]]))"
      ]
     },
     "execution_count": 74,
     "metadata": {},
     "output_type": "execute_result"
    }
   ],
   "source": [
    "np.linalg.eig(A)"
   ]
  },
  {
   "cell_type": "code",
   "execution_count": 75,
   "metadata": {},
   "outputs": [
    {
     "data": {
      "text/plain": [
       "(matrix([[-0.22, -0.83,  0.32, -0.18],\n",
       "         [-0.55,  0.33, -0.19, -0.29],\n",
       "         [-0.62,  0.12, -0.74,  0.81],\n",
       "         [-0.51,  0.44,  0.56, -0.48]]),\n",
       " array([ 0.87,  0.25, -0.05, -0.14]),\n",
       " array([0.45, 1.44, 0.39, 0.44]))"
      ]
     },
     "execution_count": 75,
     "metadata": {},
     "output_type": "execute_result"
    }
   ],
   "source": [
    "GEDMD(Xevi[:4,:20], Xevi[4:,:20]) #iste sv. vrijednosti"
   ]
  },
  {
   "cell_type": "code",
   "execution_count": 76,
   "metadata": {},
   "outputs": [
    {
     "data": {
      "text/plain": [
       "array([0.47, 1.38, 0.66, 0.61])"
      ]
     },
     "execution_count": 76,
     "metadata": {},
     "output_type": "execute_result"
    }
   ],
   "source": [
    "Z, Lambda, r, Q, L = fGEDMDQ_multiple_trajectories(Xevi[:4,:20], Xevi[4:,:20])\n",
    "Lambda #iste sv. vrij.\n",
    "r"
   ]
  },
  {
   "cell_type": "code",
   "execution_count": 78,
   "metadata": {},
   "outputs": [
    {
     "name": "stdout",
     "output_type": "stream",
     "text": [
      "4\n"
     ]
    }
   ],
   "source": [
    "Z, Lambda, r, Q, L = fDMD_added_snap(Xevi[:,20], Q, L)"
   ]
  },
  {
   "cell_type": "code",
   "execution_count": 81,
   "metadata": {},
   "outputs": [
    {
     "data": {
      "text/plain": [
       "array([0.47, 1.38, 0.66, 0.61])"
      ]
     },
     "execution_count": 81,
     "metadata": {},
     "output_type": "execute_result"
    }
   ],
   "source": [
    "r"
   ]
  },
  {
   "cell_type": "code",
   "execution_count": 79,
   "metadata": {},
   "outputs": [],
   "source": [
    "m=4\n",
    "indices = np.array([i for i in range(4)]); times=[i for i in range(31)]\n",
    "reconstructed=DMD_reconstruction(Xevi[:m,:], Z, indices, Lambda, times)"
   ]
  },
  {
   "cell_type": "code",
   "execution_count": 80,
   "metadata": {},
   "outputs": [
    {
     "data": {
      "text/plain": [
       "matrix([[ 8.88e-16,  1.11e-16, -1.11e-16, -1.11e-16, -5.55e-17,\n",
       "         -2.78e-17, -2.78e-17, -5.55e-17, -5.55e-17, -2.78e-17,\n",
       "         -1.39e-17, -1.39e-17, -1.39e-17,  0.00e+00,  0.00e+00,\n",
       "         -6.94e-18,  0.00e+00,  0.00e+00,  0.00e+00,  0.00e+00,\n",
       "          3.47e-18,  6.94e-18,  6.94e-18,  3.47e-18,  6.94e-18,\n",
       "          6.94e-18,  3.47e-18,  3.47e-18,  1.73e-18,  3.47e-18,\n",
       "          3.47e-18],\n",
       "        [-1.11e-16,  3.33e-16,  1.11e-16,  2.22e-16,  1.11e-16,\n",
       "          0.00e+00,  1.11e-16,  1.11e-16,  1.11e-16,  1.11e-16,\n",
       "          1.67e-16,  5.55e-17,  1.39e-16,  5.55e-17,  8.33e-17,\n",
       "          5.55e-17,  1.11e-16,  8.33e-17,  5.55e-17,  6.94e-17,\n",
       "          5.55e-17,  6.94e-17,  4.86e-17,  4.16e-17,  4.86e-17,\n",
       "          2.78e-17,  2.78e-17,  2.43e-17,  2.43e-17,  2.08e-17,\n",
       "          2.08e-17],\n",
       "        [ 0.00e+00,  0.00e+00,  4.44e-16,  3.33e-16,  3.33e-16,\n",
       "          2.22e-16,  3.33e-16,  2.22e-16,  2.22e-16,  2.78e-16,\n",
       "          1.67e-16,  1.67e-16,  2.22e-16,  1.39e-16,  1.67e-16,\n",
       "          5.55e-17,  1.39e-16,  1.11e-16,  8.33e-17,  8.33e-17,\n",
       "          6.94e-17,  6.94e-17,  6.94e-17,  6.25e-17,  6.25e-17,\n",
       "          4.86e-17,  3.47e-17,  3.47e-17,  3.12e-17,  3.12e-17,\n",
       "          3.12e-17],\n",
       "        [-2.22e-16,  4.44e-16,  2.22e-16,  2.22e-16,  2.22e-16,\n",
       "          2.22e-16,  1.67e-16,  1.67e-16,  5.55e-17,  1.67e-16,\n",
       "          1.11e-16,  8.33e-17,  1.11e-16,  8.33e-17,  8.33e-17,\n",
       "          1.11e-16,  8.33e-17,  6.94e-17,  5.55e-17,  5.55e-17,\n",
       "          5.55e-17,  5.55e-17,  4.16e-17,  4.86e-17,  4.16e-17,\n",
       "          2.78e-17,  3.47e-17,  2.08e-17,  2.43e-17,  2.08e-17,\n",
       "          2.08e-17]])"
      ]
     },
     "execution_count": 80,
     "metadata": {},
     "output_type": "execute_result"
    }
   ],
   "source": [
    "reconstructed-Xevi[:m,:]"
   ]
  }
 ],
 "metadata": {
  "kernelspec": {
   "display_name": "myenv",
   "language": "python",
   "name": "python3"
  },
  "language_info": {
   "codemirror_mode": {
    "name": "ipython",
    "version": 3
   },
   "file_extension": ".py",
   "mimetype": "text/x-python",
   "name": "python",
   "nbconvert_exporter": "python",
   "pygments_lexer": "ipython3",
   "version": "3.7.16"
  }
 },
 "nbformat": 4,
 "nbformat_minor": 2
}

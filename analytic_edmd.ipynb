{
 "cells": [
  {
   "cell_type": "code",
   "execution_count": 41,
   "id": "6030b8dc",
   "metadata": {},
   "outputs": [],
   "source": [
    "import numpy as np\n",
    "from scipy.linalg import eig, logm\n",
    "import matplotlib.pyplot as plt"
   ]
  },
  {
   "cell_type": "code",
   "execution_count": null,
   "id": "5b0ce40c",
   "metadata": {},
   "outputs": [
    {
     "data": {
      "text/plain": [
       "\"def estimate_degree(basis_func):\\n    \\n    #Helper function to estimate the degree of a basis function.\\n    #This is a placeholder - you'll need to implement this based on your specific basis functions.\\n    \\n    # This is a simple example - you'll need to modify based on your basis\\n    if hasattr(basis_func, '__name__'):\\n        if 'linear' in basis_func.__name__:\\n            return 1\\n        elif 'quadratic' in basis_func.__name__:\\n            return 2\\n    return 1  # Default to degree 1\""
      ]
     },
     "execution_count": 85,
     "metadata": {},
     "output_type": "execute_result"
    }
   ],
   "source": [
    "def analytic_edmd(X, Y, equilibrium_point, kernel_func, basis_funcs, degrees, on=False, delta_t=None, continuous_time=False):\n",
    "    \"\"\"\n",
    "    Implementation of Analytic EDMD Algorithm\n",
    "    \n",
    "    Parameters:\n",
    "    -----------\n",
    "    X, Y tipa m x n (m je broj podataka)\n",
    "    equilibrium_point : array-like\n",
    "        The equilibrium point x*\n",
    "    kernel_func : function\n",
    "        The Taylor-type kernel function k\n",
    "    basis_funcs : list of functions\n",
    "        Basis of (weighted) monomials {e_i}\n",
    "    degrees: number\n",
    "        degrees for each of the basis functions\n",
    "    on: bool,\n",
    "        Whether basis is orthonormal (True) or not (False)\n",
    "    delta_t : float, optional\n",
    "        Sampling time for continuous-time systems\n",
    "    continuous_time : bool, optional\n",
    "        Whether to treat as continuous-time system\n",
    "    \n",
    "    Returns:\n",
    "    --------\n",
    "    K : ndarray\n",
    "        Koopman matrix approximation\n",
    "    S : list\n",
    "        Set of Koopman eigenvalues\n",
    "    v_coeffs : dict\n",
    "        Dictionary of Taylor coefficients for principal eigenfunctions\n",
    "    \"\"\"\n",
    "    \n",
    "    # 1\n",
    "    equilibrium_point = equilibrium_point.reshape(1,-1)\n",
    "    X = X-equilibrium_point\n",
    "    Y = Y-equilibrium_point\n",
    "    M = X.shape[0]\n",
    "    N = len(basis_funcs)\n",
    "    \n",
    "    # 2 - kreiram G\n",
    "    G = np.zeros((M, M))\n",
    "    for i in range(M):\n",
    "        for j in range(M):\n",
    "            G[i, j] = kernel_func(X[i,:], X[j,:])\n",
    "    print(\"G:\",G)\n",
    "    \n",
    "    # 3 - kreiram X i Y (tj B_X i B_Y)\n",
    "    B_X = np.zeros((M, N))\n",
    "    B_Y = np.zeros((M, N))\n",
    "    for i in range(M):\n",
    "        for j in range(N):\n",
    "            B_X[i, j] = basis_funcs[j](X[i,:])\n",
    "            B_Y[i, j] = basis_funcs[j](Y[i,:])\n",
    "    \n",
    "    # 4 - racunam K\n",
    "    G_inv = np.linalg.pinv(G)\n",
    "    if(on):\n",
    "        K = B_X.T @ G_inv @ B_Y\n",
    "    else:\n",
    "        K = np.linalg.pinv(B_X.T @ G_inv @ B_X) @ (B_X.T @ G_inv @ B_Y)    \n",
    "    \n",
    "    print(\"K.shape:\", K.shape)\n",
    "    print(K)\n",
    "    # Determine the block structure based on polynomial degrees\n",
    "    # This assumes the basis is ordered by increasing degree\n",
    "    # You may need to modify this based on your specific basis ordering\n",
    "\n",
    "    #### trebalo bi input stupnja...\n",
    "    \"\"\" block_indices = [0]\n",
    "    current_degree = 0\n",
    "    for i, f in enumerate(basis_funcs):\n",
    "        if degrees[i] > current_degree:\n",
    "            block_indices.append(i)\n",
    "            current_degree = estimate_degree(f)\n",
    "    block_indices.append(N)\"\"\"\n",
    "    \n",
    "    # Step 5-7: Compute Koopman eigenvalues\n",
    "    S = []\n",
    "    degrees=np.array(degrees)\n",
    "    max_degree=np.max(degrees)\n",
    "    for r in range(1,max_degree+1):\n",
    "        indices = np.where(degrees == r)[0]\n",
    "        K_rr = K[np.ix_(indices, indices)]\n",
    "        print(\"indices, K_rr:\",indices, K_rr)\n",
    "        eigvals = np.linalg.eigvals(K_rr)\n",
    "        S.extend(eigvals) #extend - da nadopunim s listom \n",
    "    \n",
    "    if continuous_time and delta_t is not None:\n",
    "        # Step 8: Convert to continuous-time eigenvalues\n",
    "        S = [np.log(mu)/delta_t for mu in S if mu != 0]  # maknemo nule, ali lose..\n",
    "    \n",
    "    # Steps 9-15: Compute principal Koopman eigenfunctions\n",
    "    # Start with first block\n",
    "    indices = np.where(degrees == 1)[0]\n",
    "    K_11 = K[np.ix_(indices, indices)]\n",
    "    eigvals_11, eigvecs_11 = eig(K_11)\n",
    "    \n",
    "    n = len(indices) # Dimension of first block\n",
    "    v_coeffs = []\n",
    "    all_v = []\n",
    "    for j in range(n):\n",
    "        mu_j = eigvals_11[j]\n",
    "        w_j = eigvecs_11[:, j]\n",
    "\n",
    "        # Initialize coefficients\n",
    "       \n",
    "        all_v.append([])\n",
    "        v_coeffs=all_v[-1]\n",
    "\n",
    "        v_coeffs.append(w_j)\n",
    "        #print(\"v_coeffs\", v_coeffs, len(v_coeffs), v_coeffs[0][1])\n",
    "        \n",
    "        # Recursively compute coefficients for higher degree blocks\n",
    "        for r in range(2, max_degree+1):\n",
    "            indices_r = np.where(degrees==r)[0]\n",
    "            K_rr = K[np.ix_(indices_r, indices_r)]\n",
    "            \n",
    "            # Compute the sum term\n",
    "            sum_term = np.zeros(len(indices_r), dtype=complex)\n",
    "            for s in range(1,r):\n",
    "                indices_s = np.where(degrees==s)[0]\n",
    "                K_rs = K[np.ix_(indices_r, indices_s)]\n",
    "                #print(\"K_rs.shape, v_coeffs[j][s+1].shape:\",K_rs.shape, v_coeffs[j][s+1].shape)\n",
    "                sum_term += K_rs @ v_coeffs[s-1]\n",
    "            \n",
    "            \n",
    "            print(indices_r)\n",
    "            # Solve for v_r^(j)\n",
    "            try:\n",
    "                sum_term = np.linalg.solve(K_rr - mu_j * np.eye(len(indices_r)), sum_term)\n",
    "            except np.linalg.LinAlgError:\n",
    "                # Use least squares if matrix is singular\n",
    "                sum_term = np.linalg.lstsq(K_rr - mu_j * np.eye(len(indices_r)), sum_term, rcond=None)[0]\n",
    "\n",
    "            v_coeffs.append(sum_term)\n",
    "            print(v_coeffs)\n",
    "        all_v[-1] = v_coeffs\n",
    "\n",
    "    return K, S, all_v\n",
    "\n",
    "\"\"\"def estimate_degree(basis_func):\n",
    "    \n",
    "    #Helper function to estimate the degree of a basis function.\n",
    "    #This is a placeholder - you'll need to implement this based on your specific basis functions.\n",
    "    \n",
    "    # This is a simple example - you'll need to modify based on your basis\n",
    "    if hasattr(basis_func, '__name__'):\n",
    "        if 'linear' in basis_func.__name__:\n",
    "            return 1\n",
    "        elif 'quadratic' in basis_func.__name__:\n",
    "            return 2\n",
    "    return 1  # Default to degree 1\"\"\""
   ]
  },
  {
   "cell_type": "code",
   "execution_count": 80,
   "id": "40039b8a",
   "metadata": {},
   "outputs": [],
   "source": [
    "# Example usage with simple polynomial basis\n",
    "\n",
    "# Define a simple kernel function (linear kernel for example)\n",
    "def linear_kernel(x, y):\n",
    "    return np.dot(x, y)\n",
    "\n",
    "# Define simple monomial basis functions\n",
    "def e1(x): return 1.0\n",
    "def e2(x): return x[0]\n",
    "def e3(x): return x[1]\n",
    "def e4(x): return x[0]**2\n",
    "def e5(x): return x[0]*x[1]\n",
    "def e6(x): return x[1]**2\n",
    "\n",
    "basis = [e1, e2, e3, e4, e5, e6]\n",
    "\n",
    "X = np.array([0.3,0.7]).reshape(-1,1)\n",
    "A = np.diag((0.6, 0.8))\n",
    "A[0,1] = 0.3\n",
    "\n",
    "M=10\n",
    "for i in range(M):\n",
    "    X = np.hstack((X, A@(X[:,-1].reshape(-1,1))))\n",
    "\n",
    "Y = X[:,1:].T\n",
    "X = X[:,:-1].T\n"
   ]
  },
  {
   "cell_type": "code",
   "execution_count": 68,
   "id": "fb88d978",
   "metadata": {},
   "outputs": [
    {
     "data": {
      "text/plain": [
       "(10, 2)"
      ]
     },
     "execution_count": 68,
     "metadata": {},
     "output_type": "execute_result"
    }
   ],
   "source": [
    "X.shape"
   ]
  },
  {
   "cell_type": "code",
   "execution_count": 81,
   "id": "400111e2",
   "metadata": {},
   "outputs": [
    {
     "name": "stdout",
     "output_type": "stream",
     "text": [
      "G: [[0.58       0.509      0.4342     0.36356    0.300568   0.2462864\n",
      "  0.20052832 0.16252218 0.13127745 0.10577779]\n",
      " [0.509      0.4657     0.40766    0.347188   0.2903864  0.23989072\n",
      "  0.19646154 0.1598986  0.12955651 0.10462778]\n",
      " [0.4342     0.40766    0.362308   0.3115544  0.26226832 0.21762954\n",
      "  0.17879256 0.1458474  0.11836594 0.09570556]\n",
      " [0.36356    0.347188   0.3115544  0.26952592 0.22779018 0.1895338\n",
      "  0.15600804 0.12743503 0.10352519 0.08376644]\n",
      " [0.300568   0.2903864  0.26226832 0.22779018 0.19301745 0.16088515\n",
      "  0.13259083 0.10840229 0.08811961 0.07133435]\n",
      " [0.2462864  0.23989072 0.21762954 0.1895338  0.16088515 0.13426298\n",
      "  0.1107433  0.09059439 0.07367537 0.0596602 ]\n",
      " [0.20052832 0.19646154 0.17879256 0.15600804 0.13259083 0.1107433\n",
      "  0.09139703 0.07479905 0.0608481  0.04928379]\n",
      " [0.16252218 0.1598986  0.1458474  0.12743503 0.10840229 0.09059439\n",
      "  0.07479905 0.06123336 0.04982316 0.04036041]\n",
      " [0.13127745 0.12955651 0.11836594 0.10352519 0.08811961 0.07367537\n",
      "  0.0608481  0.04982316 0.04054534 0.03284836]\n",
      " [0.10577779 0.10462778 0.09570556 0.08376644 0.07133435 0.0596602\n",
      "  0.04928379 0.04036041 0.03284836 0.0266147 ]]\n",
      "K.shape: (6, 6)\n",
      "[[ 0.91852008  0.15580689  0.03089619  0.0217806  -0.01756277 -0.06470048]\n",
      " [ 0.24036803  0.07378077  0.0749887   0.02477037  0.02621667  0.02917586]\n",
      " [ 0.03862024  0.21570447  0.42523453  0.1217571   0.19450689  0.28944007]\n",
      " [ 0.07181715  0.02916742  0.03684322  0.01151642  0.01448254  0.01866736]\n",
      " [ 0.01395814  0.07282394  0.1432781   0.04103807  0.06550423  0.09743513]\n",
      " [-0.1010945   0.1630274   0.36180009  0.10170192  0.17012773  0.25880369]]\n",
      "indices, K_rr: [1 2] [[0.07378077 0.0749887 ]\n",
      " [0.21570447 0.42523453]]\n",
      "indices, K_rr: [3 4 5] [[0.01151642 0.01448254 0.01866736]\n",
      " [0.04103807 0.06550423 0.09743513]\n",
      " [0.10170192 0.17012773 0.25880369]]\n",
      "[3 4 5]\n",
      "[array([-0.87645393,  0.48148574]), array([ 0.35603786+0.j,  0.1819652 +0.j, -0.1584817 +0.j])]\n",
      "[3 4 5]\n",
      "[array([-0.18759092, -0.98224724]), array([0.24564414+0.j, 1.11285258+0.j, 2.89110256+0.j])]\n",
      "Koopman matrix approximation:\n",
      "[[ 0.91852008  0.15580689  0.03089619  0.0217806  -0.01756277 -0.06470048]\n",
      " [ 0.24036803  0.07378077  0.0749887   0.02477037  0.02621667  0.02917586]\n",
      " [ 0.03862024  0.21570447  0.42523453  0.1217571   0.19450689  0.28944007]\n",
      " [ 0.07181715  0.02916742  0.03684322  0.01151642  0.01448254  0.01866736]\n",
      " [ 0.01395814  0.07282394  0.1432781   0.04103807  0.06550423  0.09743513]\n",
      " [-0.1010945   0.1630274   0.36180009  0.10170192  0.17012773  0.25880369]]\n",
      "\n",
      "Koopman eigenvalues:\n",
      "[0.03258523846936562, 0.46643006734574743, 0.33093411032466685, 0.004890226502746083, -1.299592435887172e-17]\n",
      "\n",
      "Eigenfunction coefficients:\n",
      "[[array([-0.87645393,  0.48148574]), array([ 0.35603786+0.j,  0.1819652 +0.j, -0.1584817 +0.j])], [array([-0.18759092, -0.98224724]), array([0.24564414+0.j, 1.11285258+0.j, 2.89110256+0.j])]]\n"
     ]
    }
   ],
   "source": [
    "K, eigenvalues, eigenfunction_coeffs = analytic_edmd(\n",
    "    X, Y,\n",
    "    equilibrium_point=np.array([0.0, 0.0]),\n",
    "    kernel_func=linear_kernel,\n",
    "    basis_funcs=basis,\n",
    "    degrees=np.array([0,1,1,2,2,2]),\n",
    "    delta_t=0.1,\n",
    "    continuous_time=False\n",
    ")\n",
    "\n",
    "print(\"Koopman matrix approximation:\")\n",
    "print(K)\n",
    "print(\"\\nKoopman eigenvalues:\")\n",
    "print(eigenvalues)\n",
    "print(\"\\nEigenfunction coefficients:\")\n",
    "print(eigenfunction_coeffs)"
   ]
  },
  {
   "cell_type": "code",
   "execution_count": 64,
   "id": "82661a17",
   "metadata": {},
   "outputs": [
    {
     "data": {
      "text/plain": [
       "array([ 0.00000000e+00,  9.21047889e-01,  5.90391096e-01, -7.67402490e-17,\n",
       "        6.31835874e-17,  2.85757855e-18])"
      ]
     },
     "execution_count": 64,
     "metadata": {},
     "output_type": "execute_result"
    }
   ],
   "source": [
    "np.linalg.eigvals(K)"
   ]
  },
  {
   "cell_type": "code",
   "execution_count": 65,
   "id": "1481f863",
   "metadata": {},
   "outputs": [
    {
     "data": {
      "text/plain": [
       "<matplotlib.legend.Legend at 0x15e229d9c88>"
      ]
     },
     "execution_count": 65,
     "metadata": {},
     "output_type": "execute_result"
    },
    {
     "data": {
      "image/png": "[encoded data removed]",
      "text/plain": [
       "<Figure size 720x576 with 1 Axes>"
      ]
     },
     "metadata": {
      "needs_background": "light"
     },
     "output_type": "display_data"
    }
   ],
   "source": [
    "fig = plt.figure(figsize=(10,8))\n",
    "plt.scatter(np.real(np.linalg.eigvals(A)), np.imag(np.linalg.eigvals(A)), s=150, label=\"true eigs\")\n",
    "plt.scatter(np.real(eigenvalues), np.imag(eigenvalues), s=80, label=\"analytic eigs\")\n",
    "plt.scatter(np.real(np.linalg.eigvals(K)), np.imag(np.linalg.eigvals(K)), label=\"eigs directly from K\", s=20)\n",
    "plt.grid()\n",
    "plt.legend()"
   ]
  }
 ],
 "metadata": {
  "kernelspec": {
   "display_name": "myenv",
   "language": "python",
   "name": "python3"
  },
  "language_info": {
   "codemirror_mode": {
    "name": "ipython",
    "version": 3
   },
   "file_extension": ".py",
   "mimetype": "text/x-python",
   "name": "python",
   "nbconvert_exporter": "python",
   "pygments_lexer": "ipython3",
   "version": "3.7.16"
  }
 },
 "nbformat": 4,
 "nbformat_minor": 5
}
